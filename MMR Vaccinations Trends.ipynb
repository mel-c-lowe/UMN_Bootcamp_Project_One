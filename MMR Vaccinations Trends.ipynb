{
 "cells": [
  {
   "cell_type": "code",
   "execution_count": null,
   "metadata": {},
   "outputs": [],
   "source": [
    "import matplotlib.pyplot as plt\n",
    "import pandas as pd\n",
    "import numpy as np\n",
    "import requests\n",
    "import time\n",
    "from scipy.stats import linregress"
   ]
  },
  {
   "cell_type": "code",
   "execution_count": null,
   "metadata": {},
   "outputs": [],
   "source": [
    "measles_raw_data = pd.read_csv(\"measles - measles.csv\")\n",
    "measles_raw_data.head()\n",
    "measles_raw_data.groupby(\"year\").count()"
   ]
  },
  {
   "cell_type": "code",
   "execution_count": null,
   "metadata": {},
   "outputs": [],
   "source": [
    "measles_clean = measles_raw_data.drop(columns=[\"xper\", \"xmed\", \"xrel\", \"district\", \"year\", \"county\", \"enroll\"])\n",
    "# measles_clean = measles_clean.dropna()\n",
    "\n",
    "measles_clean.dtypes"
   ]
  },
  {
   "cell_type": "code",
   "execution_count": null,
   "metadata": {},
   "outputs": [],
   "source": [
    "# neg_count = measles_clean.loc[[\"mmr\" == \"-1\"]]\n",
    "# len(neg_count)\n",
    "\n",
    "measles_clean['mmr'].value_counts()\n",
    "measles_clean['overall'].value_counts()"
   ]
  },
  {
   "cell_type": "code",
   "execution_count": null,
   "metadata": {},
   "outputs": [],
   "source": [
    "measles_clean = measles_clean.loc[measles_clean[\"mmr\"] >= 0]\n",
    "measles_clean = measles_clean.loc[measles_clean[\"overall\"] >= 0]\n",
    "measles_clean"
   ]
  },
  {
   "cell_type": "code",
   "execution_count": null,
   "metadata": {},
   "outputs": [],
   "source": [
    "measles_clean[\"type\"].fillna(\"Other\", inplace = True)\n",
    "measles_clean"
   ]
  },
  {
   "cell_type": "code",
   "execution_count": null,
   "metadata": {},
   "outputs": [],
   "source": [
    "school_type = measles_clean.groupby('type')\n",
    "\n",
    "count_school_type = school_type['type'].count()\n",
    "count_school_type"
   ]
  },
  {
   "cell_type": "code",
   "execution_count": null,
   "metadata": {},
   "outputs": [],
   "source": [
    "school_type_pie = count_school_type.plot(kind=\"pie\", figsize = (8,8), subplots=True, fontsize=15, autopct='%0.1f%%', \\\n",
    "                                         labels=['Kindergarten', 'Other', 'Private', 'Public'], title=['School Type']) \n",
    "# school_type_pie.set_ylabel(\"Types of Schools\")\n",
    "# plt.axis('equal') \n",
    "# plt.title('Type of School')\n",
    "\n",
    "plt.show()                           \n",
    "plt.tight_layout()\n",
    "# type_vals = type_count['type']\n",
    "# type_labels = type_count['index']"
   ]
  },
  {
   "cell_type": "code",
   "execution_count": null,
   "metadata": {},
   "outputs": [],
   "source": [
    "state_percents = measles_clean.groupby('state')\n",
    "\n",
    "count_state_percents = state_percents['type'].count()\n",
    "count_state_percents"
   ]
  },
  {
   "cell_type": "code",
   "execution_count": null,
   "metadata": {},
   "outputs": [],
   "source": [
    "school_type_pie = count_state_percents.plot(kind=\"pie\", figsize = (8,8), subplots=True, fontsize=14, autopct='%0.1f%%', \\\n",
    "                                         labels=['California', 'Colorado', 'Ohio', 'Oregon', 'Vermont', 'Washington'], \\\n",
    "                                         title=['Number of Schools by State']) \n",
    "\n",
    "# texts[0].set_fonsize(4)\n",
    "plt.show()                           \n",
    "plt.tight_layout()"
   ]
  }
 ],
 "metadata": {
  "kernelspec": {
   "display_name": "Python 3",
   "language": "python",
   "name": "python3"
  },
  "language_info": {
   "codemirror_mode": {
    "name": "ipython",
    "version": 3
   },
   "file_extension": ".py",
   "mimetype": "text/x-python",
   "name": "python",
   "nbconvert_exporter": "python",
   "pygments_lexer": "ipython3",
   "version": "3.6.10"
  }
 },
 "nbformat": 4,
 "nbformat_minor": 4
}
