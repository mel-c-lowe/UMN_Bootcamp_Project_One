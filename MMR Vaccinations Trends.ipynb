{
 "cells": [
  {
   "cell_type": "code",
   "execution_count": 1,
   "metadata": {},
   "outputs": [],
   "source": [
    "import matplotlib.pyplot as plt\n",
    "import pandas as pd\n",
    "import numpy as np\n",
    "import requests\n",
    "import time\n",
    "from scipy.stats import linregress"
   ]
  },
  {
   "cell_type": "code",
   "execution_count": 2,
   "metadata": {},
   "outputs": [
    {
     "name": "stderr",
     "output_type": "stream",
     "text": [
      "C:\\Users\\trvaughn\\anaconda3\\envs\\PythonData\\lib\\site-packages\\IPython\\core\\interactiveshell.py:3072: DtypeWarning: Columns (4,11) have mixed types.Specify dtype option on import or set low_memory=False.\n",
      "  interactivity=interactivity, compiler=compiler, result=result)\n"
     ]
    },
    {
     "data": {
      "text/html": [
       "<div>\n",
       "<style scoped>\n",
       "    .dataframe tbody tr th:only-of-type {\n",
       "        vertical-align: middle;\n",
       "    }\n",
       "\n",
       "    .dataframe tbody tr th {\n",
       "        vertical-align: top;\n",
       "    }\n",
       "\n",
       "    .dataframe thead th {\n",
       "        text-align: right;\n",
       "    }\n",
       "</style>\n",
       "<table border=\"1\" class=\"dataframe\">\n",
       "  <thead>\n",
       "    <tr style=\"text-align: right;\">\n",
       "      <th></th>\n",
       "      <th>index</th>\n",
       "      <th>state</th>\n",
       "      <th>name</th>\n",
       "      <th>type</th>\n",
       "      <th>city</th>\n",
       "      <th>county</th>\n",
       "      <th>district</th>\n",
       "      <th>enroll</th>\n",
       "      <th>mmr</th>\n",
       "      <th>overall</th>\n",
       "      <th>xrel</th>\n",
       "      <th>xmed</th>\n",
       "      <th>xper</th>\n",
       "      <th>lat</th>\n",
       "      <th>lng</th>\n",
       "    </tr>\n",
       "    <tr>\n",
       "      <th>year</th>\n",
       "      <th></th>\n",
       "      <th></th>\n",
       "      <th></th>\n",
       "      <th></th>\n",
       "      <th></th>\n",
       "      <th></th>\n",
       "      <th></th>\n",
       "      <th></th>\n",
       "      <th></th>\n",
       "      <th></th>\n",
       "      <th></th>\n",
       "      <th></th>\n",
       "      <th></th>\n",
       "      <th></th>\n",
       "      <th></th>\n",
       "    </tr>\n",
       "  </thead>\n",
       "  <tbody>\n",
       "    <tr>\n",
       "      <th>2017</th>\n",
       "      <td>1939</td>\n",
       "      <td>1939</td>\n",
       "      <td>1939</td>\n",
       "      <td>0</td>\n",
       "      <td>1939</td>\n",
       "      <td>0</td>\n",
       "      <td>0</td>\n",
       "      <td>1939</td>\n",
       "      <td>1939</td>\n",
       "      <td>1939</td>\n",
       "      <td>0</td>\n",
       "      <td>0</td>\n",
       "      <td>0</td>\n",
       "      <td>1939</td>\n",
       "      <td>1939</td>\n",
       "    </tr>\n",
       "    <tr>\n",
       "      <th>2017-18</th>\n",
       "      <td>10418</td>\n",
       "      <td>10418</td>\n",
       "      <td>10418</td>\n",
       "      <td>7183</td>\n",
       "      <td>6060</td>\n",
       "      <td>10390</td>\n",
       "      <td>0</td>\n",
       "      <td>4970</td>\n",
       "      <td>10418</td>\n",
       "      <td>10418</td>\n",
       "      <td>9</td>\n",
       "      <td>1829</td>\n",
       "      <td>2698</td>\n",
       "      <td>10410</td>\n",
       "      <td>10410</td>\n",
       "    </tr>\n",
       "    <tr>\n",
       "      <th>2018-19</th>\n",
       "      <td>48075</td>\n",
       "      <td>48075</td>\n",
       "      <td>48075</td>\n",
       "      <td>22308</td>\n",
       "      <td>34573</td>\n",
       "      <td>43788</td>\n",
       "      <td>0</td>\n",
       "      <td>40900</td>\n",
       "      <td>48075</td>\n",
       "      <td>48075</td>\n",
       "      <td>84</td>\n",
       "      <td>17723</td>\n",
       "      <td>4483</td>\n",
       "      <td>46539</td>\n",
       "      <td>46539</td>\n",
       "    </tr>\n",
       "  </tbody>\n",
       "</table>\n",
       "</div>"
      ],
      "text/plain": [
       "         index  state   name   type   city  county  district  enroll    mmr  \\\n",
       "year                                                                          \n",
       "2017      1939   1939   1939      0   1939       0         0    1939   1939   \n",
       "2017-18  10418  10418  10418   7183   6060   10390         0    4970  10418   \n",
       "2018-19  48075  48075  48075  22308  34573   43788         0   40900  48075   \n",
       "\n",
       "         overall  xrel   xmed  xper    lat    lng  \n",
       "year                                               \n",
       "2017        1939     0      0     0   1939   1939  \n",
       "2017-18    10418     9   1829  2698  10410  10410  \n",
       "2018-19    48075    84  17723  4483  46539  46539  "
      ]
     },
     "execution_count": 2,
     "metadata": {},
     "output_type": "execute_result"
    }
   ],
   "source": [
    "measles_raw_data = pd.read_csv(\"measles - measles.csv\")\n",
    "measles_raw_data.head()\n",
    "measles_raw_data.groupby(\"year\").count()"
   ]
  },
  {
   "cell_type": "code",
   "execution_count": 3,
   "metadata": {},
   "outputs": [
    {
     "data": {
      "text/plain": [
       "index        int64\n",
       "state       object\n",
       "name        object\n",
       "type        object\n",
       "city        object\n",
       "mmr        float64\n",
       "overall    float64\n",
       "lat        float64\n",
       "lng        float64\n",
       "dtype: object"
      ]
     },
     "execution_count": 3,
     "metadata": {},
     "output_type": "execute_result"
    }
   ],
   "source": [
    "measles_clean = measles_raw_data.drop(columns=[\"xper\", \"xmed\", \"xrel\", \"district\", \"year\", \"county\", \"enroll\"])\n",
    "# measles_clean = measles_clean.dropna()\n",
    "\n",
    "measles_clean.dtypes"
   ]
  },
  {
   "cell_type": "code",
   "execution_count": 4,
   "metadata": {},
   "outputs": [
    {
     "data": {
      "text/plain": [
       "-1.000000      27224\n",
       " 98.000000      5191\n",
       " 100.000000     3619\n",
       " 95.000000      3051\n",
       " 99.000000      1764\n",
       "               ...  \n",
       " 90.140845         1\n",
       " 96.020000         1\n",
       " 43.640000         1\n",
       " 98.098859         1\n",
       " 90.052356         1\n",
       "Name: overall, Length: 2691, dtype: int64"
      ]
     },
     "execution_count": 4,
     "metadata": {},
     "output_type": "execute_result"
    }
   ],
   "source": [
    "# neg_count = measles_clean.loc[[\"mmr\" == \"-1\"]]\n",
    "# len(neg_count)\n",
    "\n",
    "measles_clean['mmr'].value_counts()\n",
    "measles_clean['overall'].value_counts()"
   ]
  },
  {
   "cell_type": "code",
   "execution_count": 5,
   "metadata": {},
   "outputs": [
    {
     "data": {
      "text/html": [
       "<div>\n",
       "<style scoped>\n",
       "    .dataframe tbody tr th:only-of-type {\n",
       "        vertical-align: middle;\n",
       "    }\n",
       "\n",
       "    .dataframe tbody tr th {\n",
       "        vertical-align: top;\n",
       "    }\n",
       "\n",
       "    .dataframe thead th {\n",
       "        text-align: right;\n",
       "    }\n",
       "</style>\n",
       "<table border=\"1\" class=\"dataframe\">\n",
       "  <thead>\n",
       "    <tr style=\"text-align: right;\">\n",
       "      <th></th>\n",
       "      <th>index</th>\n",
       "      <th>state</th>\n",
       "      <th>name</th>\n",
       "      <th>type</th>\n",
       "      <th>city</th>\n",
       "      <th>mmr</th>\n",
       "      <th>overall</th>\n",
       "      <th>lat</th>\n",
       "      <th>lng</th>\n",
       "    </tr>\n",
       "  </thead>\n",
       "  <tbody>\n",
       "    <tr>\n",
       "      <th>2018</th>\n",
       "      <td>1</td>\n",
       "      <td>California</td>\n",
       "      <td>Abby Reinke Elementary</td>\n",
       "      <td>Public</td>\n",
       "      <td>Temecula</td>\n",
       "      <td>99.00</td>\n",
       "      <td>96.00</td>\n",
       "      <td>33.492008</td>\n",
       "      <td>-117.087291</td>\n",
       "    </tr>\n",
       "    <tr>\n",
       "      <th>2019</th>\n",
       "      <td>2</td>\n",
       "      <td>California</td>\n",
       "      <td>Abraham Lincoln Elementary</td>\n",
       "      <td>Public</td>\n",
       "      <td>Santa Ana</td>\n",
       "      <td>99.00</td>\n",
       "      <td>99.00</td>\n",
       "      <td>33.741155</td>\n",
       "      <td>-117.902009</td>\n",
       "    </tr>\n",
       "    <tr>\n",
       "      <th>2020</th>\n",
       "      <td>2</td>\n",
       "      <td>California</td>\n",
       "      <td>Abraham Lincoln Elementary</td>\n",
       "      <td>Public</td>\n",
       "      <td>Santa Ana</td>\n",
       "      <td>99.00</td>\n",
       "      <td>99.00</td>\n",
       "      <td>34.077328</td>\n",
       "      <td>-117.317020</td>\n",
       "    </tr>\n",
       "    <tr>\n",
       "      <th>2021</th>\n",
       "      <td>2</td>\n",
       "      <td>California</td>\n",
       "      <td>Abraham Lincoln Elementary</td>\n",
       "      <td>Public</td>\n",
       "      <td>Santa Ana</td>\n",
       "      <td>99.00</td>\n",
       "      <td>99.00</td>\n",
       "      <td>34.227892</td>\n",
       "      <td>-118.252604</td>\n",
       "    </tr>\n",
       "    <tr>\n",
       "      <th>2022</th>\n",
       "      <td>2</td>\n",
       "      <td>California</td>\n",
       "      <td>Abraham Lincoln Elementary</td>\n",
       "      <td>Public</td>\n",
       "      <td>Santa Ana</td>\n",
       "      <td>99.00</td>\n",
       "      <td>99.00</td>\n",
       "      <td>33.734440</td>\n",
       "      <td>-116.373073</td>\n",
       "    </tr>\n",
       "    <tr>\n",
       "      <th>...</th>\n",
       "      <td>...</td>\n",
       "      <td>...</td>\n",
       "      <td>...</td>\n",
       "      <td>...</td>\n",
       "      <td>...</td>\n",
       "      <td>...</td>\n",
       "      <td>...</td>\n",
       "      <td>...</td>\n",
       "      <td>...</td>\n",
       "    </tr>\n",
       "    <tr>\n",
       "      <th>63242</th>\n",
       "      <td>1364</td>\n",
       "      <td>Washington</td>\n",
       "      <td>Overcomer Academy</td>\n",
       "      <td>NaN</td>\n",
       "      <td>Auburn</td>\n",
       "      <td>23.53</td>\n",
       "      <td>17.65</td>\n",
       "      <td>47.301117</td>\n",
       "      <td>-122.276320</td>\n",
       "    </tr>\n",
       "    <tr>\n",
       "      <th>63243</th>\n",
       "      <td>1365</td>\n",
       "      <td>Washington</td>\n",
       "      <td>Salvation Christian Academy- Formerly Slavic C...</td>\n",
       "      <td>NaN</td>\n",
       "      <td>Edgewood</td>\n",
       "      <td>22.22</td>\n",
       "      <td>22.22</td>\n",
       "      <td>47.249023</td>\n",
       "      <td>-122.287615</td>\n",
       "    </tr>\n",
       "    <tr>\n",
       "      <th>63244</th>\n",
       "      <td>1366</td>\n",
       "      <td>Washington</td>\n",
       "      <td>Saratoga</td>\n",
       "      <td>NaN</td>\n",
       "      <td>Stanwood</td>\n",
       "      <td>20.00</td>\n",
       "      <td>20.00</td>\n",
       "      <td>48.242579</td>\n",
       "      <td>-122.359097</td>\n",
       "    </tr>\n",
       "    <tr>\n",
       "      <th>63245</th>\n",
       "      <td>1367</td>\n",
       "      <td>Washington</td>\n",
       "      <td>Skagit Family Learning Center</td>\n",
       "      <td>NaN</td>\n",
       "      <td>Mount Vernon</td>\n",
       "      <td>17.65</td>\n",
       "      <td>11.76</td>\n",
       "      <td>48.406426</td>\n",
       "      <td>-122.339166</td>\n",
       "    </tr>\n",
       "    <tr>\n",
       "      <th>63246</th>\n",
       "      <td>1368</td>\n",
       "      <td>Washington</td>\n",
       "      <td>Snohomish Center</td>\n",
       "      <td>NaN</td>\n",
       "      <td>Snohomish</td>\n",
       "      <td>10.00</td>\n",
       "      <td>10.00</td>\n",
       "      <td>47.931768</td>\n",
       "      <td>-122.098760</td>\n",
       "    </tr>\n",
       "  </tbody>\n",
       "</table>\n",
       "<p>21768 rows × 9 columns</p>\n",
       "</div>"
      ],
      "text/plain": [
       "       index       state                                               name  \\\n",
       "2018       1  California                             Abby Reinke Elementary   \n",
       "2019       2  California                         Abraham Lincoln Elementary   \n",
       "2020       2  California                         Abraham Lincoln Elementary   \n",
       "2021       2  California                         Abraham Lincoln Elementary   \n",
       "2022       2  California                         Abraham Lincoln Elementary   \n",
       "...      ...         ...                                                ...   \n",
       "63242   1364  Washington                                  Overcomer Academy   \n",
       "63243   1365  Washington  Salvation Christian Academy- Formerly Slavic C...   \n",
       "63244   1366  Washington                                           Saratoga   \n",
       "63245   1367  Washington                      Skagit Family Learning Center   \n",
       "63246   1368  Washington                                   Snohomish Center   \n",
       "\n",
       "         type          city    mmr  overall        lat         lng  \n",
       "2018   Public      Temecula  99.00    96.00  33.492008 -117.087291  \n",
       "2019   Public     Santa Ana  99.00    99.00  33.741155 -117.902009  \n",
       "2020   Public     Santa Ana  99.00    99.00  34.077328 -117.317020  \n",
       "2021   Public     Santa Ana  99.00    99.00  34.227892 -118.252604  \n",
       "2022   Public     Santa Ana  99.00    99.00  33.734440 -116.373073  \n",
       "...       ...           ...    ...      ...        ...         ...  \n",
       "63242     NaN        Auburn  23.53    17.65  47.301117 -122.276320  \n",
       "63243     NaN      Edgewood  22.22    22.22  47.249023 -122.287615  \n",
       "63244     NaN      Stanwood  20.00    20.00  48.242579 -122.359097  \n",
       "63245     NaN  Mount Vernon  17.65    11.76  48.406426 -122.339166  \n",
       "63246     NaN     Snohomish  10.00    10.00  47.931768 -122.098760  \n",
       "\n",
       "[21768 rows x 9 columns]"
      ]
     },
     "execution_count": 5,
     "metadata": {},
     "output_type": "execute_result"
    }
   ],
   "source": [
    "# Remove -1 values\n",
    "measles_clean = measles_clean.loc[measles_clean[\"mmr\"] >= 0]\n",
    "measles_clean = measles_clean.loc[measles_clean[\"overall\"] >= 0]\n",
    "measles_clean"
   ]
  },
  {
   "cell_type": "code",
   "execution_count": 7,
   "metadata": {},
   "outputs": [
    {
     "data": {
      "text/plain": [
       "type\n",
       "BOCES              47\n",
       "Charter           276\n",
       "Kindergarten     1488\n",
       "Nonpublic         173\n",
       "Private          6815\n",
       "Public          20692\n",
       "Name: type, dtype: int64"
      ]
     },
     "execution_count": 7,
     "metadata": {},
     "output_type": "execute_result"
    }
   ],
   "source": [
    "# Make series to create pie chart\n",
    "school_type = measles_clean.groupby('type')\n",
    "\n",
    "count_school_type = school_type['type'].count()\n",
    "count_school_type"
   ]
  },
  {
   "cell_type": "code",
   "execution_count": 8,
   "metadata": {},
   "outputs": [],
   "source": [
    "# Dealing with the NaN's\n",
    "measles_clean[\"type\"].fillna(\"Other\", inplace = True)"
   ]
  },
  {
   "cell_type": "code",
   "execution_count": 10,
   "metadata": {},
   "outputs": [
    {
     "ename": "TypeError",
     "evalue": "unhashable type: 'list'",
     "output_type": "error",
     "traceback": [
      "\u001b[1;31m---------------------------------------------------------------------------\u001b[0m",
      "\u001b[1;31mTypeError\u001b[0m                                 Traceback (most recent call last)",
      "\u001b[1;32m<ipython-input-10-856c67c47c5e>\u001b[0m in \u001b[0;36m<module>\u001b[1;34m\u001b[0m\n\u001b[0;32m      1\u001b[0m school_type_pie = count_school_type.plot(kind=\"pie\", figsize = (8,8), subplots=True, fontsize=15, autopct='%0.1f%%', \\\n\u001b[1;32m----> 2\u001b[1;33m                                          label=['Kindergarten', 'Other', 'Private', 'Public'], title=['School Type']) \n\u001b[0m\u001b[0;32m      3\u001b[0m \u001b[1;31m# school_type_pie.set_ylabel(\"Types of Schools\")\u001b[0m\u001b[1;33m\u001b[0m\u001b[1;33m\u001b[0m\u001b[1;33m\u001b[0m\u001b[0m\n\u001b[0;32m      4\u001b[0m \u001b[1;31m# plt.axis('equal')\u001b[0m\u001b[1;33m\u001b[0m\u001b[1;33m\u001b[0m\u001b[1;33m\u001b[0m\u001b[0m\n\u001b[0;32m      5\u001b[0m \u001b[1;31m# plt.title('Type of School')\u001b[0m\u001b[1;33m\u001b[0m\u001b[1;33m\u001b[0m\u001b[1;33m\u001b[0m\u001b[0m\n",
      "\u001b[1;32m~\\anaconda3\\envs\\PythonData\\lib\\site-packages\\pandas\\plotting\\_core.py\u001b[0m in \u001b[0;36m__call__\u001b[1;34m(self, *args, **kwargs)\u001b[0m\n\u001b[0;32m    845\u001b[0m                     \u001b[0mdata\u001b[0m\u001b[1;33m.\u001b[0m\u001b[0mcolumns\u001b[0m \u001b[1;33m=\u001b[0m \u001b[0mlabel_name\u001b[0m\u001b[1;33m\u001b[0m\u001b[1;33m\u001b[0m\u001b[0m\n\u001b[0;32m    846\u001b[0m \u001b[1;33m\u001b[0m\u001b[0m\n\u001b[1;32m--> 847\u001b[1;33m         \u001b[1;32mreturn\u001b[0m \u001b[0mplot_backend\u001b[0m\u001b[1;33m.\u001b[0m\u001b[0mplot\u001b[0m\u001b[1;33m(\u001b[0m\u001b[0mdata\u001b[0m\u001b[1;33m,\u001b[0m \u001b[0mkind\u001b[0m\u001b[1;33m=\u001b[0m\u001b[0mkind\u001b[0m\u001b[1;33m,\u001b[0m \u001b[1;33m**\u001b[0m\u001b[0mkwargs\u001b[0m\u001b[1;33m)\u001b[0m\u001b[1;33m\u001b[0m\u001b[1;33m\u001b[0m\u001b[0m\n\u001b[0m\u001b[0;32m    848\u001b[0m \u001b[1;33m\u001b[0m\u001b[0m\n\u001b[0;32m    849\u001b[0m     \u001b[0m__call__\u001b[0m\u001b[1;33m.\u001b[0m\u001b[0m__doc__\u001b[0m \u001b[1;33m=\u001b[0m \u001b[0m__doc__\u001b[0m\u001b[1;33m\u001b[0m\u001b[1;33m\u001b[0m\u001b[0m\n",
      "\u001b[1;32m~\\anaconda3\\envs\\PythonData\\lib\\site-packages\\pandas\\plotting\\_matplotlib\\__init__.py\u001b[0m in \u001b[0;36mplot\u001b[1;34m(data, kind, **kwargs)\u001b[0m\n\u001b[0;32m     59\u001b[0m             \u001b[0mkwargs\u001b[0m\u001b[1;33m[\u001b[0m\u001b[1;34m\"ax\"\u001b[0m\u001b[1;33m]\u001b[0m \u001b[1;33m=\u001b[0m \u001b[0mgetattr\u001b[0m\u001b[1;33m(\u001b[0m\u001b[0max\u001b[0m\u001b[1;33m,\u001b[0m \u001b[1;34m\"left_ax\"\u001b[0m\u001b[1;33m,\u001b[0m \u001b[0max\u001b[0m\u001b[1;33m)\u001b[0m\u001b[1;33m\u001b[0m\u001b[1;33m\u001b[0m\u001b[0m\n\u001b[0;32m     60\u001b[0m     \u001b[0mplot_obj\u001b[0m \u001b[1;33m=\u001b[0m \u001b[0mPLOT_CLASSES\u001b[0m\u001b[1;33m[\u001b[0m\u001b[0mkind\u001b[0m\u001b[1;33m]\u001b[0m\u001b[1;33m(\u001b[0m\u001b[0mdata\u001b[0m\u001b[1;33m,\u001b[0m \u001b[1;33m**\u001b[0m\u001b[0mkwargs\u001b[0m\u001b[1;33m)\u001b[0m\u001b[1;33m\u001b[0m\u001b[1;33m\u001b[0m\u001b[0m\n\u001b[1;32m---> 61\u001b[1;33m     \u001b[0mplot_obj\u001b[0m\u001b[1;33m.\u001b[0m\u001b[0mgenerate\u001b[0m\u001b[1;33m(\u001b[0m\u001b[1;33m)\u001b[0m\u001b[1;33m\u001b[0m\u001b[1;33m\u001b[0m\u001b[0m\n\u001b[0m\u001b[0;32m     62\u001b[0m     \u001b[0mplot_obj\u001b[0m\u001b[1;33m.\u001b[0m\u001b[0mdraw\u001b[0m\u001b[1;33m(\u001b[0m\u001b[1;33m)\u001b[0m\u001b[1;33m\u001b[0m\u001b[1;33m\u001b[0m\u001b[0m\n\u001b[0;32m     63\u001b[0m     \u001b[1;32mreturn\u001b[0m \u001b[0mplot_obj\u001b[0m\u001b[1;33m.\u001b[0m\u001b[0mresult\u001b[0m\u001b[1;33m\u001b[0m\u001b[1;33m\u001b[0m\u001b[0m\n",
      "\u001b[1;32m~\\anaconda3\\envs\\PythonData\\lib\\site-packages\\pandas\\plotting\\_matplotlib\\core.py\u001b[0m in \u001b[0;36mgenerate\u001b[1;34m(self)\u001b[0m\n\u001b[0;32m    259\u001b[0m     \u001b[1;32mdef\u001b[0m \u001b[0mgenerate\u001b[0m\u001b[1;33m(\u001b[0m\u001b[0mself\u001b[0m\u001b[1;33m)\u001b[0m\u001b[1;33m:\u001b[0m\u001b[1;33m\u001b[0m\u001b[1;33m\u001b[0m\u001b[0m\n\u001b[0;32m    260\u001b[0m         \u001b[0mself\u001b[0m\u001b[1;33m.\u001b[0m\u001b[0m_args_adjust\u001b[0m\u001b[1;33m(\u001b[0m\u001b[1;33m)\u001b[0m\u001b[1;33m\u001b[0m\u001b[1;33m\u001b[0m\u001b[0m\n\u001b[1;32m--> 261\u001b[1;33m         \u001b[0mself\u001b[0m\u001b[1;33m.\u001b[0m\u001b[0m_compute_plot_data\u001b[0m\u001b[1;33m(\u001b[0m\u001b[1;33m)\u001b[0m\u001b[1;33m\u001b[0m\u001b[1;33m\u001b[0m\u001b[0m\n\u001b[0m\u001b[0;32m    262\u001b[0m         \u001b[0mself\u001b[0m\u001b[1;33m.\u001b[0m\u001b[0m_setup_subplots\u001b[0m\u001b[1;33m(\u001b[0m\u001b[1;33m)\u001b[0m\u001b[1;33m\u001b[0m\u001b[1;33m\u001b[0m\u001b[0m\n\u001b[0;32m    263\u001b[0m         \u001b[0mself\u001b[0m\u001b[1;33m.\u001b[0m\u001b[0m_make_plot\u001b[0m\u001b[1;33m(\u001b[0m\u001b[1;33m)\u001b[0m\u001b[1;33m\u001b[0m\u001b[1;33m\u001b[0m\u001b[0m\n",
      "\u001b[1;32m~\\anaconda3\\envs\\PythonData\\lib\\site-packages\\pandas\\plotting\\_matplotlib\\core.py\u001b[0m in \u001b[0;36m_compute_plot_data\u001b[1;34m(self)\u001b[0m\n\u001b[0;32m    377\u001b[0m             \u001b[1;32mif\u001b[0m \u001b[0mlabel\u001b[0m \u001b[1;32mis\u001b[0m \u001b[1;32mNone\u001b[0m \u001b[1;32mand\u001b[0m \u001b[0mdata\u001b[0m\u001b[1;33m.\u001b[0m\u001b[0mname\u001b[0m \u001b[1;32mis\u001b[0m \u001b[1;32mNone\u001b[0m\u001b[1;33m:\u001b[0m\u001b[1;33m\u001b[0m\u001b[1;33m\u001b[0m\u001b[0m\n\u001b[0;32m    378\u001b[0m                 \u001b[0mlabel\u001b[0m \u001b[1;33m=\u001b[0m \u001b[1;34m\"None\"\u001b[0m\u001b[1;33m\u001b[0m\u001b[1;33m\u001b[0m\u001b[0m\n\u001b[1;32m--> 379\u001b[1;33m             \u001b[0mdata\u001b[0m \u001b[1;33m=\u001b[0m \u001b[0mdata\u001b[0m\u001b[1;33m.\u001b[0m\u001b[0mto_frame\u001b[0m\u001b[1;33m(\u001b[0m\u001b[0mname\u001b[0m\u001b[1;33m=\u001b[0m\u001b[0mlabel\u001b[0m\u001b[1;33m)\u001b[0m\u001b[1;33m\u001b[0m\u001b[1;33m\u001b[0m\u001b[0m\n\u001b[0m\u001b[0;32m    380\u001b[0m \u001b[1;33m\u001b[0m\u001b[0m\n\u001b[0;32m    381\u001b[0m         \u001b[1;31m# GH16953, _convert is needed as fallback, for ``Series``\u001b[0m\u001b[1;33m\u001b[0m\u001b[1;33m\u001b[0m\u001b[1;33m\u001b[0m\u001b[0m\n",
      "\u001b[1;32m~\\anaconda3\\envs\\PythonData\\lib\\site-packages\\pandas\\core\\series.py\u001b[0m in \u001b[0;36mto_frame\u001b[1;34m(self, name)\u001b[0m\n\u001b[0;32m   1586\u001b[0m             \u001b[0mdf\u001b[0m \u001b[1;33m=\u001b[0m \u001b[0mself\u001b[0m\u001b[1;33m.\u001b[0m\u001b[0m_constructor_expanddim\u001b[0m\u001b[1;33m(\u001b[0m\u001b[0mself\u001b[0m\u001b[1;33m)\u001b[0m\u001b[1;33m\u001b[0m\u001b[1;33m\u001b[0m\u001b[0m\n\u001b[0;32m   1587\u001b[0m         \u001b[1;32melse\u001b[0m\u001b[1;33m:\u001b[0m\u001b[1;33m\u001b[0m\u001b[1;33m\u001b[0m\u001b[0m\n\u001b[1;32m-> 1588\u001b[1;33m             \u001b[0mdf\u001b[0m \u001b[1;33m=\u001b[0m \u001b[0mself\u001b[0m\u001b[1;33m.\u001b[0m\u001b[0m_constructor_expanddim\u001b[0m\u001b[1;33m(\u001b[0m\u001b[1;33m{\u001b[0m\u001b[0mname\u001b[0m\u001b[1;33m:\u001b[0m \u001b[0mself\u001b[0m\u001b[1;33m}\u001b[0m\u001b[1;33m)\u001b[0m\u001b[1;33m\u001b[0m\u001b[1;33m\u001b[0m\u001b[0m\n\u001b[0m\u001b[0;32m   1589\u001b[0m \u001b[1;33m\u001b[0m\u001b[0m\n\u001b[0;32m   1590\u001b[0m         \u001b[1;32mreturn\u001b[0m \u001b[0mdf\u001b[0m\u001b[1;33m\u001b[0m\u001b[1;33m\u001b[0m\u001b[0m\n",
      "\u001b[1;31mTypeError\u001b[0m: unhashable type: 'list'"
     ]
    }
   ],
   "source": [
    "# Fix error - Terra \n",
    "school_type_pie = count_school_type.plot(kind=\"pie\", figsize = (8,8), subplots=True, fontsize=15, autopct='%0.1f%%', \\\n",
    "                                         labels=['Kindergarten', 'Other', 'Private', 'Public'], title=['School Type']) \n",
    "# school_type_pie.set_ylabel(\"Types of Schools\")\n",
    "# plt.axis('equal') \n",
    "# plt.title('Type of School')\n",
    "\n",
    "plt.show()                           \n",
    "plt.tight_layout()\n",
    "# type_vals = type_count['type']\n",
    "# type_labels = type_count['index']"
   ]
  },
  {
   "cell_type": "code",
   "execution_count": 11,
   "metadata": {},
   "outputs": [
    {
     "data": {
      "text/plain": [
       "state\n",
       "Arizona            1451\n",
       "Arkansas            567\n",
       "California        16098\n",
       "Colorado           1509\n",
       "Connecticut         795\n",
       "Florida            2678\n",
       "Idaho               475\n",
       "Illinois           7686\n",
       "Iowa               1370\n",
       "Maine               357\n",
       "Massachusetts      1594\n",
       "Michigan           2351\n",
       "Minnesota          1813\n",
       "Missouri            748\n",
       "Montana             645\n",
       "New Jersey         2211\n",
       "New York           4275\n",
       "North Carolina     2085\n",
       "North Dakota        387\n",
       "Ohio               3165\n",
       "Oklahoma           1249\n",
       "Oregon              817\n",
       "Pennsylvania       1939\n",
       "Rhode Island        230\n",
       "South Dakota        390\n",
       "Tennessee          1152\n",
       "Texas               811\n",
       "Utah                604\n",
       "Vermont             349\n",
       "Virginia           1468\n",
       "Washington         2221\n",
       "Wisconsin          2623\n",
       "Name: type, dtype: int64"
      ]
     },
     "execution_count": 11,
     "metadata": {},
     "output_type": "execute_result"
    }
   ],
   "source": [
    "state_percents = measles_clean.groupby('state')\n",
    "\n",
    "count_state_percents = state_percents['type'].count()\n",
    "count_state_percents"
   ]
  },
  {
   "cell_type": "code",
   "execution_count": 12,
   "metadata": {},
   "outputs": [
    {
     "ename": "ValueError",
     "evalue": "'label' must be of length 'x'",
     "output_type": "error",
     "traceback": [
      "\u001b[1;31m---------------------------------------------------------------------------\u001b[0m",
      "\u001b[1;31mValueError\u001b[0m                                Traceback (most recent call last)",
      "\u001b[1;32m<ipython-input-12-602a68f0f2ac>\u001b[0m in \u001b[0;36m<module>\u001b[1;34m\u001b[0m\n\u001b[0;32m      1\u001b[0m school_type_pie = count_state_percents.plot(kind=\"pie\", figsize = (8,8), subplots=True, fontsize=14, autopct='%0.1f%%', \\\n\u001b[0;32m      2\u001b[0m                                          \u001b[0mlabels\u001b[0m\u001b[1;33m=\u001b[0m\u001b[1;33m[\u001b[0m\u001b[1;34m'California'\u001b[0m\u001b[1;33m,\u001b[0m \u001b[1;34m'Colorado'\u001b[0m\u001b[1;33m,\u001b[0m \u001b[1;34m'Ohio'\u001b[0m\u001b[1;33m,\u001b[0m \u001b[1;34m'Oregon'\u001b[0m\u001b[1;33m,\u001b[0m \u001b[1;34m'Vermont'\u001b[0m\u001b[1;33m,\u001b[0m \u001b[1;34m'Washington'\u001b[0m\u001b[1;33m]\u001b[0m\u001b[1;33m,\u001b[0m\u001b[0;31m \u001b[0m\u001b[0;31m\\\u001b[0m\u001b[1;33m\u001b[0m\u001b[1;33m\u001b[0m\u001b[0m\n\u001b[1;32m----> 3\u001b[1;33m                                          title=['Number of Schools by State']) \n\u001b[0m\u001b[0;32m      4\u001b[0m \u001b[1;33m\u001b[0m\u001b[0m\n\u001b[0;32m      5\u001b[0m \u001b[1;31m# texts[0].set_fonsize(4)\u001b[0m\u001b[1;33m\u001b[0m\u001b[1;33m\u001b[0m\u001b[1;33m\u001b[0m\u001b[0m\n",
      "\u001b[1;32m~\\anaconda3\\envs\\PythonData\\lib\\site-packages\\pandas\\plotting\\_core.py\u001b[0m in \u001b[0;36m__call__\u001b[1;34m(self, *args, **kwargs)\u001b[0m\n\u001b[0;32m    845\u001b[0m                     \u001b[0mdata\u001b[0m\u001b[1;33m.\u001b[0m\u001b[0mcolumns\u001b[0m \u001b[1;33m=\u001b[0m \u001b[0mlabel_name\u001b[0m\u001b[1;33m\u001b[0m\u001b[1;33m\u001b[0m\u001b[0m\n\u001b[0;32m    846\u001b[0m \u001b[1;33m\u001b[0m\u001b[0m\n\u001b[1;32m--> 847\u001b[1;33m         \u001b[1;32mreturn\u001b[0m \u001b[0mplot_backend\u001b[0m\u001b[1;33m.\u001b[0m\u001b[0mplot\u001b[0m\u001b[1;33m(\u001b[0m\u001b[0mdata\u001b[0m\u001b[1;33m,\u001b[0m \u001b[0mkind\u001b[0m\u001b[1;33m=\u001b[0m\u001b[0mkind\u001b[0m\u001b[1;33m,\u001b[0m \u001b[1;33m**\u001b[0m\u001b[0mkwargs\u001b[0m\u001b[1;33m)\u001b[0m\u001b[1;33m\u001b[0m\u001b[1;33m\u001b[0m\u001b[0m\n\u001b[0m\u001b[0;32m    848\u001b[0m \u001b[1;33m\u001b[0m\u001b[0m\n\u001b[0;32m    849\u001b[0m     \u001b[0m__call__\u001b[0m\u001b[1;33m.\u001b[0m\u001b[0m__doc__\u001b[0m \u001b[1;33m=\u001b[0m \u001b[0m__doc__\u001b[0m\u001b[1;33m\u001b[0m\u001b[1;33m\u001b[0m\u001b[0m\n",
      "\u001b[1;32m~\\anaconda3\\envs\\PythonData\\lib\\site-packages\\pandas\\plotting\\_matplotlib\\__init__.py\u001b[0m in \u001b[0;36mplot\u001b[1;34m(data, kind, **kwargs)\u001b[0m\n\u001b[0;32m     59\u001b[0m             \u001b[0mkwargs\u001b[0m\u001b[1;33m[\u001b[0m\u001b[1;34m\"ax\"\u001b[0m\u001b[1;33m]\u001b[0m \u001b[1;33m=\u001b[0m \u001b[0mgetattr\u001b[0m\u001b[1;33m(\u001b[0m\u001b[0max\u001b[0m\u001b[1;33m,\u001b[0m \u001b[1;34m\"left_ax\"\u001b[0m\u001b[1;33m,\u001b[0m \u001b[0max\u001b[0m\u001b[1;33m)\u001b[0m\u001b[1;33m\u001b[0m\u001b[1;33m\u001b[0m\u001b[0m\n\u001b[0;32m     60\u001b[0m     \u001b[0mplot_obj\u001b[0m \u001b[1;33m=\u001b[0m \u001b[0mPLOT_CLASSES\u001b[0m\u001b[1;33m[\u001b[0m\u001b[0mkind\u001b[0m\u001b[1;33m]\u001b[0m\u001b[1;33m(\u001b[0m\u001b[0mdata\u001b[0m\u001b[1;33m,\u001b[0m \u001b[1;33m**\u001b[0m\u001b[0mkwargs\u001b[0m\u001b[1;33m)\u001b[0m\u001b[1;33m\u001b[0m\u001b[1;33m\u001b[0m\u001b[0m\n\u001b[1;32m---> 61\u001b[1;33m     \u001b[0mplot_obj\u001b[0m\u001b[1;33m.\u001b[0m\u001b[0mgenerate\u001b[0m\u001b[1;33m(\u001b[0m\u001b[1;33m)\u001b[0m\u001b[1;33m\u001b[0m\u001b[1;33m\u001b[0m\u001b[0m\n\u001b[0m\u001b[0;32m     62\u001b[0m     \u001b[0mplot_obj\u001b[0m\u001b[1;33m.\u001b[0m\u001b[0mdraw\u001b[0m\u001b[1;33m(\u001b[0m\u001b[1;33m)\u001b[0m\u001b[1;33m\u001b[0m\u001b[1;33m\u001b[0m\u001b[0m\n\u001b[0;32m     63\u001b[0m     \u001b[1;32mreturn\u001b[0m \u001b[0mplot_obj\u001b[0m\u001b[1;33m.\u001b[0m\u001b[0mresult\u001b[0m\u001b[1;33m\u001b[0m\u001b[1;33m\u001b[0m\u001b[0m\n",
      "\u001b[1;32m~\\anaconda3\\envs\\PythonData\\lib\\site-packages\\pandas\\plotting\\_matplotlib\\core.py\u001b[0m in \u001b[0;36mgenerate\u001b[1;34m(self)\u001b[0m\n\u001b[0;32m    261\u001b[0m         \u001b[0mself\u001b[0m\u001b[1;33m.\u001b[0m\u001b[0m_compute_plot_data\u001b[0m\u001b[1;33m(\u001b[0m\u001b[1;33m)\u001b[0m\u001b[1;33m\u001b[0m\u001b[1;33m\u001b[0m\u001b[0m\n\u001b[0;32m    262\u001b[0m         \u001b[0mself\u001b[0m\u001b[1;33m.\u001b[0m\u001b[0m_setup_subplots\u001b[0m\u001b[1;33m(\u001b[0m\u001b[1;33m)\u001b[0m\u001b[1;33m\u001b[0m\u001b[1;33m\u001b[0m\u001b[0m\n\u001b[1;32m--> 263\u001b[1;33m         \u001b[0mself\u001b[0m\u001b[1;33m.\u001b[0m\u001b[0m_make_plot\u001b[0m\u001b[1;33m(\u001b[0m\u001b[1;33m)\u001b[0m\u001b[1;33m\u001b[0m\u001b[1;33m\u001b[0m\u001b[0m\n\u001b[0m\u001b[0;32m    264\u001b[0m         \u001b[0mself\u001b[0m\u001b[1;33m.\u001b[0m\u001b[0m_add_table\u001b[0m\u001b[1;33m(\u001b[0m\u001b[1;33m)\u001b[0m\u001b[1;33m\u001b[0m\u001b[1;33m\u001b[0m\u001b[0m\n\u001b[0;32m    265\u001b[0m         \u001b[0mself\u001b[0m\u001b[1;33m.\u001b[0m\u001b[0m_make_legend\u001b[0m\u001b[1;33m(\u001b[0m\u001b[1;33m)\u001b[0m\u001b[1;33m\u001b[0m\u001b[1;33m\u001b[0m\u001b[0m\n",
      "\u001b[1;32m~\\anaconda3\\envs\\PythonData\\lib\\site-packages\\pandas\\plotting\\_matplotlib\\core.py\u001b[0m in \u001b[0;36m_make_plot\u001b[1;34m(self)\u001b[0m\n\u001b[0;32m   1500\u001b[0m             \u001b[1;32melse\u001b[0m\u001b[1;33m:\u001b[0m\u001b[1;33m\u001b[0m\u001b[1;33m\u001b[0m\u001b[0m\n\u001b[0;32m   1501\u001b[0m                 \u001b[0mblabels\u001b[0m \u001b[1;33m=\u001b[0m \u001b[1;32mNone\u001b[0m\u001b[1;33m\u001b[0m\u001b[1;33m\u001b[0m\u001b[0m\n\u001b[1;32m-> 1502\u001b[1;33m             \u001b[0mresults\u001b[0m \u001b[1;33m=\u001b[0m \u001b[0max\u001b[0m\u001b[1;33m.\u001b[0m\u001b[0mpie\u001b[0m\u001b[1;33m(\u001b[0m\u001b[0my\u001b[0m\u001b[1;33m,\u001b[0m \u001b[0mlabels\u001b[0m\u001b[1;33m=\u001b[0m\u001b[0mblabels\u001b[0m\u001b[1;33m,\u001b[0m \u001b[1;33m**\u001b[0m\u001b[0mkwds\u001b[0m\u001b[1;33m)\u001b[0m\u001b[1;33m\u001b[0m\u001b[1;33m\u001b[0m\u001b[0m\n\u001b[0m\u001b[0;32m   1503\u001b[0m \u001b[1;33m\u001b[0m\u001b[0m\n\u001b[0;32m   1504\u001b[0m             \u001b[1;32mif\u001b[0m \u001b[0mkwds\u001b[0m\u001b[1;33m.\u001b[0m\u001b[0mget\u001b[0m\u001b[1;33m(\u001b[0m\u001b[1;34m\"autopct\"\u001b[0m\u001b[1;33m,\u001b[0m \u001b[1;32mNone\u001b[0m\u001b[1;33m)\u001b[0m \u001b[1;32mis\u001b[0m \u001b[1;32mnot\u001b[0m \u001b[1;32mNone\u001b[0m\u001b[1;33m:\u001b[0m\u001b[1;33m\u001b[0m\u001b[1;33m\u001b[0m\u001b[0m\n",
      "\u001b[1;32m~\\anaconda3\\envs\\PythonData\\lib\\site-packages\\matplotlib\\__init__.py\u001b[0m in \u001b[0;36minner\u001b[1;34m(ax, data, *args, **kwargs)\u001b[0m\n\u001b[0;32m   1563\u001b[0m     \u001b[1;32mdef\u001b[0m \u001b[0minner\u001b[0m\u001b[1;33m(\u001b[0m\u001b[0max\u001b[0m\u001b[1;33m,\u001b[0m \u001b[1;33m*\u001b[0m\u001b[0margs\u001b[0m\u001b[1;33m,\u001b[0m \u001b[0mdata\u001b[0m\u001b[1;33m=\u001b[0m\u001b[1;32mNone\u001b[0m\u001b[1;33m,\u001b[0m \u001b[1;33m**\u001b[0m\u001b[0mkwargs\u001b[0m\u001b[1;33m)\u001b[0m\u001b[1;33m:\u001b[0m\u001b[1;33m\u001b[0m\u001b[1;33m\u001b[0m\u001b[0m\n\u001b[0;32m   1564\u001b[0m         \u001b[1;32mif\u001b[0m \u001b[0mdata\u001b[0m \u001b[1;32mis\u001b[0m \u001b[1;32mNone\u001b[0m\u001b[1;33m:\u001b[0m\u001b[1;33m\u001b[0m\u001b[1;33m\u001b[0m\u001b[0m\n\u001b[1;32m-> 1565\u001b[1;33m             \u001b[1;32mreturn\u001b[0m \u001b[0mfunc\u001b[0m\u001b[1;33m(\u001b[0m\u001b[0max\u001b[0m\u001b[1;33m,\u001b[0m \u001b[1;33m*\u001b[0m\u001b[0mmap\u001b[0m\u001b[1;33m(\u001b[0m\u001b[0msanitize_sequence\u001b[0m\u001b[1;33m,\u001b[0m \u001b[0margs\u001b[0m\u001b[1;33m)\u001b[0m\u001b[1;33m,\u001b[0m \u001b[1;33m**\u001b[0m\u001b[0mkwargs\u001b[0m\u001b[1;33m)\u001b[0m\u001b[1;33m\u001b[0m\u001b[1;33m\u001b[0m\u001b[0m\n\u001b[0m\u001b[0;32m   1566\u001b[0m \u001b[1;33m\u001b[0m\u001b[0m\n\u001b[0;32m   1567\u001b[0m         \u001b[0mbound\u001b[0m \u001b[1;33m=\u001b[0m \u001b[0mnew_sig\u001b[0m\u001b[1;33m.\u001b[0m\u001b[0mbind\u001b[0m\u001b[1;33m(\u001b[0m\u001b[0max\u001b[0m\u001b[1;33m,\u001b[0m \u001b[1;33m*\u001b[0m\u001b[0margs\u001b[0m\u001b[1;33m,\u001b[0m \u001b[1;33m**\u001b[0m\u001b[0mkwargs\u001b[0m\u001b[1;33m)\u001b[0m\u001b[1;33m\u001b[0m\u001b[1;33m\u001b[0m\u001b[0m\n",
      "\u001b[1;32m~\\anaconda3\\envs\\PythonData\\lib\\site-packages\\matplotlib\\axes\\_axes.py\u001b[0m in \u001b[0;36mpie\u001b[1;34m(self, x, explode, labels, colors, autopct, pctdistance, shadow, labeldistance, startangle, radius, counterclock, wedgeprops, textprops, center, frame, rotatelabels)\u001b[0m\n\u001b[0;32m   2927\u001b[0m             \u001b[0mexplode\u001b[0m \u001b[1;33m=\u001b[0m \u001b[1;33m[\u001b[0m\u001b[1;36m0\u001b[0m\u001b[1;33m]\u001b[0m \u001b[1;33m*\u001b[0m \u001b[0mlen\u001b[0m\u001b[1;33m(\u001b[0m\u001b[0mx\u001b[0m\u001b[1;33m)\u001b[0m\u001b[1;33m\u001b[0m\u001b[1;33m\u001b[0m\u001b[0m\n\u001b[0;32m   2928\u001b[0m         \u001b[1;32mif\u001b[0m \u001b[0mlen\u001b[0m\u001b[1;33m(\u001b[0m\u001b[0mx\u001b[0m\u001b[1;33m)\u001b[0m \u001b[1;33m!=\u001b[0m \u001b[0mlen\u001b[0m\u001b[1;33m(\u001b[0m\u001b[0mlabels\u001b[0m\u001b[1;33m)\u001b[0m\u001b[1;33m:\u001b[0m\u001b[1;33m\u001b[0m\u001b[1;33m\u001b[0m\u001b[0m\n\u001b[1;32m-> 2929\u001b[1;33m             \u001b[1;32mraise\u001b[0m \u001b[0mValueError\u001b[0m\u001b[1;33m(\u001b[0m\u001b[1;34m\"'label' must be of length 'x'\"\u001b[0m\u001b[1;33m)\u001b[0m\u001b[1;33m\u001b[0m\u001b[1;33m\u001b[0m\u001b[0m\n\u001b[0m\u001b[0;32m   2930\u001b[0m         \u001b[1;32mif\u001b[0m \u001b[0mlen\u001b[0m\u001b[1;33m(\u001b[0m\u001b[0mx\u001b[0m\u001b[1;33m)\u001b[0m \u001b[1;33m!=\u001b[0m \u001b[0mlen\u001b[0m\u001b[1;33m(\u001b[0m\u001b[0mexplode\u001b[0m\u001b[1;33m)\u001b[0m\u001b[1;33m:\u001b[0m\u001b[1;33m\u001b[0m\u001b[1;33m\u001b[0m\u001b[0m\n\u001b[0;32m   2931\u001b[0m             \u001b[1;32mraise\u001b[0m \u001b[0mValueError\u001b[0m\u001b[1;33m(\u001b[0m\u001b[1;34m\"'explode' must be of length 'x'\"\u001b[0m\u001b[1;33m)\u001b[0m\u001b[1;33m\u001b[0m\u001b[1;33m\u001b[0m\u001b[0m\n",
      "\u001b[1;31mValueError\u001b[0m: 'label' must be of length 'x'"
     ]
    },
    {
     "data": {
      "image/png": "[encoded data removed]",
      "text/plain": [
       "<Figure size 576x576 with 1 Axes>"
      ]
     },
     "metadata": {
      "needs_background": "light"
     },
     "output_type": "display_data"
    }
   ],
   "source": [
    "school_type_pie = count_state_percents.plot(kind=\"pie\", figsize = (8,8), subplots=True, fontsize=14, autopct='%0.1f%%', \\\n",
    "                                         labels=['California', 'Colorado', 'Ohio', 'Oregon', 'Vermont', 'Washington'], \\\n",
    "                                         title=['Number of Schools by State']) \n",
    "\n",
    "# texts[0].set_fonsize(4)\n",
    "plt.show()                           \n",
    "plt.tight_layout()"
   ]
  },
  {
   "cell_type": "markdown",
   "metadata": {},
   "source": [
    "## SCATTER PLOT: LATITUDE vs LONGITUDE"
   ]
  },
  {
   "cell_type": "code",
   "execution_count": null,
   "metadata": {},
   "outputs": [],
   "source": [
    "df1 = pd.DataFrame(measles_clean, columns=[\"lat\", \"lng\"])\n",
    "df1.plot.scatter(x=\"lng\", y=\"lat\");\n",
    "\n",
    "plt.title(\"Scatter Plot: Latitude vs Longitude\")\n",
    "plt.xlabel(\"Latitude\")\n",
    "plt.ylabel(\"Longitude\")\n",
    "plt.savefig('s1.png')"
   ]
  },
  {
   "cell_type": "markdown",
   "metadata": {},
   "source": [
    "Points on the extreme right are erroneous and must be dropped from the table. The easternmost point in the contiguous US is West Quoddy Head Lighthouse (Maine) with the coordinates (44.81756628922163, -66.95132155560584) so we can't have any longitude value greater than - 66.95132155560584."
   ]
  },
  {
   "cell_type": "code",
   "execution_count": null,
   "metadata": {},
   "outputs": [],
   "source": [
    "# Keeping only negative longitudes\n",
    "measles_clean_lng = measles_clean[measles_clean['lng'] < 0]"
   ]
  },
  {
   "cell_type": "code",
   "execution_count": null,
   "metadata": {},
   "outputs": [],
   "source": [
    "# Re-drawing the scatter\n",
    "df2 = pd.DataFrame(measles_clean_lng, columns=[\"lat\", \"lng\"])\n",
    "df2.plot.scatter(x=\"lng\", y=\"lat\");\n",
    "\n",
    "plt.title(\"Scatter Plot: Latitude vs Longitude\")\n",
    "plt.xlabel(\"Latitude\")\n",
    "plt.ylabel(\"Longitude\")\n",
    "plt.savefig('s2.png')"
   ]
  },
  {
   "cell_type": "code",
   "execution_count": null,
   "metadata": {},
   "outputs": [],
   "source": [
    "measles_clean[\"type\"].fillna(\"Other\", inplace = True)\n",
    "measles_clean"
   ]
  },
  {
   "cell_type": "code",
   "execution_count": null,
   "metadata": {},
   "outputs": [],
   "source": [
    "type_groups = measles_clean.groupby(\"type\")\n",
    "type_groups.count()"
   ]
  },
  {
   "cell_type": "code",
   "execution_count": null,
   "metadata": {},
   "outputs": [],
   "source": [
    "# Melissa's code starts here"
   ]
  },
  {
   "cell_type": "code",
   "execution_count": null,
   "metadata": {},
   "outputs": [],
   "source": [
    "# Set up Public, Private, Kindergarten, and Other dataframes\n",
    "\n",
    "public_stats = measles_clean.loc[measles_clean[\"type\"] == \"Public\"]\n",
    "# public_stats\n",
    "\n",
    "private_stats = measles_clean.loc[measles_clean[\"type\"] == \"Private\"]\n",
    "# private_stats\n",
    "\n",
    "kindergarten_stats = measles_clean.loc[measles_clean[\"type\"] == \"Kindergarten\"]\n",
    "# kindergarten_stats\n",
    "\n",
    "other_stats = measles_clean.loc[measles_clean[\"type\"] == \"Other\"]\n",
    "# other_stats\n",
    "\n",
    "colorado = measles_clean.loc[measles_clean[\"state\"] == \"Colorado\"]\n",
    "# colorado.groupby(\"type\").count()"
   ]
  },
  {
   "cell_type": "code",
   "execution_count": null,
   "metadata": {},
   "outputs": [],
   "source": [
    "# Loop through the data frame to calculate stats by state\n",
    "\n",
    "# Set up empty lists to fill in for loop\n",
    "states = measles_clean[\"state\"].unique()\n",
    "# states\n",
    "count_states = []\n",
    "mean_mmr = []\n",
    "median_mmr = []\n",
    "public_mean = []\n",
    "public_median = []\n",
    "private_mean = []\n",
    "private_median = []\n",
    "kind_mean = []\n",
    "kind_median = []\n",
    "other_mean = []\n",
    "other_median = []\n",
    "\n",
    "for state in states:\n",
    "    \n",
    "    # Identify what state to work with\n",
    "    state_active = measles_clean.loc[measles_clean[\"state\"] == state]\n",
    "    \n",
    "    # Count all the schools for each state\n",
    "    count_active = state_active[\"state\"].count()\n",
    "    count_states.append(count_active)\n",
    "    \n",
    "    # Calculate mean for each state\n",
    "    mean_active = state_active[\"mmr\"].mean()\n",
    "    mean_mmr.append(mean_active)\n",
    "    \n",
    "    # Calculate median for each state\n",
    "    median_active = state_active[\"mmr\"].median()\n",
    "    median_mmr.append(median_active)\n",
    "    \n",
    "    # Reset state_active for use on public subsets\n",
    "    state_active = public_stats.loc[public_stats[\"state\"] == state]\n",
    "    \n",
    "    # Calculate mean for public schools\n",
    "    public_active = state_active[\"mmr\"].mean()\n",
    "    public_mean.append(public_active)\n",
    "    \n",
    "    # Calculate median for public schools\n",
    "    public_active = state_active[\"mmr\"].median()\n",
    "    public_median.append(public_active)\n",
    "    \n",
    "    # Reset state_active for use on private subsets\n",
    "    state_active = private_stats.loc[private_stats[\"state\"] == state]\n",
    "    \n",
    "    # Calculate mean for private schools\n",
    "    private_active = state_active[\"mmr\"].mean()\n",
    "    private_mean.append(private_active)\n",
    "    \n",
    "    # Calculate median for private schools\n",
    "    private_active = state_active[\"mmr\"].median()\n",
    "    private_median.append(private_active)\n",
    "    \n",
    "    # Reset state_active for use on kindergarten subsets\n",
    "    state_active = kindergarten_stats.loc[kindergarten_stats[\"state\"] == state]\n",
    "    \n",
    "    # Calculate mean for kindergarten schools\n",
    "    kind_active = state_active[\"mmr\"].mean()\n",
    "    kind_mean.append(kind_active)\n",
    "    \n",
    "    # Calculate median for kindergarten schools\n",
    "    kind_active = state_active[\"mmr\"].median()\n",
    "    kind_median.append(kind_active)\n",
    "    \n",
    "    # Reset state_active for use on other subsets\n",
    "    state_active = other_stats.loc[other_stats[\"state\"] == state]\n",
    "    \n",
    "    # Calculate mean for Other schools\n",
    "    other_active = state_active[\"mmr\"].mean()\n",
    "    other_mean.append(other_active)\n",
    "    \n",
    "    # Calculate median for Other schools\n",
    "    other_active = state_active[\"mmr\"].median()\n",
    "    other_median.append(other_active)\n",
    "   \n",
    "       \n",
    "# other_median"
   ]
  },
  {
   "cell_type": "code",
   "execution_count": null,
   "metadata": {},
   "outputs": [],
   "source": [
    "# Set up summary table of averages per state\n",
    "avg_by_state = pd.DataFrame({\n",
    "    \"State\": states\n",
    "})\n",
    "\n",
    "avg_by_state[\"Count of Schools\"] = count_states\n",
    "avg_by_state[\"Overall Mean\"] = mean_mmr\n",
    "avg_by_state[\"Overall Median\"] = median_mmr\n",
    "avg_by_state[\"Public Mean\"] = public_mean\n",
    "avg_by_state[\"Public Median\"] = public_median\n",
    "avg_by_state[\"Private Mean\"] = private_mean\n",
    "avg_by_state[\"Private Median\"] = private_median\n",
    "avg_by_state[\"Kindergarten Mean\"] = kind_mean\n",
    "avg_by_state[\"Kindergarten Median\"] = kind_median\n",
    "avg_by_state[\"Other Mean\"] = other_mean\n",
    "avg_by_state[\"Other Median\"] = other_median\n",
    "\n",
    "avg_by_state\n",
    "\n",
    "# Investigate NaNs\n",
    "# Indicate a lack of that school type reporting out of that state"
   ]
  },
  {
   "cell_type": "code",
   "execution_count": null,
   "metadata": {},
   "outputs": [],
   "source": [
    "#New column for coloring states\n",
    "measles_clean_lng['state2'] = measles_clean_lng['state']"
   ]
  },
  {
   "cell_type": "code",
   "execution_count": null,
   "metadata": {},
   "outputs": [],
   "source": [
    "# Plot of school counts across states\n",
    "\n",
    "y_axis = count_states\n",
    "x_axis = np.arange(len(states))\n",
    "\n",
    "plt.bar(x_axis, y_axis, color=\"green\")\n",
    "plt.ylabel(\"Number of Schools\")\n",
    "plt.xlabel(\"State\")\n",
    "plt.title(\"Count of Schools in States in Dataset\", fontsize=15)\n",
    "\n",
    "tick_locations = [value for value in x_axis]\n",
    "plt.xticks(tick_locations, states, rotation=\"45\", fontsize=12)\n",
    "\n",
    "plt.show()\n",
    "# Look at California alone"
   ]
  },
  {
   "cell_type": "markdown",
   "metadata": {},
   "source": [
    "Looking at the count of schools across the states allows us to know if our sample sizes in each state are comparable.  While based on sheer numbers, this chart shows they are not, what we do not know is whether the proportion of schools that reported data out of the entire population is similar across states.  Either way, it is clear from the start difference in the count of schools from California that that state is worth looking at on its own as well."
   ]
  },
  {
   "cell_type": "code",
   "execution_count": null,
   "metadata": {},
   "outputs": [],
   "source": [
    "# Assigning numerical values to state names for coloring\n",
    "measles_clean_lng.loc[measles_clean_lng['state'] == 'California', 'state2'] = 1\n",
    "measles_clean_lng.loc[measles_clean_lng['state'] == 'Colorado', 'state2'] = 2\n",
    "measles_clean_lng.loc[measles_clean_lng['state'] == 'Ohio', 'state2'] = 3\n",
    "measles_clean_lng.loc[measles_clean_lng['state'] == 'Oregon', 'state2'] = 4\n",
    "measles_clean_lng.loc[measles_clean_lng['state'] == 'Washington', 'state2'] = 5\n",
    "measles_clean_lng.loc[measles_clean_lng['state'] == 'Vermont', 'state2'] = 6"
   ]
  },
  {
   "cell_type": "code",
   "execution_count": null,
   "metadata": {},
   "outputs": [],
   "source": [
    "# Plot with grouped bars -- MEAN AND MEDIAN BY STATE\n",
    "# https://matplotlib.org/3.3.4/gallery/lines_bars_and_markers/barchart.html#sphx-glr-gallery-lines-bars-and-markers-barchart-py\n",
    "# Add rates to bars, if possible\n",
    "\n",
    "x = np.arange(len(states))  \n",
    "width = 0.35  # the width of the bars\n",
    "\n",
    "fig, ax = plt.subplots()\n",
    "rects1 = ax.bar(x - width/2, mean_mmr, width, label=\"Mean\")\n",
    "rects2 = ax.bar(x + width/2, median_mmr, width, label=\"Median\")\n",
    "\n",
    "plt.ylabel(\"Average of MMR Innoculation Rates\")\n",
    "plt.xlabel(\"State\")\n",
    "plt.title(\"Mean and Median of MMR Innoculation Rates across States in Dataset\", fontsize=15)\n",
    "plt.legend(loc=\"lower right\")\n",
    "\n",
    "tick_locations = [value for value in x_axis]\n",
    "plt.xticks(tick_locations, states, rotation=\"45\", fontsize=12)\n",
    "\n",
    "plt.show()"
   ]
  },
  {
   "cell_type": "markdown",
   "metadata": {},
   "source": [
    "By displaying the mean and median vaccination rates together, we can see not only how each rate differs across states but how consistently the mean is lower than the median rate for each state.  What this tells us is that there may be lower reported rates of vaccination at a sufficient number of schools in each state to pull the mean rate down.  Looking at the median as well is a reminder that that the actual reported rates may be higher than the mean only would lead a person to infer.  Because this difference holds true across states, it feels like an important trend to hold in mind when using either form of average."
   ]
  },
  {
   "cell_type": "code",
   "execution_count": null,
   "metadata": {},
   "outputs": [],
   "source": [
    "# Colored scatte rplot\n",
    "dfScat = measles_clean_lng[['lng','lat', 'state2']]\n",
    "#axScat = dfScat.plot(kind='scatter', x=0, y=1, c=2, colormap='inferno')\n",
    "#axScat = dfScat.plot(kind='scatter', x=0, y=1, c=2, colormap='plasma')\n",
    "#axScat = dfScat.plot(kind='scatter', x=0, y=1, c=2, colormap='viridis')\n",
    "axScat = dfScat.plot(kind='scatter', x=0, y=1, c=2, colormap='magma')"
   ]
  },
  {
   "cell_type": "code",
   "execution_count": null,
   "metadata": {},
   "outputs": [],
   "source": [
    "# Grouped bar chart of all averages across all states and school types\n",
    "# Formatting is being disagreable\n",
    "\n",
    "group_by_state = avg_by_state.drop([\"Count of Schools\"], axis=1)\n",
    "\n",
    "state_group_fig = group_by_state.plot.bar(rot=45)\n",
    "\n",
    "plt.ylabel(\"Average of MMR Innoculation Rates\")\n",
    "plt.xlabel(\"State\")\n",
    "plt.title(\"Mean and Median of MMR Innoculation Rates across States and School Types in Dataset\", fontsize=15)\n",
    "plt.legend(loc=\"center\")\n",
    "\n",
    "tick_locations = [value for value in x_axis]\n",
    "plt.xticks(tick_locations, states, rotation=\"45\", fontsize=12)\n",
    "\n",
    "plt.show()"
   ]
  },
  {
   "cell_type": "code",
   "execution_count": null,
   "metadata": {},
   "outputs": [],
   "source": [
    "# Boxplot of school types\n",
    "type_boxplot = measles_clean_lng[['mmr','type']]\n",
    "type_boxplot.boxplot(by='type')\n",
    "avg_by_state\n",
    "\n",
    "# Isolate mean and median\n",
    "median_by_state = avg_by_state.drop(columns=[\"Count of Schools\", \"Overall Mean\",\n",
    "                                             \"Public Mean\", \"Kindergarten Mean\", \n",
    "                                             \"Private Mean\", \"Other Mean\"])\n",
    "# median_by_state # Giving me shit about \"Overall Mean\"\n",
    "\n",
    "mean_by_state = avg_by_state.drop(columns=[\"Count of Schools\", \"Overall Median\", \n",
    "                                           \"Public Median\", \"Private Median\",\n",
    "                                          \"Kindergarten Median\", \"Other Median\"])\n",
    "# median_by_state"
   ]
  },
  {
   "cell_type": "code",
   "execution_count": null,
   "metadata": {},
   "outputs": [],
   "source": [
    "# Grouped bar chart with isolated means and medians\n",
    "# Means\n",
    "mean_group_fig = mean_by_state.plot.bar(rot=45)\n",
    "\n",
    "plt.ylabel(\"Mean of MMR Innoculation Rates\")\n",
    "plt.xlabel(\"State\")\n",
    "plt.title(\"Mean of MMR Innoculation Rates across States and School Types in Dataset\", fontsize=15)\n",
    "plt.legend(loc=\"center\")\n",
    "\n",
    "tick_locations = [value for value in x_axis]\n",
    "plt.xticks(tick_locations, states, rotation=\"45\", fontsize=12)\n",
    "\n",
    "plt.show()"
   ]
  },
  {
   "cell_type": "code",
   "execution_count": null,
   "metadata": {},
   "outputs": [],
   "source": [
    "# Grouped bar chart with isolated means and medians\n",
    "# Medians\n",
    "median_group_fig = median_by_state.plot.bar(rot=45)\n",
    "\n",
    "plt.ylabel(\"Median of MMR Innoculation Rates\")\n",
    "plt.xlabel(\"State\")\n",
    "plt.title(\"Median of MMR Innoculation Rates across States and School Types in Dataset\", fontsize=15)\n",
    "plt.legend(loc=\"center\")\n",
    "\n",
    "tick_locations = [value for value in x_axis]\n",
    "plt.xticks(tick_locations, states, rotation=\"45\", fontsize=12)\n",
    "\n",
    "plt.show()"
   ]
  },
  {
   "cell_type": "code",
   "execution_count": null,
   "metadata": {},
   "outputs": [],
   "source": [
    "# Alternate California Ohio Grouped Plot\n",
    "# This might be better/more useful if the ticks were the school type and each had \n",
    "\n",
    "california_ohio = avg_by_state.loc[avg_by_state[\"Public Mean\"] >= 0]\n",
    "california_ohio = california_ohio.drop(columns=[\"Count of Schools\", \n",
    "                                                \"Kindergarten Mean\", \"Kindergarten Median\",\n",
    "                                                \"Other Mean\", \"Other Median\"])\n",
    "cal_oh_labels = california_ohio[\"State\"]\n",
    "california_group_fig = california_ohio.plot.bar(rot=45)\n",
    "x_axis = np.arange(len(cal_oh_labels))\n",
    "plt.ylabel(\"Average of MMR Innoculation Rates\")\n",
    "plt.xlabel(\"State\")\n",
    "plt.title(\"Mean and Median of MMR Innoculation Rates in California and Ohio\", fontsize=15)\n",
    "plt.legend(loc=\"center\")\n",
    "\n",
    "tick_locations = [value for value in x_axis]\n",
    "plt.xticks(tick_locations, cal_oh_labels, rotation=\"45\", fontsize=12)\n",
    "\n",
    "plt.show()"
   ]
  },
  {
   "cell_type": "code",
   "execution_count": null,
   "metadata": {},
   "outputs": [],
   "source": [
    "california_ohio = california_ohio.reset_index(drop=True)\n",
    "california_ohio = california_ohio.drop(columns=[\"State\"])\n",
    "ohio_cali = california_ohio.T\n",
    "# ohio_cali.rename(columns={0: \"California\", 2: \"Ohio\"})\n",
    "ohio_cali"
   ]
  },
  {
   "cell_type": "code",
   "execution_count": null,
   "metadata": {},
   "outputs": [],
   "source": [
    "ohio_cali\n",
    "oh_cal_labels = ohio_cali.index\n",
    "oh_cal_group_fig = ohio_cali.plot.bar(rot=45)\n",
    "x_axis = np.arange(len(oh_cal_labels))\n",
    "plt.ylabel(\"Average of MMR Innoculation Rates\")\n",
    "plt.xlabel(\"School and Average Type\")\n",
    "plt.title(\"Mean and Median of MMR Innoculation Rates in California and Ohio\", fontsize=15)\n",
    "legend_text=plt.legend(loc=\"center\")\n",
    "legend_text.get_texts()[0].set_text(\"California\")\n",
    "legend_text.get_texts()[1].set_text(\"Ohio\")\n",
    "# Legend text issues resolved with help from Stack Overflor\n",
    "# https://stackoverflow.com/questions/23037548/change-main-plot-legend-label-text\n",
    "\n",
    "tick_locations = [value for value in x_axis]\n",
    "plt.xticks(tick_locations, oh_cal_labels, rotation=\"45\", fontsize=12)\n",
    "\n",
    "plt.show()"
   ]
  },
  {
   "cell_type": "code",
   "execution_count": null,
   "metadata": {},
   "outputs": [],
   "source": [
    "# Testing Average by type\n",
    "avg_by_type = avg_by_state.drop(columns=[\"Count of Schools\"])\n",
    "avg_by_type = avg_by_type.drop(columns=[\"State\"])\n",
    "avg_by_type = avg_by_type.T\n",
    "avg_by_type"
   ]
  },
  {
   "cell_type": "code",
   "execution_count": null,
   "metadata": {},
   "outputs": [],
   "source": [
    "# Chart of Mean and Medians grouped together\n",
    "\n",
    "avg_by_type\n",
    "type_labels = avg_by_type.index\n",
    "type_group_fig = avg_by_type.plot.bar(rot=45)\n",
    "x_axis = np.arange(len(type_labels))\n",
    "plt.ylabel(\"Average of MMR Innoculation Rates\")\n",
    "plt.xlabel(\"School and Average Type\")\n",
    "plt.title(\"Mean and Median of MMR Innoculation Rates in All States\", fontsize=15)\n",
    "legend_text=plt.legend(loc=\"center\")\n",
    "legend_text.get_texts()[0].set_text(\"California\")\n",
    "legend_text.get_texts()[1].set_text(\"Colorado\")\n",
    "legend_text.get_texts()[2].set_text(\"Ohio\")\n",
    "legend_text.get_texts()[3].set_text(\"Oregon\")\n",
    "legend_text.get_texts()[4].set_text(\"Vermont\")\n",
    "legend_text.get_texts()[5].set_text(\"Washington\")\n",
    "\n",
    "# Legend text issues resolved with help from Stack Overflor\n",
    "# https://stackoverflow.com/questions/23037548/change-main-plot-legend-label-text\n",
    "\n",
    "tick_locations = [value for value in x_axis]\n",
    "plt.xticks(tick_locations, type_labels, rotation=\"45\", fontsize=12)\n",
    "\n",
    "plt.show()"
   ]
  },
  {
   "cell_type": "code",
   "execution_count": null,
   "metadata": {},
   "outputs": [],
   "source": [
    "print(states)\n",
    "avg_by_state\n",
    "mean_by_type = avg_by_state.drop(columns=[\"Count of Schools\", \"State\", \n",
    "                                          \"Overall Median\", \"Public Median\", \n",
    "                                          \"Kindergarten Median\", \"Other Median\"])\n",
    "mean_by_type = mean_by_type.T\n",
    "mean_by_type\n",
    "\n",
    "median_by_type = avg_by_state.drop(columns=[\"Count of Schools\", \"State\", \n",
    "                                          \"Overall Mean\", \"Public Mean\", \n",
    "                                          \"Kindergarten Mean\", \"Other Mean\"])\n",
    "median_by_type = median_by_type.T\n",
    "median_by_type"
   ]
  },
  {
   "cell_type": "code",
   "execution_count": null,
   "metadata": {},
   "outputs": [],
   "source": [
    "# Chart of Mean by type\n",
    "\n",
    "mean_by_type\n",
    "type_labels = mean_by_type.index\n",
    "type_group_fig = mean_by_type.plot.bar(rot=45)\n",
    "x_axis = np.arange(len(type_labels))\n",
    "plt.ylabel(\"Average of MMR Innoculation Rates\")\n",
    "plt.xlabel(\"School and Average Type\")\n",
    "plt.title(\"Mean of MMR Innoculation Rates in All States\", fontsize=15)\n",
    "legend_text=plt.legend(loc=\"center\")\n",
    "legend_text.get_texts()[0].set_text(\"California\")\n",
    "legend_text.get_texts()[1].set_text(\"Colorado\")\n",
    "legend_text.get_texts()[2].set_text(\"Ohio\")\n",
    "legend_text.get_texts()[3].set_text(\"Oregon\")\n",
    "legend_text.get_texts()[4].set_text(\"Vermont\")\n",
    "legend_text.get_texts()[5].set_text(\"Washington\")\n",
    "\n",
    "# Legend text issues resolved with help from Stack Overflor\n",
    "# https://stackoverflow.com/questions/23037548/change-main-plot-legend-label-text\n",
    "\n",
    "tick_locations = [value for value in x_axis]\n",
    "plt.xticks(tick_locations, type_labels, rotation=\"45\", fontsize=12)\n",
    "\n",
    "plt.show()"
   ]
  },
  {
   "cell_type": "code",
   "execution_count": null,
   "metadata": {},
   "outputs": [],
   "source": [
    "# Chart for Median only\n",
    "\n",
    "median_by_type\n",
    "type_labels = median_by_type.index\n",
    "type_group_fig = median_by_type.plot.bar(rot=45)\n",
    "x_axis = np.arange(len(type_labels))\n",
    "plt.ylabel(\"Average of MMR Innoculation Rates\")\n",
    "plt.xlabel(\"School and Average Type\")\n",
    "plt.title(\"Median of MMR Innoculation Rates in All States\", fontsize=15)\n",
    "legend_text=plt.legend(loc=\"center\")\n",
    "legend_text.get_texts()[0].set_text(\"California\")\n",
    "legend_text.get_texts()[1].set_text(\"Colorado\")\n",
    "legend_text.get_texts()[2].set_text(\"Ohio\")\n",
    "legend_text.get_texts()[3].set_text(\"Oregon\")\n",
    "legend_text.get_texts()[4].set_text(\"Vermont\")\n",
    "legend_text.get_texts()[5].set_text(\"Washington\")\n",
    "\n",
    "# Legend text issues resolved with help from Stack Overflor\n",
    "# https://stackoverflow.com/questions/23037548/change-main-plot-legend-label-text\n",
    "\n",
    "tick_locations = [value for value in x_axis]\n",
    "plt.xticks(tick_locations, type_labels, rotation=\"60\", fontsize=12)\n",
    "\n",
    "plt.show()"
   ]
  },
  {
   "cell_type": "code",
   "execution_count": null,
   "metadata": {},
   "outputs": [],
   "source": [
    "# Drop all columns in type dfs to leave a list of mmr rates for each\n",
    "\n",
    "public_rates = public_stats[\"mmr\"]\n",
    "private_rates = private_stats[\"mmr\"]\n",
    "kind_rates = kindergarten_stats[\"mmr\"]\n",
    "other_rates = other_stats[\"mmr\"]"
   ]
  },
  {
   "cell_type": "code",
   "execution_count": null,
   "metadata": {},
   "outputs": [],
   "source": []
  },
  {
   "cell_type": "code",
   "execution_count": null,
   "metadata": {},
   "outputs": [],
   "source": [
    "# Look at data in groups of states\n",
    "# California only\n",
    "\n",
    "california = avg_by_state.loc[avg_by_state[\"State\"] == \"California\"]\n",
    "california = california.drop(columns= [\"State\", \"Count of Schools\", \n",
    "                                      \"Kindergarten Mean\", \"Kindergarten Median\", \n",
    "                                      \"Other Mean\", \"Other Median\"])\n",
    "\n",
    "cali_labels = california.columns\n",
    "california = california.T\n",
    "cali_data = california[0]\n",
    "# cali_data\n",
    "\n",
    "ohio = avg_by_state.loc[avg_by_state[\"State\"] == \"Ohio\"]\n",
    "ohio = ohio.drop(columns= [\"State\", \"Count of Schools\", \n",
    "                                      \"Kindergarten Mean\", \"Kindergarten Median\", \n",
    "                                      \"Other Mean\", \"Other Median\"])\n",
    "\n",
    "\n",
    "ohio_labels = ohio.columns\n",
    "ohio = ohio.T\n",
    "ohio_data = ohio[2]\n",
    "# ohio_data\n"
   ]
  },
  {
   "cell_type": "code",
   "execution_count": null,
   "metadata": {},
   "outputs": [],
   "source": [
    "#California Only\n",
    "# Plot the data\n",
    "\n",
    "y_axis = cali_data\n",
    "x_axis = np.arange(len(cali_labels))\n",
    "\n",
    "# Tell matplotlib to make a bar chart\n",
    "plt.bar(x_axis, y_axis, color=\"green\", alpha=0.6, align=\"center\")\n",
    "\n",
    "# Formatting\n",
    "\n",
    "plt.title(\"California Vaccination Averages\")\n",
    "plt.xlabel(\"School and Average Type\")\n",
    "plt.ylabel(\"Vaccination Rates\")\n",
    "plt.ylim(0, 100)\n",
    "\n",
    "tick_locations = [value for value in x_axis]\n",
    "plt.xticks(tick_locations, cali_labels, rotation=\"45\")\n",
    "\n",
    "plt.show()"
   ]
  },
  {
   "cell_type": "code",
   "execution_count": null,
   "metadata": {},
   "outputs": [],
   "source": [
    "# Ohio only\n",
    "# Plot the data\n",
    "\n",
    "y_axis = ohio_data\n",
    "x_axis = np.arange(len(ohio_labels))\n",
    "\n",
    "# Tell matplotlib to make a bar chart\n",
    "plt.bar(x_axis, y_axis, color=\"green\", alpha=0.6, align=\"center\")\n",
    "\n",
    "# Formatting\n",
    "\n",
    "plt.title(\"Ohio Vaccination Averages\")\n",
    "plt.xlabel(\"School and Average Type\")\n",
    "plt.ylabel(\"Vaccination Rates\")\n",
    "plt.ylim(0, 100)\n",
    "\n",
    "tick_locations = [value for value in x_axis]\n",
    "plt.xticks(tick_locations, ohio_labels, rotation=\"45\")\n",
    "\n",
    "plt.show()"
   ]
  },
  {
   "cell_type": "code",
   "execution_count": null,
   "metadata": {},
   "outputs": [],
   "source": [
    "# Rylee's code begins here!"
   ]
  },
  {
   "cell_type": "code",
   "execution_count": null,
   "metadata": {},
   "outputs": [],
   "source": [
    "# Borrowed Melissa's variables in order to pull out values based on type\n",
    "# Set up Public, Private, Kindergarten, and Other dataframes\n",
    "\n",
    "public_stats = measles_clean.loc[measles_clean[\"type\"] == \"Public\"]\n",
    "# public_stats\n",
    "\n",
    "private_stats = measles_clean.loc[measles_clean[\"type\"] == \"Private\"]\n",
    "# private_stats\n",
    "\n",
    "kindergarten_stats = measles_clean.loc[measles_clean[\"type\"] == \"Kindergarten\"]\n",
    "# kindergarten_stats\n",
    "\n",
    "other_stats = measles_clean.loc[measles_clean[\"type\"] == \"Other\"]\n",
    "# other_stats"
   ]
  },
  {
   "cell_type": "code",
   "execution_count": null,
   "metadata": {},
   "outputs": [],
   "source": [
    "# Type averages plot setup\n",
    "\n",
    "public_mmr_mean = public_stats['mmr'].mean()\n",
    "# public_mmr_mean\n",
    "\n",
    "private_mmr_mean = private_stats['mmr'].mean()\n",
    "# private_mmr_mean\n",
    "\n",
    "kindergarten_mmr_mean = kindergarten_stats['mmr'].mean()\n",
    "# kindergarten_mmr_mean\n",
    "\n",
    "other_mmr_mean = other_stats['mmr'].mean()\n",
    "# other_mmr_mean\n",
    "\n",
    "# Just doing hypothesis testing right now\n",
    "# We are trying to prove that mmr rates vary by school type\n",
    "\n",
    "st.f_oneway(public_stats['mmr'], private_stats['mmr'], kindergarten_stats['mmr'], other_stats['mmr'])"
   ]
  },
  {
   "cell_type": "code",
   "execution_count": null,
   "metadata": {},
   "outputs": [],
   "source": [
    "# Taking out the \"other\" school type\n",
    "st.f_oneway(public_stats['mmr'], private_stats['mmr'], kindergarten_stats['mmr'])"
   ]
  },
  {
   "cell_type": "code",
   "execution_count": null,
   "metadata": {},
   "outputs": [],
   "source": [
    "# Taking out the \"kindergarten\" school type\n",
    "st.f_oneway(public_stats['mmr'], private_stats['mmr'], other_stats['mmr'])"
   ]
  },
  {
   "cell_type": "code",
   "execution_count": null,
   "metadata": {},
   "outputs": [],
   "source": [
    "# Taking out the \"private\" school type\n",
    "st.f_oneway(public_stats['mmr'], kindergarten_stats['mmr'], other_stats['mmr'])"
   ]
  },
  {
   "cell_type": "code",
   "execution_count": null,
   "metadata": {},
   "outputs": [],
   "source": [
    "# Taking out the \"public\" school type\n",
    "st.f_oneway(private_stats['mmr'], kindergarten_stats['mmr'], other_stats['mmr'])"
   ]
  },
  {
   "cell_type": "code",
   "execution_count": null,
   "metadata": {},
   "outputs": [],
   "source": [
    "# Taking out \"other\" and \"public\" and running a t-test because this is where the p-vals were the largest\n",
    "# when I took them out in the ANOVA\n",
    "st.ttest_ind(private_stats['mmr'], kindergarten_stats['mmr'])"
   ]
  },
  {
   "cell_type": "code",
   "execution_count": null,
   "metadata": {},
   "outputs": [],
   "source": [
    "# T-test on \"other\" and \"private\"\n",
    "st.ttest_ind(private_stats['mmr'], other_stats['mmr'])"
   ]
  },
  {
   "cell_type": "code",
   "execution_count": null,
   "metadata": {},
   "outputs": [],
   "source": [
    "# T-test on \"other\" and \"kindergarten\"\n",
    "st.ttest_ind(other_stats['mmr'], kindergarten_stats['mmr'])"
   ]
  },
  {
   "cell_type": "code",
   "execution_count": null,
   "metadata": {},
   "outputs": [],
   "source": [
    "# T-test on \"public\" and \"private\"\n",
    "st.ttest_ind(private_stats['mmr'], public_stats['mmr'])"
   ]
  },
  {
   "cell_type": "code",
   "execution_count": null,
   "metadata": {},
   "outputs": [],
   "source": [
    "# T-test on \"public\" and \"other\"\n",
    "st.ttest_ind(other_stats['mmr'], public_stats['mmr'])"
   ]
  },
  {
   "cell_type": "code",
   "execution_count": null,
   "metadata": {},
   "outputs": [],
   "source": [
    "# Beginning plot setup\n",
    "# school_types = [measles_clean['type'].unique()]\n",
    "# school_types\n",
    "\n",
    "# means = [public_mmr_mean, private_mmr_mean, kindergarten_mmr_mean, other_mmr_mean]\n",
    "# means\n",
    "\n",
    "# x_axis = school_types\n",
    "# y_axis = means\n",
    "\n",
    "# plt.bar(x_axis, y_axis, color=\"blue\")\n",
    "# # plt.ylabel(\"Mean MMR Rates\")\n",
    "# # plt.xlabel(\"School Type\")\n",
    "# # plt.title(\"Mean MMR Rates by School Type\", fontsize=15)\n",
    "\n",
    "# # tick_locations = [value for value in x_axis]\n",
    "# # plt.xticks(tick_locations, states, rotation=\"45\", fontsize=12)\n",
    "\n",
    "# plt.show()"
   ]
  },
  {
   "cell_type": "code",
   "execution_count": null,
   "metadata": {},
   "outputs": [],
   "source": [
    "# Loop through the data frame to calculate stats by state\n",
    "\n",
    "# Set up empty lists to fill in for loop\n",
    "# states = measles_clean[\"state\"].unique()\n",
    "# # states\n",
    "# count_states = []\n",
    "# mean_mmr = []\n",
    "# median_mmr = []\n",
    "# public_mean = []\n",
    "# public_median = []\n",
    "# private_mean = []\n",
    "# private_median = []\n",
    "# kind_mean = []\n",
    "# kind_median = []\n",
    "# other_mean = []\n",
    "# other_median = []\n",
    "\n",
    "# for state in states:\n",
    "    \n",
    "#     # Identify what state to work with\n",
    "#     state_active = measles_clean.loc[measles_clean[\"state\"] == state]\n",
    "    \n",
    "#     # Count all the schools for each state\n",
    "#     count_active = state_active[\"state\"].count()\n",
    "#     count_states.append(count_active)\n",
    "    \n",
    "#     # Calculate mean for each state\n",
    "#     mean_active = state_active[\"mmr\"].mean()\n",
    "#     mean_mmr.append(mean_active)\n",
    "    \n",
    "#     # Calculate median for each state\n",
    "#     median_active = state_active[\"mmr\"].median()\n",
    "#     median_mmr.append(median_active)\n",
    "    \n",
    "#     # Reset state_active for use on public subsets\n",
    "#     state_active = public_stats.loc[public_stats[\"state\"] == state]\n",
    "    \n",
    "#     # Calculate mean for public schools\n",
    "#     public_active = state_active[\"mmr\"].mean()\n",
    "#     public_mean.append(public_active)\n",
    "    \n",
    "#     # Calculate median for public schools\n",
    "#     public_active = state_active[\"mmr\"].median()\n",
    "#     public_median.append(public_active)\n",
    "    \n",
    "#     # Reset state_active for use on private subsets\n",
    "#     state_active = private_stats.loc[private_stats[\"state\"] == state]\n",
    "    \n",
    "#     # Calculate mean for private schools\n",
    "#     private_active = state_active[\"mmr\"].mean()\n",
    "#     private_mean.append(private_active)\n",
    "    \n",
    "#     # Calculate median for private schools\n",
    "#     private_active = state_active[\"mmr\"].median()\n",
    "#     private_median.append(private_active)\n",
    "    \n",
    "#     # Reset state_active for use on kindergarten subsets\n",
    "#     state_active = kindergarten_stats.loc[kindergarten_stats[\"state\"] == state]\n",
    "    \n",
    "#     # Calculate mean for kindergarten schools\n",
    "#     kind_active = state_active[\"mmr\"].mean()\n",
    "#     kind_mean.append(kind_active)\n",
    "    \n",
    "#     # Calculate median for kindergarten schools\n",
    "#     kind_active = state_active[\"mmr\"].median()\n",
    "#     kind_median.append(kind_active)\n",
    "    \n",
    "#     # Reset state_active for use on other subsets\n",
    "#     state_active = other_stats.loc[other_stats[\"state\"] == state]\n",
    "    \n",
    "#     # Calculate mean for Other schools\n",
    "#     other_active = state_active[\"mmr\"].mean()\n",
    "#     other_mean.append(other_active)\n",
    "    \n",
    "#     # Calculate median for Other schools\n",
    "#     other_active = state_active[\"mmr\"].median()\n",
    "#     other_median.append(other_active)\n",
    "   \n",
    "       \n",
    "# # other_median"
   ]
  },
  {
   "cell_type": "code",
   "execution_count": null,
   "metadata": {},
   "outputs": [],
   "source": [
    "# Type medians\n",
    "\n",
    "# type_medians = type_groups['mmr'].median()\n",
    "# type_medians"
   ]
  },
  {
   "cell_type": "code",
   "execution_count": null,
   "metadata": {},
   "outputs": [],
   "source": [
    "# Rylee's code ends here!"
   ]
  }
 ],
 "metadata": {
  "kernelspec": {
   "display_name": "Python 3",
   "language": "python",
   "name": "python3"
  },
  "language_info": {
   "codemirror_mode": {
    "name": "ipython",
    "version": 3
   },
   "file_extension": ".py",
   "mimetype": "text/x-python",
   "name": "python",
   "nbconvert_exporter": "python",
   "pygments_lexer": "ipython3",
   "version": "3.6.10"
  }
 },
 "nbformat": 4,
 "nbformat_minor": 4
}
