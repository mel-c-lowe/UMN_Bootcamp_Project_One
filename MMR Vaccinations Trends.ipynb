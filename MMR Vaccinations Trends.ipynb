{
 "cells": [
  {
   "cell_type": "code",
   "execution_count": null,
   "metadata": {},
   "outputs": [],
   "source": [
    "%matplotlib notebook"
   ]
  },
  {
   "cell_type": "code",
   "execution_count": null,
   "metadata": {},
   "outputs": [],
   "source": [
    "# Import Dependencies\n",
    "import random\n",
    "import matplotlib.pyplot as plt\n",
    "import numpy as np\n",
    "import pandas as pd"
   ]
  },
  {
   "cell_type": "code",
   "execution_count": null,
   "metadata": {},
   "outputs": [],
   "source": [
    "# Read in the data\n",
    "measles_raw_data = pd.read_csv(\"measles - measles.csv\")"
   ]
  },
  {
   "cell_type": "code",
   "execution_count": null,
   "metadata": {},
   "outputs": [],
   "source": [
    "# Drop unneeded columns\n",
    "measles_clean = measles_raw_data.drop(columns=[\"xper\", \"xmed\", \"xrel\", \"district\", \"year\", \"county\", \"enroll\"])"
   ]
  },
  {
   "cell_type": "code",
   "execution_count": null,
   "metadata": {},
   "outputs": [],
   "source": [
    "# Discard rows where mmr or overall are -1\n",
    "measles_clean = measles_clean.loc[measles_clean[\"mmr\"] >= 0]\n",
    "measles_clean = measles_clean.loc[measles_clean[\"overall\"] >= 0]\n"
   ]
  },
  {
   "cell_type": "code",
   "execution_count": null,
   "metadata": {},
   "outputs": [],
   "source": [
    "# Dealing with the NaN's\n",
    "measles_clean[\"type\"].fillna(\"Other\", inplace = True)"
   ]
  },
  {
   "cell_type": "code",
   "execution_count": null,
   "metadata": {},
   "outputs": [],
   "source": [
    "# This was research\n",
    "\n",
    "# # measles_clean.loc[(measles_clean.type == \"NaN\"), \"type\"]=\"Other\"\n",
    "# # measles_clean[\"type\"]=measles_clean[\"type\"].replace({\"NaN\":\"Other\"})\n",
    "# # measles_clean.loc[(measles_clean.type == 'NaN'),'type']='Other'\n",
    "# # measles_clean.fillna(0)\n",
    "\n",
    "# measles_clean[\"type\"]=measles_clean[\"type\"].fillna(0)\n",
    "# measles_clean[\"type\"] = measles_clean.type.astype(str)\n",
    "\n",
    "# measles_clean.loc[(measles_clean.type == \"0\"), \"type\"]=\"Other\"\n",
    "# measles_clean"
   ]
  },
  {
   "cell_type": "markdown",
   "metadata": {},
   "source": [
    "## SCATTER PLOT: LATITUDE vs LONGITUDE"
   ]
  },
  {
   "cell_type": "code",
   "execution_count": null,
   "metadata": {},
   "outputs": [],
   "source": [
    "df1 = pd.DataFrame(measles_clean, columns=[\"lat\", \"lng\"])\n",
    "df1.plot.scatter(x=\"lng\", y=\"lat\");\n",
    "\n",
    "plt.title(\"Scatter Plot: Latitude vs Longitude\")\n",
    "plt.xlabel(\"Latitude\")\n",
    "plt.ylabel(\"Longitude\")\n",
    "plt.savefig('s1.png')"
   ]
  },
  {
   "cell_type": "markdown",
   "metadata": {},
   "source": [
    "Points on the extreme right are erroneous and must be dropped from the table. The easternmost point in the contiguous US is West Quoddy Head Lighthouse (Maine) with the coordinates (44.81756628922163, -66.95132155560584) so we can't have any longitude value greater than - 66.95132155560584."
   ]
  },
  {
   "cell_type": "code",
   "execution_count": null,
   "metadata": {},
   "outputs": [],
   "source": [
    "# Keeping only negative longitudes\n",
    "measles_clean_lng = measles_clean[measles_clean['lng'] < 0]"
   ]
  },
  {
   "cell_type": "code",
   "execution_count": null,
   "metadata": {},
   "outputs": [],
   "source": [
    "# Re-drawing the scatter\n",
    "df2 = pd.DataFrame(measles_clean_lng, columns=[\"lat\", \"lng\"])\n",
    "df2.plot.scatter(x=\"lng\", y=\"lat\");\n",
    "\n",
    "plt.title(\"Scatter Plot: Latitude vs Longitude\")\n",
    "plt.xlabel(\"Latitude\")\n",
    "plt.ylabel(\"Longitude\")\n",
    "plt.savefig('s2.png')"
   ]
  },
  {
   "cell_type": "code",
   "execution_count": null,
   "metadata": {},
   "outputs": [],
   "source": [
    "#New column for coloring states\n",
    "measles_clean_lng['state2'] = measles_clean_lng['state']"
   ]
  },
  {
   "cell_type": "code",
   "execution_count": null,
   "metadata": {},
   "outputs": [],
   "source": [
    "# Assigning numerical values to state names for coloring\n",
    "measles_clean_lng.loc[measles_clean_lng['state'] == 'California', 'state2'] = 1\n",
    "measles_clean_lng.loc[measles_clean_lng['state'] == 'Colorado', 'state2'] = 2\n",
    "measles_clean_lng.loc[measles_clean_lng['state'] == 'Ohio', 'state2'] = 3\n",
    "measles_clean_lng.loc[measles_clean_lng['state'] == 'Oregon', 'state2'] = 4\n",
    "measles_clean_lng.loc[measles_clean_lng['state'] == 'Washington', 'state2'] = 5\n",
    "measles_clean_lng.loc[measles_clean_lng['state'] == 'Vermont', 'state2'] = 6"
   ]
  },
  {
   "cell_type": "code",
   "execution_count": null,
   "metadata": {},
   "outputs": [],
   "source": [
    "# Colored scatte rplot\n",
    "dfScat = measles_clean_lng[['lng','lat', 'state2']]\n",
    "#axScat = dfScat.plot(kind='scatter', x=0, y=1, c=2, colormap='inferno')\n",
    "#axScat = dfScat.plot(kind='scatter', x=0, y=1, c=2, colormap='plasma')\n",
    "#axScat = dfScat.plot(kind='scatter', x=0, y=1, c=2, colormap='viridis')\n",
    "axScat = dfScat.plot(kind='scatter', x=0, y=1, c=2, colormap='magma')"
   ]
  },
  {
   "cell_type": "code",
   "execution_count": null,
   "metadata": {},
   "outputs": [],
   "source": [
    "# Boxplot of school types\n",
    "type_boxplot = measles_clean_lng[['mmr','type']]\n",
    "type_boxplot.boxplot(by='type')"
   ]
  }
 ],
 "metadata": {
  "kernelspec": {
   "display_name": "Python 3",
   "language": "python",
   "name": "python3"
  },
  "language_info": {
   "codemirror_mode": {
    "name": "ipython",
    "version": 3
   },
   "file_extension": ".py",
   "mimetype": "text/x-python",
   "name": "python",
   "nbconvert_exporter": "python",
   "pygments_lexer": "ipython3",
   "version": "3.6.10"
  }
 },
 "nbformat": 4,
 "nbformat_minor": 4
}
