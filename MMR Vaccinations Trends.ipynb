{
 "cells": [
  {
   "cell_type": "markdown",
   "metadata": {},
   "source": [
    "\n",
    "Main notebook contains contributions from all members and is currently being reviewed for conformity.\n",
    "Some order has been changed to ensure variables are set and core code is isolated outside of \n",
    "each person's contribution."
   ]
  },
  {
   "cell_type": "code",
   "execution_count": 1,
   "metadata": {},
   "outputs": [],
   "source": [
    "#Import Dependencies\n",
    "import matplotlib.pyplot as plt\n",
    "import pandas as pd\n",
    "import numpy as np\n",
    "import requests\n",
    "import time\n",
    "import scipy.stats as st\n",
    "from scipy.stats import linregress\n",
    "import warnings\n",
    "warnings.filterwarnings(\"ignore\")"
   ]
  },
  {
   "cell_type": "code",
   "execution_count": 2,
   "metadata": {},
   "outputs": [
    {
     "data": {
      "text/html": [
       "<div>\n",
       "<style scoped>\n",
       "    .dataframe tbody tr th:only-of-type {\n",
       "        vertical-align: middle;\n",
       "    }\n",
       "\n",
       "    .dataframe tbody tr th {\n",
       "        vertical-align: top;\n",
       "    }\n",
       "\n",
       "    .dataframe thead th {\n",
       "        text-align: right;\n",
       "    }\n",
       "</style>\n",
       "<table border=\"1\" class=\"dataframe\">\n",
       "  <thead>\n",
       "    <tr style=\"text-align: right;\">\n",
       "      <th></th>\n",
       "      <th>index</th>\n",
       "      <th>state</th>\n",
       "      <th>name</th>\n",
       "      <th>type</th>\n",
       "      <th>city</th>\n",
       "      <th>county</th>\n",
       "      <th>district</th>\n",
       "      <th>enroll</th>\n",
       "      <th>mmr</th>\n",
       "      <th>overall</th>\n",
       "      <th>xrel</th>\n",
       "      <th>xmed</th>\n",
       "      <th>xper</th>\n",
       "      <th>lat</th>\n",
       "      <th>lng</th>\n",
       "    </tr>\n",
       "    <tr>\n",
       "      <th>year</th>\n",
       "      <th></th>\n",
       "      <th></th>\n",
       "      <th></th>\n",
       "      <th></th>\n",
       "      <th></th>\n",
       "      <th></th>\n",
       "      <th></th>\n",
       "      <th></th>\n",
       "      <th></th>\n",
       "      <th></th>\n",
       "      <th></th>\n",
       "      <th></th>\n",
       "      <th></th>\n",
       "      <th></th>\n",
       "      <th></th>\n",
       "    </tr>\n",
       "  </thead>\n",
       "  <tbody>\n",
       "    <tr>\n",
       "      <th>2017</th>\n",
       "      <td>1939</td>\n",
       "      <td>1939</td>\n",
       "      <td>1939</td>\n",
       "      <td>0</td>\n",
       "      <td>1939</td>\n",
       "      <td>0</td>\n",
       "      <td>0</td>\n",
       "      <td>1939</td>\n",
       "      <td>1939</td>\n",
       "      <td>1939</td>\n",
       "      <td>0</td>\n",
       "      <td>0</td>\n",
       "      <td>0</td>\n",
       "      <td>1939</td>\n",
       "      <td>1939</td>\n",
       "    </tr>\n",
       "    <tr>\n",
       "      <th>2017-18</th>\n",
       "      <td>10418</td>\n",
       "      <td>10418</td>\n",
       "      <td>10418</td>\n",
       "      <td>7183</td>\n",
       "      <td>6060</td>\n",
       "      <td>10390</td>\n",
       "      <td>0</td>\n",
       "      <td>4970</td>\n",
       "      <td>10418</td>\n",
       "      <td>10418</td>\n",
       "      <td>9</td>\n",
       "      <td>1829</td>\n",
       "      <td>2698</td>\n",
       "      <td>10410</td>\n",
       "      <td>10410</td>\n",
       "    </tr>\n",
       "    <tr>\n",
       "      <th>2018-19</th>\n",
       "      <td>48075</td>\n",
       "      <td>48075</td>\n",
       "      <td>48075</td>\n",
       "      <td>22308</td>\n",
       "      <td>34573</td>\n",
       "      <td>43788</td>\n",
       "      <td>0</td>\n",
       "      <td>40900</td>\n",
       "      <td>48075</td>\n",
       "      <td>48075</td>\n",
       "      <td>84</td>\n",
       "      <td>17723</td>\n",
       "      <td>4483</td>\n",
       "      <td>46539</td>\n",
       "      <td>46539</td>\n",
       "    </tr>\n",
       "  </tbody>\n",
       "</table>\n",
       "</div>"
      ],
      "text/plain": [
       "         index  state   name   type   city  county  district  enroll    mmr  \\\n",
       "year                                                                          \n",
       "2017      1939   1939   1939      0   1939       0         0    1939   1939   \n",
       "2017-18  10418  10418  10418   7183   6060   10390         0    4970  10418   \n",
       "2018-19  48075  48075  48075  22308  34573   43788         0   40900  48075   \n",
       "\n",
       "         overall  xrel   xmed  xper    lat    lng  \n",
       "year                                               \n",
       "2017        1939     0      0     0   1939   1939  \n",
       "2017-18    10418     9   1829  2698  10410  10410  \n",
       "2018-19    48075    84  17723  4483  46539  46539  "
      ]
     },
     "execution_count": 2,
     "metadata": {},
     "output_type": "execute_result"
    }
   ],
   "source": [
    "measles_raw_data = pd.read_csv(\"measles - measles.csv\")\n",
    "measles_raw_data.head()\n",
    "measles_raw_data.groupby(\"year\").count()"
   ]
  },
  {
   "cell_type": "code",
   "execution_count": 3,
   "metadata": {},
   "outputs": [
    {
     "data": {
      "text/plain": [
       "index        int64\n",
       "state       object\n",
       "name        object\n",
       "type        object\n",
       "city        object\n",
       "mmr        float64\n",
       "overall    float64\n",
       "lat        float64\n",
       "lng        float64\n",
       "dtype: object"
      ]
     },
     "execution_count": 3,
     "metadata": {},
     "output_type": "execute_result"
    }
   ],
   "source": [
    "measles_clean = measles_raw_data.drop(columns=[\"xper\", \"xmed\", \"xrel\", \"district\", \"year\", \"county\", \"enroll\"])\n",
    "# measles_clean = measles_clean.dropna()\n",
    "\n",
    "measles_clean.dtypes"
   ]
  },
  {
   "cell_type": "code",
   "execution_count": 4,
   "metadata": {},
   "outputs": [
    {
     "data": {
      "text/plain": [
       "-1.000000      27224\n",
       " 98.000000      5191\n",
       " 100.000000     3619\n",
       " 95.000000      3051\n",
       " 99.000000      1764\n",
       "               ...  \n",
       " 90.140845         1\n",
       " 96.020000         1\n",
       " 43.640000         1\n",
       " 98.098859         1\n",
       " 90.052356         1\n",
       "Name: overall, Length: 2691, dtype: int64"
      ]
     },
     "execution_count": 4,
     "metadata": {},
     "output_type": "execute_result"
    }
   ],
   "source": [
    "# neg_count = measles_clean.loc[[\"mmr\" == \"-1\"]]\n",
    "# len(neg_count)\n",
    "\n",
    "measles_clean['mmr'].value_counts()\n",
    "measles_clean['overall'].value_counts()"
   ]
  },
  {
   "cell_type": "code",
   "execution_count": 5,
   "metadata": {},
   "outputs": [],
   "source": [
    "# Dealing with the NaN's\n",
    "measles_clean[\"type\"].fillna(\"Other\", inplace = True)"
   ]
  },
  {
   "cell_type": "code",
   "execution_count": 6,
   "metadata": {},
   "outputs": [
    {
     "data": {
      "text/html": [
       "<div>\n",
       "<style scoped>\n",
       "    .dataframe tbody tr th:only-of-type {\n",
       "        vertical-align: middle;\n",
       "    }\n",
       "\n",
       "    .dataframe tbody tr th {\n",
       "        vertical-align: top;\n",
       "    }\n",
       "\n",
       "    .dataframe thead th {\n",
       "        text-align: right;\n",
       "    }\n",
       "</style>\n",
       "<table border=\"1\" class=\"dataframe\">\n",
       "  <thead>\n",
       "    <tr style=\"text-align: right;\">\n",
       "      <th></th>\n",
       "      <th>index</th>\n",
       "      <th>state</th>\n",
       "      <th>name</th>\n",
       "      <th>type</th>\n",
       "      <th>city</th>\n",
       "      <th>mmr</th>\n",
       "      <th>overall</th>\n",
       "      <th>lat</th>\n",
       "      <th>lng</th>\n",
       "    </tr>\n",
       "  </thead>\n",
       "  <tbody>\n",
       "    <tr>\n",
       "      <th>2018</th>\n",
       "      <td>1</td>\n",
       "      <td>California</td>\n",
       "      <td>Abby Reinke Elementary</td>\n",
       "      <td>Public</td>\n",
       "      <td>Temecula</td>\n",
       "      <td>99.00</td>\n",
       "      <td>96.00</td>\n",
       "      <td>33.492008</td>\n",
       "      <td>-117.087291</td>\n",
       "    </tr>\n",
       "    <tr>\n",
       "      <th>2019</th>\n",
       "      <td>2</td>\n",
       "      <td>California</td>\n",
       "      <td>Abraham Lincoln Elementary</td>\n",
       "      <td>Public</td>\n",
       "      <td>Santa Ana</td>\n",
       "      <td>99.00</td>\n",
       "      <td>99.00</td>\n",
       "      <td>33.741155</td>\n",
       "      <td>-117.902009</td>\n",
       "    </tr>\n",
       "    <tr>\n",
       "      <th>2020</th>\n",
       "      <td>2</td>\n",
       "      <td>California</td>\n",
       "      <td>Abraham Lincoln Elementary</td>\n",
       "      <td>Public</td>\n",
       "      <td>Santa Ana</td>\n",
       "      <td>99.00</td>\n",
       "      <td>99.00</td>\n",
       "      <td>34.077328</td>\n",
       "      <td>-117.317020</td>\n",
       "    </tr>\n",
       "    <tr>\n",
       "      <th>2021</th>\n",
       "      <td>2</td>\n",
       "      <td>California</td>\n",
       "      <td>Abraham Lincoln Elementary</td>\n",
       "      <td>Public</td>\n",
       "      <td>Santa Ana</td>\n",
       "      <td>99.00</td>\n",
       "      <td>99.00</td>\n",
       "      <td>34.227892</td>\n",
       "      <td>-118.252604</td>\n",
       "    </tr>\n",
       "    <tr>\n",
       "      <th>2022</th>\n",
       "      <td>2</td>\n",
       "      <td>California</td>\n",
       "      <td>Abraham Lincoln Elementary</td>\n",
       "      <td>Public</td>\n",
       "      <td>Santa Ana</td>\n",
       "      <td>99.00</td>\n",
       "      <td>99.00</td>\n",
       "      <td>33.734440</td>\n",
       "      <td>-116.373073</td>\n",
       "    </tr>\n",
       "    <tr>\n",
       "      <th>...</th>\n",
       "      <td>...</td>\n",
       "      <td>...</td>\n",
       "      <td>...</td>\n",
       "      <td>...</td>\n",
       "      <td>...</td>\n",
       "      <td>...</td>\n",
       "      <td>...</td>\n",
       "      <td>...</td>\n",
       "      <td>...</td>\n",
       "    </tr>\n",
       "    <tr>\n",
       "      <th>63242</th>\n",
       "      <td>1364</td>\n",
       "      <td>Washington</td>\n",
       "      <td>Overcomer Academy</td>\n",
       "      <td>Other</td>\n",
       "      <td>Auburn</td>\n",
       "      <td>23.53</td>\n",
       "      <td>17.65</td>\n",
       "      <td>47.301117</td>\n",
       "      <td>-122.276320</td>\n",
       "    </tr>\n",
       "    <tr>\n",
       "      <th>63243</th>\n",
       "      <td>1365</td>\n",
       "      <td>Washington</td>\n",
       "      <td>Salvation Christian Academy- Formerly Slavic C...</td>\n",
       "      <td>Other</td>\n",
       "      <td>Edgewood</td>\n",
       "      <td>22.22</td>\n",
       "      <td>22.22</td>\n",
       "      <td>47.249023</td>\n",
       "      <td>-122.287615</td>\n",
       "    </tr>\n",
       "    <tr>\n",
       "      <th>63244</th>\n",
       "      <td>1366</td>\n",
       "      <td>Washington</td>\n",
       "      <td>Saratoga</td>\n",
       "      <td>Other</td>\n",
       "      <td>Stanwood</td>\n",
       "      <td>20.00</td>\n",
       "      <td>20.00</td>\n",
       "      <td>48.242579</td>\n",
       "      <td>-122.359097</td>\n",
       "    </tr>\n",
       "    <tr>\n",
       "      <th>63245</th>\n",
       "      <td>1367</td>\n",
       "      <td>Washington</td>\n",
       "      <td>Skagit Family Learning Center</td>\n",
       "      <td>Other</td>\n",
       "      <td>Mount Vernon</td>\n",
       "      <td>17.65</td>\n",
       "      <td>11.76</td>\n",
       "      <td>48.406426</td>\n",
       "      <td>-122.339166</td>\n",
       "    </tr>\n",
       "    <tr>\n",
       "      <th>63246</th>\n",
       "      <td>1368</td>\n",
       "      <td>Washington</td>\n",
       "      <td>Snohomish Center</td>\n",
       "      <td>Other</td>\n",
       "      <td>Snohomish</td>\n",
       "      <td>10.00</td>\n",
       "      <td>10.00</td>\n",
       "      <td>47.931768</td>\n",
       "      <td>-122.098760</td>\n",
       "    </tr>\n",
       "  </tbody>\n",
       "</table>\n",
       "<p>21768 rows × 9 columns</p>\n",
       "</div>"
      ],
      "text/plain": [
       "       index       state                                               name  \\\n",
       "2018       1  California                             Abby Reinke Elementary   \n",
       "2019       2  California                         Abraham Lincoln Elementary   \n",
       "2020       2  California                         Abraham Lincoln Elementary   \n",
       "2021       2  California                         Abraham Lincoln Elementary   \n",
       "2022       2  California                         Abraham Lincoln Elementary   \n",
       "...      ...         ...                                                ...   \n",
       "63242   1364  Washington                                  Overcomer Academy   \n",
       "63243   1365  Washington  Salvation Christian Academy- Formerly Slavic C...   \n",
       "63244   1366  Washington                                           Saratoga   \n",
       "63245   1367  Washington                      Skagit Family Learning Center   \n",
       "63246   1368  Washington                                   Snohomish Center   \n",
       "\n",
       "         type          city    mmr  overall        lat         lng  \n",
       "2018   Public      Temecula  99.00    96.00  33.492008 -117.087291  \n",
       "2019   Public     Santa Ana  99.00    99.00  33.741155 -117.902009  \n",
       "2020   Public     Santa Ana  99.00    99.00  34.077328 -117.317020  \n",
       "2021   Public     Santa Ana  99.00    99.00  34.227892 -118.252604  \n",
       "2022   Public     Santa Ana  99.00    99.00  33.734440 -116.373073  \n",
       "...       ...           ...    ...      ...        ...         ...  \n",
       "63242   Other        Auburn  23.53    17.65  47.301117 -122.276320  \n",
       "63243   Other      Edgewood  22.22    22.22  47.249023 -122.287615  \n",
       "63244   Other      Stanwood  20.00    20.00  48.242579 -122.359097  \n",
       "63245   Other  Mount Vernon  17.65    11.76  48.406426 -122.339166  \n",
       "63246   Other     Snohomish  10.00    10.00  47.931768 -122.098760  \n",
       "\n",
       "[21768 rows x 9 columns]"
      ]
     },
     "execution_count": 6,
     "metadata": {},
     "output_type": "execute_result"
    }
   ],
   "source": [
    "# Remove -1 values\n",
    "measles_clean = measles_clean.loc[measles_clean[\"mmr\"] >= 0]\n",
    "measles_clean = measles_clean.loc[measles_clean[\"overall\"] >= 0]\n",
    "measles_clean"
   ]
  },
  {
   "cell_type": "code",
   "execution_count": 7,
   "metadata": {},
   "outputs": [
    {
     "data": {
      "text/html": [
       "<div>\n",
       "<style scoped>\n",
       "    .dataframe tbody tr th:only-of-type {\n",
       "        vertical-align: middle;\n",
       "    }\n",
       "\n",
       "    .dataframe tbody tr th {\n",
       "        vertical-align: top;\n",
       "    }\n",
       "\n",
       "    .dataframe thead th {\n",
       "        text-align: right;\n",
       "    }\n",
       "</style>\n",
       "<table border=\"1\" class=\"dataframe\">\n",
       "  <thead>\n",
       "    <tr style=\"text-align: right;\">\n",
       "      <th></th>\n",
       "      <th>index</th>\n",
       "      <th>state</th>\n",
       "      <th>name</th>\n",
       "      <th>city</th>\n",
       "      <th>mmr</th>\n",
       "      <th>overall</th>\n",
       "      <th>lat</th>\n",
       "      <th>lng</th>\n",
       "    </tr>\n",
       "    <tr>\n",
       "      <th>type</th>\n",
       "      <th></th>\n",
       "      <th></th>\n",
       "      <th></th>\n",
       "      <th></th>\n",
       "      <th></th>\n",
       "      <th></th>\n",
       "      <th></th>\n",
       "      <th></th>\n",
       "    </tr>\n",
       "  </thead>\n",
       "  <tbody>\n",
       "    <tr>\n",
       "      <th>Kindergarten</th>\n",
       "      <td>1484</td>\n",
       "      <td>1484</td>\n",
       "      <td>1484</td>\n",
       "      <td>0</td>\n",
       "      <td>1484</td>\n",
       "      <td>1484</td>\n",
       "      <td>1484</td>\n",
       "      <td>1484</td>\n",
       "    </tr>\n",
       "    <tr>\n",
       "      <th>Other</th>\n",
       "      <td>3122</td>\n",
       "      <td>3122</td>\n",
       "      <td>3122</td>\n",
       "      <td>1978</td>\n",
       "      <td>3122</td>\n",
       "      <td>3122</td>\n",
       "      <td>3121</td>\n",
       "      <td>3121</td>\n",
       "    </tr>\n",
       "    <tr>\n",
       "      <th>Private</th>\n",
       "      <td>2258</td>\n",
       "      <td>2258</td>\n",
       "      <td>2258</td>\n",
       "      <td>2237</td>\n",
       "      <td>2258</td>\n",
       "      <td>2258</td>\n",
       "      <td>2207</td>\n",
       "      <td>2207</td>\n",
       "    </tr>\n",
       "    <tr>\n",
       "      <th>Public</th>\n",
       "      <td>14904</td>\n",
       "      <td>14904</td>\n",
       "      <td>14904</td>\n",
       "      <td>14904</td>\n",
       "      <td>14904</td>\n",
       "      <td>14904</td>\n",
       "      <td>14895</td>\n",
       "      <td>14895</td>\n",
       "    </tr>\n",
       "  </tbody>\n",
       "</table>\n",
       "</div>"
      ],
      "text/plain": [
       "              index  state   name   city    mmr  overall    lat    lng\n",
       "type                                                                  \n",
       "Kindergarten   1484   1484   1484      0   1484     1484   1484   1484\n",
       "Other          3122   3122   3122   1978   3122     3122   3121   3121\n",
       "Private        2258   2258   2258   2237   2258     2258   2207   2207\n",
       "Public        14904  14904  14904  14904  14904    14904  14895  14895"
      ]
     },
     "execution_count": 7,
     "metadata": {},
     "output_type": "execute_result"
    }
   ],
   "source": [
    "type_groups = measles_clean.groupby(\"type\")\n",
    "type_groups.count()"
   ]
  },
  {
   "cell_type": "code",
   "execution_count": 8,
   "metadata": {},
   "outputs": [],
   "source": [
    "# Terra's code begins here"
   ]
  },
  {
   "cell_type": "code",
   "execution_count": 9,
   "metadata": {},
   "outputs": [
    {
     "data": {
      "text/plain": [
       "type\n",
       "Kindergarten     1484\n",
       "Other            3122\n",
       "Private          2258\n",
       "Public          14904\n",
       "Name: type, dtype: int64"
      ]
     },
     "execution_count": 9,
     "metadata": {},
     "output_type": "execute_result"
    }
   ],
   "source": [
    "# Make series to create pie chart\n",
    "school_type = measles_clean.groupby('type')\n",
    "\n",
    "count_school_type = school_type['type'].count()\n",
    "count_school_type"
   ]
  },
  {
   "cell_type": "code",
   "execution_count": 76,
   "metadata": {},
   "outputs": [
    {
     "data": {
      "image/png": "[encoded data removed]",
      "text/plain": [
       "<Figure size 576x576 with 1 Axes>"
      ]
     },
     "metadata": {},
     "output_type": "display_data"
    }
   ],
   "source": [
    "# Fix error - Terra \n",
    "# No error after prior code order was corrected.  \"Other\" category had not been set.\n",
    "school_type_pie = count_school_type.plot(kind=\"pie\", figsize = (8,8), subplots=True, fontsize=15, autopct='%0.1f%%', \\\n",
    "                                         labels=['Kindergarten', 'Other', 'Private', 'Public'], title=['School Type']) \n",
    "# school_type_pie.set_ylabel(\"Types of Schools\")\n",
    "# plt.axis('equal') \n",
    "# plt.title('Type of School')\n",
    "\n",
    "# plt.show()                           \n",
    "plt.tight_layout()\n",
    "plt.savefig('pie_by_type.png')\n",
    "# type_vals = type_count['type']\n",
    "# type_labels = type_count['index']"
   ]
  },
  {
   "cell_type": "code",
   "execution_count": 11,
   "metadata": {},
   "outputs": [
    {
     "data": {
      "text/plain": [
       "state\n",
       "California    14224\n",
       "Colorado       1505\n",
       "Ohio           2917\n",
       "Oregon          806\n",
       "Vermont         338\n",
       "Washington     1978\n",
       "Name: type, dtype: int64"
      ]
     },
     "execution_count": 11,
     "metadata": {},
     "output_type": "execute_result"
    }
   ],
   "source": [
    "# State list correct after prior code conformed and corrected\n",
    "state_percents = measles_clean.groupby('state')\n",
    "\n",
    "count_state_percents = state_percents['type'].count()\n",
    "count_state_percents"
   ]
  },
  {
   "cell_type": "code",
   "execution_count": 75,
   "metadata": {},
   "outputs": [
    {
     "data": {
      "image/png": "[encoded data removed]",
      "text/plain": [
       "<Figure size 576x576 with 1 Axes>"
      ]
     },
     "metadata": {},
     "output_type": "display_data"
    }
   ],
   "source": [
    "school_type_pie = count_state_percents.plot(kind=\"pie\", figsize = (8,8), subplots=True, fontsize=14, autopct='%0.1f%%', \\\n",
    "                                         labels=['California', 'Colorado', 'Ohio', 'Oregon', 'Vermont', 'Washington'], \\\n",
    "                                         title=['Number of Schools by State']) \n",
    "\n",
    "# texts[0].set_fonsize(4)\n",
    "# plt.show()                           \n",
    "plt.tight_layout()\n",
    "plt.savefig('pie_by_state.png')"
   ]
  },
  {
   "cell_type": "code",
   "execution_count": 13,
   "metadata": {},
   "outputs": [],
   "source": [
    "# Terra's code ends above\n",
    "# Fukhrudin's code starts below"
   ]
  },
  {
   "cell_type": "markdown",
   "metadata": {},
   "source": [
    "## SCATTER PLOT: LATITUDE vs LONGITUDE"
   ]
  },
  {
   "cell_type": "code",
   "execution_count": 14,
   "metadata": {},
   "outputs": [
    {
     "data": {
      "image/png": "[encoded data removed]",
      "text/plain": [
       "<Figure size 432x288 with 1 Axes>"
      ]
     },
     "metadata": {
      "needs_background": "light"
     },
     "output_type": "display_data"
    }
   ],
   "source": [
    "df1 = pd.DataFrame(measles_clean, columns=[\"lat\", \"lng\"])\n",
    "df1.plot.scatter(x=\"lng\", y=\"lat\");\n",
    "\n",
    "plt.title(\"Scatter Plot: Latitude vs Longitude\")\n",
    "plt.xlabel(\"Latitude\")\n",
    "plt.ylabel(\"Longitude\")\n",
    "plt.savefig('s1.png')"
   ]
  },
  {
   "cell_type": "markdown",
   "metadata": {},
   "source": [
    "Points on the extreme right are erroneous and must be dropped from the table. The easternmost point in the contiguous US is West Quoddy Head Lighthouse (Maine) with the coordinates (44.81756628922163, -66.95132155560584) so we can't have any longitude value greater than - 66.95132155560584."
   ]
  },
  {
   "cell_type": "code",
   "execution_count": 15,
   "metadata": {},
   "outputs": [],
   "source": [
    "# Keeping only negative longitudes\n",
    "measles_clean_lng = measles_clean[measles_clean['lng'] < 0]"
   ]
  },
  {
   "cell_type": "code",
   "execution_count": 16,
   "metadata": {},
   "outputs": [
    {
     "data": {
      "image/png": "[encoded data removed]",
      "text/plain": [
       "<Figure size 432x288 with 1 Axes>"
      ]
     },
     "metadata": {
      "needs_background": "light"
     },
     "output_type": "display_data"
    }
   ],
   "source": [
    "# Re-drawing the scatter\n",
    "df2 = pd.DataFrame(measles_clean_lng, columns=[\"lat\", \"lng\"])\n",
    "df2.plot.scatter(x=\"lng\", y=\"lat\");\n",
    "\n",
    "plt.title(\"Scatter Plot: Latitude vs Longitude\")\n",
    "plt.xlabel(\"Latitude\")\n",
    "plt.ylabel(\"Longitude\")\n",
    "plt.savefig('s2.png')"
   ]
  },
  {
   "cell_type": "code",
   "execution_count": 18,
   "metadata": {},
   "outputs": [],
   "source": [
    "#New column for coloring states\n",
    "measles_clean_lng['state2'] = measles_clean_lng['state']"
   ]
  },
  {
   "cell_type": "code",
   "execution_count": 19,
   "metadata": {},
   "outputs": [],
   "source": [
    "# Assigning numerical values to state names for coloring\n",
    "measles_clean_lng.loc[measles_clean_lng['state'] == 'California', 'state2'] = 1\n",
    "measles_clean_lng.loc[measles_clean_lng['state'] == 'Colorado', 'state2'] = 2\n",
    "measles_clean_lng.loc[measles_clean_lng['state'] == 'Ohio', 'state2'] = 3\n",
    "measles_clean_lng.loc[measles_clean_lng['state'] == 'Oregon', 'state2'] = 4\n",
    "measles_clean_lng.loc[measles_clean_lng['state'] == 'Washington', 'state2'] = 5\n",
    "measles_clean_lng.loc[measles_clean_lng['state'] == 'Vermont', 'state2'] = 6"
   ]
  },
  {
   "cell_type": "code",
   "execution_count": 20,
   "metadata": {},
   "outputs": [
    {
     "data": {
      "image/png": "[encoded data removed]",
      "text/plain": [
       "<Figure size 432x288 with 2 Axes>"
      ]
     },
     "metadata": {
      "needs_background": "light"
     },
     "output_type": "display_data"
    }
   ],
   "source": [
    "# Colored scatte rplot\n",
    "dfScat = measles_clean_lng[['lng','lat', 'state2']]\n",
    "#axScat = dfScat.plot(kind='scatter', x=0, y=1, c=2, colormap='inferno')\n",
    "#axScat = dfScat.plot(kind='scatter', x=0, y=1, c=2, colormap='plasma')\n",
    "#axScat = dfScat.plot(kind='scatter', x=0, y=1, c=2, colormap='viridis')\n",
    "axScat = dfScat.plot(kind='scatter', x=0, y=1, c=2, colormap='magma')"
   ]
  },
  {
   "cell_type": "code",
   "execution_count": 22,
   "metadata": {},
   "outputs": [],
   "source": [
    "# Melissa's code starts here"
   ]
  },
  {
   "cell_type": "code",
   "execution_count": 23,
   "metadata": {},
   "outputs": [],
   "source": [
    "# Set up Public, Private, Kindergarten, and Other dataframes\n",
    "\n",
    "public_stats = measles_clean.loc[measles_clean[\"type\"] == \"Public\"]\n",
    "# public_stats\n",
    "\n",
    "private_stats = measles_clean.loc[measles_clean[\"type\"] == \"Private\"]\n",
    "# private_stats\n",
    "\n",
    "kindergarten_stats = measles_clean.loc[measles_clean[\"type\"] == \"Kindergarten\"]\n",
    "# kindergarten_stats\n",
    "\n",
    "other_stats = measles_clean.loc[measles_clean[\"type\"] == \"Other\"]\n",
    "# other_stats"
   ]
  },
  {
   "cell_type": "code",
   "execution_count": 24,
   "metadata": {},
   "outputs": [],
   "source": [
    "# Loop through the data frame to calculate stats by state\n",
    "\n",
    "# Set up empty lists to fill in for loop\n",
    "states = measles_clean[\"state\"].unique()\n",
    "# states\n",
    "count_states = []\n",
    "mean_mmr = []\n",
    "median_mmr = []\n",
    "public_mean = []\n",
    "public_median = []\n",
    "private_mean = []\n",
    "private_median = []\n",
    "kind_mean = []\n",
    "kind_median = []\n",
    "other_mean = []\n",
    "other_median = []\n",
    "\n",
    "for state in states:\n",
    "    \n",
    "    # Identify what state to work with\n",
    "    state_active = measles_clean.loc[measles_clean[\"state\"] == state]\n",
    "    \n",
    "    # Count all the schools for each state\n",
    "    count_active = state_active[\"state\"].count()\n",
    "    count_states.append(count_active)\n",
    "    \n",
    "    # Calculate mean for each state\n",
    "    mean_active = state_active[\"mmr\"].mean()\n",
    "    mean_mmr.append(mean_active)\n",
    "    \n",
    "    # Calculate median for each state\n",
    "    median_active = state_active[\"mmr\"].median()\n",
    "    median_mmr.append(median_active)\n",
    "    \n",
    "    # Reset state_active for use on public subsets\n",
    "    state_active = public_stats.loc[public_stats[\"state\"] == state]\n",
    "    \n",
    "    # Calculate mean for public schools\n",
    "    public_active = state_active[\"mmr\"].mean()\n",
    "    public_mean.append(public_active)\n",
    "    \n",
    "    # Calculate median for public schools\n",
    "    public_active = state_active[\"mmr\"].median()\n",
    "    public_median.append(public_active)\n",
    "    \n",
    "    # Reset state_active for use on private subsets\n",
    "    state_active = private_stats.loc[private_stats[\"state\"] == state]\n",
    "    \n",
    "    # Calculate mean for private schools\n",
    "    private_active = state_active[\"mmr\"].mean()\n",
    "    private_mean.append(private_active)\n",
    "    \n",
    "    # Calculate median for private schools\n",
    "    private_active = state_active[\"mmr\"].median()\n",
    "    private_median.append(private_active)\n",
    "    \n",
    "    # Reset state_active for use on kindergarten subsets\n",
    "    state_active = kindergarten_stats.loc[kindergarten_stats[\"state\"] == state]\n",
    "    \n",
    "    # Calculate mean for kindergarten schools\n",
    "    kind_active = state_active[\"mmr\"].mean()\n",
    "    kind_mean.append(kind_active)\n",
    "    \n",
    "    # Calculate median for kindergarten schools\n",
    "    kind_active = state_active[\"mmr\"].median()\n",
    "    kind_median.append(kind_active)\n",
    "    \n",
    "    # Reset state_active for use on other subsets\n",
    "    state_active = other_stats.loc[other_stats[\"state\"] == state]\n",
    "    \n",
    "    # Calculate mean for Other schools\n",
    "    other_active = state_active[\"mmr\"].mean()\n",
    "    other_mean.append(other_active)\n",
    "    \n",
    "    # Calculate median for Other schools\n",
    "    other_active = state_active[\"mmr\"].median()\n",
    "    other_median.append(other_active)\n",
    "   \n",
    "       \n",
    "# other_median"
   ]
  },
  {
   "cell_type": "code",
   "execution_count": 25,
   "metadata": {},
   "outputs": [
    {
     "data": {
      "text/html": [
       "<div>\n",
       "<style scoped>\n",
       "    .dataframe tbody tr th:only-of-type {\n",
       "        vertical-align: middle;\n",
       "    }\n",
       "\n",
       "    .dataframe tbody tr th {\n",
       "        vertical-align: top;\n",
       "    }\n",
       "\n",
       "    .dataframe thead th {\n",
       "        text-align: right;\n",
       "    }\n",
       "</style>\n",
       "<table border=\"1\" class=\"dataframe\">\n",
       "  <thead>\n",
       "    <tr style=\"text-align: right;\">\n",
       "      <th></th>\n",
       "      <th>State</th>\n",
       "      <th>Count of Schools</th>\n",
       "      <th>Overall Mean</th>\n",
       "      <th>Overall Median</th>\n",
       "      <th>Public Mean</th>\n",
       "      <th>Public Median</th>\n",
       "      <th>Private Mean</th>\n",
       "      <th>Private Median</th>\n",
       "      <th>Kindergarten Mean</th>\n",
       "      <th>Kindergarten Median</th>\n",
       "      <th>Other Mean</th>\n",
       "      <th>Other Median</th>\n",
       "    </tr>\n",
       "  </thead>\n",
       "  <tbody>\n",
       "    <tr>\n",
       "      <th>0</th>\n",
       "      <td>California</td>\n",
       "      <td>14224</td>\n",
       "      <td>96.371836</td>\n",
       "      <td>98.000000</td>\n",
       "      <td>96.644004</td>\n",
       "      <td>98.00</td>\n",
       "      <td>93.874821</td>\n",
       "      <td>95.0</td>\n",
       "      <td>NaN</td>\n",
       "      <td>NaN</td>\n",
       "      <td>NaN</td>\n",
       "      <td>NaN</td>\n",
       "    </tr>\n",
       "    <tr>\n",
       "      <th>1</th>\n",
       "      <td>Colorado</td>\n",
       "      <td>1505</td>\n",
       "      <td>94.210904</td>\n",
       "      <td>97.800000</td>\n",
       "      <td>NaN</td>\n",
       "      <td>NaN</td>\n",
       "      <td>95.121905</td>\n",
       "      <td>100.0</td>\n",
       "      <td>94.198012</td>\n",
       "      <td>97.8</td>\n",
       "      <td>NaN</td>\n",
       "      <td>NaN</td>\n",
       "    </tr>\n",
       "    <tr>\n",
       "      <th>2</th>\n",
       "      <td>Ohio</td>\n",
       "      <td>2917</td>\n",
       "      <td>91.463692</td>\n",
       "      <td>94.870000</td>\n",
       "      <td>91.284485</td>\n",
       "      <td>94.74</td>\n",
       "      <td>91.907545</td>\n",
       "      <td>95.0</td>\n",
       "      <td>NaN</td>\n",
       "      <td>NaN</td>\n",
       "      <td>NaN</td>\n",
       "      <td>NaN</td>\n",
       "    </tr>\n",
       "    <tr>\n",
       "      <th>3</th>\n",
       "      <td>Oregon</td>\n",
       "      <td>806</td>\n",
       "      <td>94.081152</td>\n",
       "      <td>95.677233</td>\n",
       "      <td>NaN</td>\n",
       "      <td>NaN</td>\n",
       "      <td>NaN</td>\n",
       "      <td>NaN</td>\n",
       "      <td>NaN</td>\n",
       "      <td>NaN</td>\n",
       "      <td>94.081152</td>\n",
       "      <td>95.677233</td>\n",
       "    </tr>\n",
       "    <tr>\n",
       "      <th>4</th>\n",
       "      <td>Vermont</td>\n",
       "      <td>338</td>\n",
       "      <td>94.583320</td>\n",
       "      <td>97.222222</td>\n",
       "      <td>NaN</td>\n",
       "      <td>NaN</td>\n",
       "      <td>NaN</td>\n",
       "      <td>NaN</td>\n",
       "      <td>NaN</td>\n",
       "      <td>NaN</td>\n",
       "      <td>94.583320</td>\n",
       "      <td>97.222222</td>\n",
       "    </tr>\n",
       "    <tr>\n",
       "      <th>5</th>\n",
       "      <td>Washington</td>\n",
       "      <td>1978</td>\n",
       "      <td>89.336830</td>\n",
       "      <td>92.125000</td>\n",
       "      <td>NaN</td>\n",
       "      <td>NaN</td>\n",
       "      <td>NaN</td>\n",
       "      <td>NaN</td>\n",
       "      <td>NaN</td>\n",
       "      <td>NaN</td>\n",
       "      <td>89.336830</td>\n",
       "      <td>92.125000</td>\n",
       "    </tr>\n",
       "  </tbody>\n",
       "</table>\n",
       "</div>"
      ],
      "text/plain": [
       "        State  Count of Schools  Overall Mean  Overall Median  Public Mean  \\\n",
       "0  California             14224     96.371836       98.000000    96.644004   \n",
       "1    Colorado              1505     94.210904       97.800000          NaN   \n",
       "2        Ohio              2917     91.463692       94.870000    91.284485   \n",
       "3      Oregon               806     94.081152       95.677233          NaN   \n",
       "4     Vermont               338     94.583320       97.222222          NaN   \n",
       "5  Washington              1978     89.336830       92.125000          NaN   \n",
       "\n",
       "   Public Median  Private Mean  Private Median  Kindergarten Mean  \\\n",
       "0          98.00     93.874821            95.0                NaN   \n",
       "1            NaN     95.121905           100.0          94.198012   \n",
       "2          94.74     91.907545            95.0                NaN   \n",
       "3            NaN           NaN             NaN                NaN   \n",
       "4            NaN           NaN             NaN                NaN   \n",
       "5            NaN           NaN             NaN                NaN   \n",
       "\n",
       "   Kindergarten Median  Other Mean  Other Median  \n",
       "0                  NaN         NaN           NaN  \n",
       "1                 97.8         NaN           NaN  \n",
       "2                  NaN         NaN           NaN  \n",
       "3                  NaN   94.081152     95.677233  \n",
       "4                  NaN   94.583320     97.222222  \n",
       "5                  NaN   89.336830     92.125000  "
      ]
     },
     "execution_count": 25,
     "metadata": {},
     "output_type": "execute_result"
    }
   ],
   "source": [
    "# Set up summary table of averages per state\n",
    "avg_by_state = pd.DataFrame({\n",
    "    \"State\": states\n",
    "})\n",
    "\n",
    "avg_by_state[\"Count of Schools\"] = count_states\n",
    "avg_by_state[\"Overall Mean\"] = mean_mmr\n",
    "avg_by_state[\"Overall Median\"] = median_mmr\n",
    "avg_by_state[\"Public Mean\"] = public_mean\n",
    "avg_by_state[\"Public Median\"] = public_median\n",
    "avg_by_state[\"Private Mean\"] = private_mean\n",
    "avg_by_state[\"Private Median\"] = private_median\n",
    "avg_by_state[\"Kindergarten Mean\"] = kind_mean\n",
    "avg_by_state[\"Kindergarten Median\"] = kind_median\n",
    "avg_by_state[\"Other Mean\"] = other_mean\n",
    "avg_by_state[\"Other Median\"] = other_median\n",
    "\n",
    "avg_by_state\n",
    "\n",
    "# Investigate NaNs\n",
    "# Indicate a lack of that school type reporting out of that state"
   ]
  },
  {
   "cell_type": "markdown",
   "metadata": {},
   "source": [
    "By setting up this summary table, we can see which states provided data for which types of schools.  This allows us to have an informed way of breaking the data apart and compare like to like data, such as California and Ohio, or Oregon, Vermon, and Washington."
   ]
  },
  {
   "cell_type": "code",
   "execution_count": 26,
   "metadata": {},
   "outputs": [
    {
     "data": {
      "image/png": "[encoded data removed]",
      "text/plain": [
       "<Figure size 432x288 with 1 Axes>"
      ]
     },
     "metadata": {
      "needs_background": "light"
     },
     "output_type": "display_data"
    }
   ],
   "source": [
    "# Plot of school counts across states\n",
    "\n",
    "y_axis = count_states\n",
    "x_axis = np.arange(len(states))\n",
    "\n",
    "plt.bar(x_axis, y_axis, color=\"green\")\n",
    "plt.ylabel(\"Number of Schools\")\n",
    "plt.xlabel(\"State\")\n",
    "plt.title(\"Count of Schools in States in Dataset\", fontsize=15)\n",
    "\n",
    "tick_locations = [value for value in x_axis]\n",
    "plt.xticks(tick_locations, states, rotation=\"45\", fontsize=12)\n",
    "\n",
    "plt.show()\n",
    "# Look at California alone"
   ]
  },
  {
   "cell_type": "markdown",
   "metadata": {},
   "source": [
    "Looking at the count of schools across the states allows us to know if our sample sizes in each state are comparable.  While based on sheer numbers, this chart shows they are not, what we do not know is whether the proportion of schools that reported data out of the entire population is similar across states.  Either way, it is clear from the start difference in the count of schools from California that that state is worth looking at on its own as well."
   ]
  },
  {
   "cell_type": "code",
   "execution_count": 27,
   "metadata": {},
   "outputs": [
    {
     "data": {
      "image/png": "[encoded data removed]",
      "text/plain": [
       "<Figure size 432x288 with 1 Axes>"
      ]
     },
     "metadata": {
      "needs_background": "light"
     },
     "output_type": "display_data"
    }
   ],
   "source": [
    "# Plot with grouped bars -- MEAN AND MEDIAN BY STATE\n",
    "# https://matplotlib.org/3.3.4/gallery/lines_bars_and_markers/barchart.html#sphx-glr-gallery-lines-bars-and-markers-barchart-py\n",
    "# Add rates to bars, if possible\n",
    "\n",
    "x = np.arange(len(states))  \n",
    "width = 0.35  # the width of the bars\n",
    "\n",
    "fig, ax = plt.subplots()\n",
    "rects1 = ax.bar(x - width/2, mean_mmr, width, label=\"Mean\")\n",
    "rects2 = ax.bar(x + width/2, median_mmr, width, label=\"Median\")\n",
    "\n",
    "plt.ylabel(\"Average of MMR Innoculation Rates\")\n",
    "plt.xlabel(\"State\")\n",
    "plt.title(\"Mean and Median of MMR Innoculation Rates across States in Dataset\", fontsize=15)\n",
    "plt.legend(loc=\"lower right\")\n",
    "\n",
    "tick_locations = [value for value in x_axis]\n",
    "plt.xticks(tick_locations, states, rotation=\"45\", fontsize=12)\n",
    "\n",
    "plt.show()"
   ]
  },
  {
   "cell_type": "markdown",
   "metadata": {},
   "source": [
    "By displaying the mean and median vaccination rates together, we can see not only how each rate differs across states but how consistently the mean is lower than the median rate for each state.  What this tells us is that there may be lower reported rates of vaccination at a sufficient number of schools in each state to pull the mean rate down.  Looking at the median as well is a reminder that that the actual reported rates may be higher than the mean only would lead a person to infer.  Because this difference holds true across states, it feels like an important trend to hold in mind when using either form of average. This also turned out to be one of our first flags of the presence of outliers impacting our data."
   ]
  },
  {
   "cell_type": "code",
   "execution_count": 61,
   "metadata": {},
   "outputs": [
    {
     "data": {
      "image/png": "[encoded data removed]",
      "text/plain": [
       "<Figure size 432x288 with 1 Axes>"
      ]
     },
     "metadata": {
      "needs_background": "light"
     },
     "output_type": "display_data"
    }
   ],
   "source": [
    "# Grouped bar chart of all averages across all states and school types\n",
    "# Formatting is being disagreable\n",
    "\n",
    "group_by_state = avg_by_state.drop([\"Count of Schools\"], axis=1)\n",
    "\n",
    "state_group_fig = group_by_state.plot.bar(rot=45)\n",
    "\n",
    "plt.ylabel(\"Average of MMR Innoculation Rates\")\n",
    "plt.xlabel(\"State\")\n",
    "plt.title(\"Mean and Median of MMR Innoculation Rates across States and School Types in Dataset\", fontsize=15)\n",
    "# plt.legend(loc=\"center\")\n",
    "\n",
    "tick_locations = [value for value in x_axis]\n",
    "plt.xticks(tick_locations, states, rotation=\"45\", fontsize=12)\n",
    "plt.legend(bbox_to_anchor=(1.05, 1), loc='upper left', borderaxespad=0.)\n",
    "\n",
    "plt.show()"
   ]
  },
  {
   "cell_type": "code",
   "execution_count": 62,
   "metadata": {},
   "outputs": [
    {
     "data": {
      "image/png": "[encoded data removed]",
      "text/plain": [
       "<Figure size 432x288 with 1 Axes>"
      ]
     },
     "metadata": {
      "needs_background": "light"
     },
     "output_type": "display_data"
    }
   ],
   "source": [
    "# Alternate California Ohio Grouped Plot\n",
    "# This might be better/more useful if the ticks were the school type and each had \n",
    "\n",
    "california_ohio = avg_by_state.loc[avg_by_state[\"Public Mean\"] >= 0]\n",
    "california_ohio = california_ohio.drop(columns=[\"Count of Schools\", \n",
    "                                                \"Kindergarten Mean\", \"Kindergarten Median\",\n",
    "                                                \"Other Mean\", \"Other Median\"])\n",
    "cal_oh_labels = california_ohio[\"State\"]\n",
    "california_group_fig = california_ohio.plot.bar(rot=45)\n",
    "x_axis = np.arange(len(cal_oh_labels))\n",
    "plt.ylabel(\"Average of MMR Innoculation Rates\")\n",
    "plt.xlabel(\"State\")\n",
    "plt.title(\"Mean and Median of MMR Innoculation Rates in California and Ohio\", fontsize=15)\n",
    "plt.legend(loc=\"center\")\n",
    "\n",
    "tick_locations = [value for value in x_axis]\n",
    "plt.xticks(tick_locations, cal_oh_labels, rotation=\"45\", fontsize=12)\n",
    "\n",
    "plt.show()"
   ]
  },
  {
   "cell_type": "code",
   "execution_count": 63,
   "metadata": {},
   "outputs": [
    {
     "data": {
      "text/html": [
       "<div>\n",
       "<style scoped>\n",
       "    .dataframe tbody tr th:only-of-type {\n",
       "        vertical-align: middle;\n",
       "    }\n",
       "\n",
       "    .dataframe tbody tr th {\n",
       "        vertical-align: top;\n",
       "    }\n",
       "\n",
       "    .dataframe thead th {\n",
       "        text-align: right;\n",
       "    }\n",
       "</style>\n",
       "<table border=\"1\" class=\"dataframe\">\n",
       "  <thead>\n",
       "    <tr style=\"text-align: right;\">\n",
       "      <th></th>\n",
       "      <th>0</th>\n",
       "      <th>1</th>\n",
       "    </tr>\n",
       "  </thead>\n",
       "  <tbody>\n",
       "    <tr>\n",
       "      <th>Overall Mean</th>\n",
       "      <td>96.371836</td>\n",
       "      <td>91.463692</td>\n",
       "    </tr>\n",
       "    <tr>\n",
       "      <th>Overall Median</th>\n",
       "      <td>98.000000</td>\n",
       "      <td>94.870000</td>\n",
       "    </tr>\n",
       "    <tr>\n",
       "      <th>Public Mean</th>\n",
       "      <td>96.644004</td>\n",
       "      <td>91.284485</td>\n",
       "    </tr>\n",
       "    <tr>\n",
       "      <th>Public Median</th>\n",
       "      <td>98.000000</td>\n",
       "      <td>94.740000</td>\n",
       "    </tr>\n",
       "    <tr>\n",
       "      <th>Private Mean</th>\n",
       "      <td>93.874821</td>\n",
       "      <td>91.907545</td>\n",
       "    </tr>\n",
       "    <tr>\n",
       "      <th>Private Median</th>\n",
       "      <td>95.000000</td>\n",
       "      <td>95.000000</td>\n",
       "    </tr>\n",
       "  </tbody>\n",
       "</table>\n",
       "</div>"
      ],
      "text/plain": [
       "                        0          1\n",
       "Overall Mean    96.371836  91.463692\n",
       "Overall Median  98.000000  94.870000\n",
       "Public Mean     96.644004  91.284485\n",
       "Public Median   98.000000  94.740000\n",
       "Private Mean    93.874821  91.907545\n",
       "Private Median  95.000000  95.000000"
      ]
     },
     "execution_count": 63,
     "metadata": {},
     "output_type": "execute_result"
    }
   ],
   "source": [
    "california_ohio = california_ohio.reset_index(drop=True)\n",
    "california_ohio = california_ohio.drop(columns=[\"State\"])\n",
    "ohio_cali = california_ohio.T\n",
    "# ohio_cali.rename(columns={0: \"California\", 2: \"Ohio\"})\n",
    "ohio_cali"
   ]
  },
  {
   "cell_type": "code",
   "execution_count": 74,
   "metadata": {},
   "outputs": [
    {
     "data": {
      "image/png": "[encoded data removed]",
      "text/plain": [
       "<Figure size 432x288 with 1 Axes>"
      ]
     },
     "metadata": {
      "needs_background": "light"
     },
     "output_type": "display_data"
    }
   ],
   "source": [
    "ohio_cali\n",
    "oh_cal_labels = ohio_cali.index\n",
    "oh_cal_group_fig = ohio_cali.plot.bar(rot=45)\n",
    "x_axis = np.arange(len(oh_cal_labels))\n",
    "plt.ylabel(\"Average of MMR Innoculation Rates\")\n",
    "plt.xlabel(\"School and Average Type\")\n",
    "plt.title(\"Mean and Median of MMR Innoculation Rates in California and Ohio\", fontsize=15)\n",
    "legend_text=plt.legend(bbox_to_anchor=(1.05, 1), loc='upper left', borderaxespad=0.)\n",
    "legend_text.get_texts()[0].set_text(\"California\")\n",
    "legend_text.get_texts()[1].set_text(\"Ohio\")\n",
    "# Legend text issues resolved with help from Stack Overflor\n",
    "# https://stackoverflow.com/questions/23037548/change-main-plot-legend-label-text\n",
    "\n",
    "tick_locations = [value for value in x_axis]\n",
    "plt.xticks(tick_locations, oh_cal_labels, rotation=\"45\", fontsize=12)\n",
    "\n",
    "plt.show()"
   ]
  },
  {
   "cell_type": "code",
   "execution_count": 65,
   "metadata": {},
   "outputs": [
    {
     "data": {
      "text/html": [
       "<div>\n",
       "<style scoped>\n",
       "    .dataframe tbody tr th:only-of-type {\n",
       "        vertical-align: middle;\n",
       "    }\n",
       "\n",
       "    .dataframe tbody tr th {\n",
       "        vertical-align: top;\n",
       "    }\n",
       "\n",
       "    .dataframe thead th {\n",
       "        text-align: right;\n",
       "    }\n",
       "</style>\n",
       "<table border=\"1\" class=\"dataframe\">\n",
       "  <thead>\n",
       "    <tr style=\"text-align: right;\">\n",
       "      <th></th>\n",
       "      <th>0</th>\n",
       "      <th>1</th>\n",
       "      <th>2</th>\n",
       "      <th>3</th>\n",
       "      <th>4</th>\n",
       "      <th>5</th>\n",
       "    </tr>\n",
       "  </thead>\n",
       "  <tbody>\n",
       "    <tr>\n",
       "      <th>Overall Mean</th>\n",
       "      <td>96.371836</td>\n",
       "      <td>94.210904</td>\n",
       "      <td>91.463692</td>\n",
       "      <td>94.081152</td>\n",
       "      <td>94.583320</td>\n",
       "      <td>89.33683</td>\n",
       "    </tr>\n",
       "    <tr>\n",
       "      <th>Overall Median</th>\n",
       "      <td>98.000000</td>\n",
       "      <td>97.800000</td>\n",
       "      <td>94.870000</td>\n",
       "      <td>95.677233</td>\n",
       "      <td>97.222222</td>\n",
       "      <td>92.12500</td>\n",
       "    </tr>\n",
       "    <tr>\n",
       "      <th>Public Mean</th>\n",
       "      <td>96.644004</td>\n",
       "      <td>NaN</td>\n",
       "      <td>91.284485</td>\n",
       "      <td>NaN</td>\n",
       "      <td>NaN</td>\n",
       "      <td>NaN</td>\n",
       "    </tr>\n",
       "    <tr>\n",
       "      <th>Public Median</th>\n",
       "      <td>98.000000</td>\n",
       "      <td>NaN</td>\n",
       "      <td>94.740000</td>\n",
       "      <td>NaN</td>\n",
       "      <td>NaN</td>\n",
       "      <td>NaN</td>\n",
       "    </tr>\n",
       "    <tr>\n",
       "      <th>Private Mean</th>\n",
       "      <td>93.874821</td>\n",
       "      <td>95.121905</td>\n",
       "      <td>91.907545</td>\n",
       "      <td>NaN</td>\n",
       "      <td>NaN</td>\n",
       "      <td>NaN</td>\n",
       "    </tr>\n",
       "    <tr>\n",
       "      <th>Private Median</th>\n",
       "      <td>95.000000</td>\n",
       "      <td>100.000000</td>\n",
       "      <td>95.000000</td>\n",
       "      <td>NaN</td>\n",
       "      <td>NaN</td>\n",
       "      <td>NaN</td>\n",
       "    </tr>\n",
       "    <tr>\n",
       "      <th>Kindergarten Mean</th>\n",
       "      <td>NaN</td>\n",
       "      <td>94.198012</td>\n",
       "      <td>NaN</td>\n",
       "      <td>NaN</td>\n",
       "      <td>NaN</td>\n",
       "      <td>NaN</td>\n",
       "    </tr>\n",
       "    <tr>\n",
       "      <th>Kindergarten Median</th>\n",
       "      <td>NaN</td>\n",
       "      <td>97.800000</td>\n",
       "      <td>NaN</td>\n",
       "      <td>NaN</td>\n",
       "      <td>NaN</td>\n",
       "      <td>NaN</td>\n",
       "    </tr>\n",
       "    <tr>\n",
       "      <th>Other Mean</th>\n",
       "      <td>NaN</td>\n",
       "      <td>NaN</td>\n",
       "      <td>NaN</td>\n",
       "      <td>94.081152</td>\n",
       "      <td>94.583320</td>\n",
       "      <td>89.33683</td>\n",
       "    </tr>\n",
       "    <tr>\n",
       "      <th>Other Median</th>\n",
       "      <td>NaN</td>\n",
       "      <td>NaN</td>\n",
       "      <td>NaN</td>\n",
       "      <td>95.677233</td>\n",
       "      <td>97.222222</td>\n",
       "      <td>92.12500</td>\n",
       "    </tr>\n",
       "  </tbody>\n",
       "</table>\n",
       "</div>"
      ],
      "text/plain": [
       "                             0           1          2          3          4  \\\n",
       "Overall Mean         96.371836   94.210904  91.463692  94.081152  94.583320   \n",
       "Overall Median       98.000000   97.800000  94.870000  95.677233  97.222222   \n",
       "Public Mean          96.644004         NaN  91.284485        NaN        NaN   \n",
       "Public Median        98.000000         NaN  94.740000        NaN        NaN   \n",
       "Private Mean         93.874821   95.121905  91.907545        NaN        NaN   \n",
       "Private Median       95.000000  100.000000  95.000000        NaN        NaN   \n",
       "Kindergarten Mean          NaN   94.198012        NaN        NaN        NaN   \n",
       "Kindergarten Median        NaN   97.800000        NaN        NaN        NaN   \n",
       "Other Mean                 NaN         NaN        NaN  94.081152  94.583320   \n",
       "Other Median               NaN         NaN        NaN  95.677233  97.222222   \n",
       "\n",
       "                            5  \n",
       "Overall Mean         89.33683  \n",
       "Overall Median       92.12500  \n",
       "Public Mean               NaN  \n",
       "Public Median             NaN  \n",
       "Private Mean              NaN  \n",
       "Private Median            NaN  \n",
       "Kindergarten Mean         NaN  \n",
       "Kindergarten Median       NaN  \n",
       "Other Mean           89.33683  \n",
       "Other Median         92.12500  "
      ]
     },
     "execution_count": 65,
     "metadata": {},
     "output_type": "execute_result"
    }
   ],
   "source": [
    "# Testing Average by type\n",
    "avg_by_type = avg_by_state.drop(columns=[\"Count of Schools\"])\n",
    "avg_by_type = avg_by_type.drop(columns=[\"State\"])\n",
    "avg_by_type = avg_by_type.T\n",
    "avg_by_type"
   ]
  },
  {
   "cell_type": "code",
   "execution_count": 73,
   "metadata": {},
   "outputs": [
    {
     "data": {
      "image/png": "[encoded data removed]",
      "text/plain": [
       "<Figure size 432x288 with 1 Axes>"
      ]
     },
     "metadata": {
      "needs_background": "light"
     },
     "output_type": "display_data"
    }
   ],
   "source": [
    "# Chart of Mean and Medians grouped together\n",
    "\n",
    "avg_by_type\n",
    "type_labels = avg_by_type.index\n",
    "type_group_fig = avg_by_type.plot.bar(rot=45)\n",
    "x_axis = np.arange(len(type_labels))\n",
    "plt.ylabel(\"Average of MMR Innoculation Rates\")\n",
    "plt.xlabel(\"School and Average Type\")\n",
    "plt.title(\"Mean and Median of MMR Innoculation Rates in All States\", fontsize=15)\n",
    "legend_text=plt.legend(bbox_to_anchor=(1.05, 1), loc='upper left', borderaxespad=0.)\n",
    "legend_text.get_texts()[0].set_text(\"California\")\n",
    "legend_text.get_texts()[1].set_text(\"Colorado\")\n",
    "legend_text.get_texts()[2].set_text(\"Ohio\")\n",
    "legend_text.get_texts()[3].set_text(\"Oregon\")\n",
    "legend_text.get_texts()[4].set_text(\"Vermont\")\n",
    "legend_text.get_texts()[5].set_text(\"Washington\")\n",
    "\n",
    "# Legend text issues resolved with help from Stack Overflor\n",
    "# https://stackoverflow.com/questions/23037548/change-main-plot-legend-label-text\n",
    "\n",
    "tick_locations = [value for value in x_axis]\n",
    "plt.xticks(tick_locations, type_labels, rotation=\"45\", fontsize=12)\n",
    "\n",
    "plt.show()"
   ]
  },
  {
   "cell_type": "code",
   "execution_count": 67,
   "metadata": {},
   "outputs": [
    {
     "name": "stdout",
     "output_type": "stream",
     "text": [
      "['California' 'Colorado' 'Ohio' 'Oregon' 'Vermont' 'Washington']\n"
     ]
    },
    {
     "data": {
      "text/html": [
       "<div>\n",
       "<style scoped>\n",
       "    .dataframe tbody tr th:only-of-type {\n",
       "        vertical-align: middle;\n",
       "    }\n",
       "\n",
       "    .dataframe tbody tr th {\n",
       "        vertical-align: top;\n",
       "    }\n",
       "\n",
       "    .dataframe thead th {\n",
       "        text-align: right;\n",
       "    }\n",
       "</style>\n",
       "<table border=\"1\" class=\"dataframe\">\n",
       "  <thead>\n",
       "    <tr style=\"text-align: right;\">\n",
       "      <th></th>\n",
       "      <th>0</th>\n",
       "      <th>1</th>\n",
       "      <th>2</th>\n",
       "      <th>3</th>\n",
       "      <th>4</th>\n",
       "      <th>5</th>\n",
       "    </tr>\n",
       "  </thead>\n",
       "  <tbody>\n",
       "    <tr>\n",
       "      <th>Overall Median</th>\n",
       "      <td>98.000000</td>\n",
       "      <td>97.800000</td>\n",
       "      <td>94.870000</td>\n",
       "      <td>95.677233</td>\n",
       "      <td>97.222222</td>\n",
       "      <td>92.125</td>\n",
       "    </tr>\n",
       "    <tr>\n",
       "      <th>Public Median</th>\n",
       "      <td>98.000000</td>\n",
       "      <td>NaN</td>\n",
       "      <td>94.740000</td>\n",
       "      <td>NaN</td>\n",
       "      <td>NaN</td>\n",
       "      <td>NaN</td>\n",
       "    </tr>\n",
       "    <tr>\n",
       "      <th>Private Mean</th>\n",
       "      <td>93.874821</td>\n",
       "      <td>95.121905</td>\n",
       "      <td>91.907545</td>\n",
       "      <td>NaN</td>\n",
       "      <td>NaN</td>\n",
       "      <td>NaN</td>\n",
       "    </tr>\n",
       "    <tr>\n",
       "      <th>Private Median</th>\n",
       "      <td>95.000000</td>\n",
       "      <td>100.000000</td>\n",
       "      <td>95.000000</td>\n",
       "      <td>NaN</td>\n",
       "      <td>NaN</td>\n",
       "      <td>NaN</td>\n",
       "    </tr>\n",
       "    <tr>\n",
       "      <th>Kindergarten Median</th>\n",
       "      <td>NaN</td>\n",
       "      <td>97.800000</td>\n",
       "      <td>NaN</td>\n",
       "      <td>NaN</td>\n",
       "      <td>NaN</td>\n",
       "      <td>NaN</td>\n",
       "    </tr>\n",
       "    <tr>\n",
       "      <th>Other Median</th>\n",
       "      <td>NaN</td>\n",
       "      <td>NaN</td>\n",
       "      <td>NaN</td>\n",
       "      <td>95.677233</td>\n",
       "      <td>97.222222</td>\n",
       "      <td>92.125</td>\n",
       "    </tr>\n",
       "  </tbody>\n",
       "</table>\n",
       "</div>"
      ],
      "text/plain": [
       "                             0           1          2          3          4  \\\n",
       "Overall Median       98.000000   97.800000  94.870000  95.677233  97.222222   \n",
       "Public Median        98.000000         NaN  94.740000        NaN        NaN   \n",
       "Private Mean         93.874821   95.121905  91.907545        NaN        NaN   \n",
       "Private Median       95.000000  100.000000  95.000000        NaN        NaN   \n",
       "Kindergarten Median        NaN   97.800000        NaN        NaN        NaN   \n",
       "Other Median               NaN         NaN        NaN  95.677233  97.222222   \n",
       "\n",
       "                          5  \n",
       "Overall Median       92.125  \n",
       "Public Median           NaN  \n",
       "Private Mean            NaN  \n",
       "Private Median          NaN  \n",
       "Kindergarten Median     NaN  \n",
       "Other Median         92.125  "
      ]
     },
     "execution_count": 67,
     "metadata": {},
     "output_type": "execute_result"
    }
   ],
   "source": [
    "print(states)\n",
    "avg_by_state\n",
    "mean_by_type = avg_by_state.drop(columns=[\"Count of Schools\", \"State\", \n",
    "                                          \"Overall Median\", \"Public Median\", \n",
    "                                          \"Kindergarten Median\", \"Other Median\"])\n",
    "mean_by_type = mean_by_type.T\n",
    "mean_by_type\n",
    "\n",
    "median_by_type = avg_by_state.drop(columns=[\"Count of Schools\", \"State\", \n",
    "                                          \"Overall Mean\", \"Public Mean\", \n",
    "                                          \"Kindergarten Mean\", \"Other Mean\"])\n",
    "median_by_type = median_by_type.T\n",
    "median_by_type"
   ]
  },
  {
   "cell_type": "code",
   "execution_count": 72,
   "metadata": {},
   "outputs": [
    {
     "data": {
      "image/png": "[encoded data removed]",
      "text/plain": [
       "<Figure size 432x288 with 1 Axes>"
      ]
     },
     "metadata": {
      "needs_background": "light"
     },
     "output_type": "display_data"
    }
   ],
   "source": [
    "# Chart of Mean by type\n",
    "\n",
    "mean_by_type\n",
    "type_labels = mean_by_type.index\n",
    "type_group_fig = mean_by_type.plot.bar(rot=45)\n",
    "x_axis = np.arange(len(type_labels))\n",
    "plt.ylabel(\"Average of MMR Innoculation Rates\")\n",
    "plt.xlabel(\"School and Average Type\")\n",
    "plt.title(\"Mean of MMR Innoculation Rates in All States\", fontsize=15)\n",
    "legend_text=plt.legend(bbox_to_anchor=(1.05, 1), loc='upper left', borderaxespad=0.)\n",
    "legend_text.get_texts()[0].set_text(\"California\")\n",
    "legend_text.get_texts()[1].set_text(\"Colorado\")\n",
    "legend_text.get_texts()[2].set_text(\"Ohio\")\n",
    "legend_text.get_texts()[3].set_text(\"Oregon\")\n",
    "legend_text.get_texts()[4].set_text(\"Vermont\")\n",
    "legend_text.get_texts()[5].set_text(\"Washington\")\n",
    "\n",
    "# Legend text issues resolved with help from Stack Overflor\n",
    "# https://stackoverflow.com/questions/23037548/change-main-plot-legend-label-text\n",
    "\n",
    "tick_locations = [value for value in x_axis]\n",
    "plt.xticks(tick_locations, type_labels, rotation=\"45\", fontsize=12)\n",
    "\n",
    "plt.show()"
   ]
  },
  {
   "cell_type": "code",
   "execution_count": 69,
   "metadata": {},
   "outputs": [
    {
     "data": {
      "image/png": "[encoded data removed]",
      "text/plain": [
       "<Figure size 432x288 with 1 Axes>"
      ]
     },
     "metadata": {
      "needs_background": "light"
     },
     "output_type": "display_data"
    }
   ],
   "source": [
    "# Chart for Median only\n",
    "\n",
    "median_by_type\n",
    "type_labels = median_by_type.index\n",
    "type_group_fig = median_by_type.plot.bar(rot=45)\n",
    "x_axis = np.arange(len(type_labels))\n",
    "plt.ylabel(\"Average of MMR Innoculation Rates\")\n",
    "plt.xlabel(\"School and Average Type\")\n",
    "plt.title(\"Median of MMR Innoculation Rates in All States\", fontsize=15)\n",
    "legend_text=plt.legend(bbox_to_anchor=(1.05, 1), loc='upper left', borderaxespad=0.)\n",
    "legend_text.get_texts()[0].set_text(\"California\")\n",
    "legend_text.get_texts()[1].set_text(\"Colorado\")\n",
    "legend_text.get_texts()[2].set_text(\"Ohio\")\n",
    "legend_text.get_texts()[3].set_text(\"Oregon\")\n",
    "legend_text.get_texts()[4].set_text(\"Vermont\")\n",
    "legend_text.get_texts()[5].set_text(\"Washington\")\n",
    "\n",
    "# Legend text issues resolved with help from Stack Overflor\n",
    "# https://stackoverflow.com/questions/23037548/change-main-plot-legend-label-text\n",
    "\n",
    "tick_locations = [value for value in x_axis]\n",
    "plt.xticks(tick_locations, type_labels, rotation=\"60\", fontsize=12)\n",
    "\n",
    "\n",
    "plt.show()"
   ]
  },
  {
   "cell_type": "code",
   "execution_count": 71,
   "metadata": {},
   "outputs": [
    {
     "data": {
      "text/plain": [
       "<matplotlib.axes._subplots.AxesSubplot at 0x7fbc00c80b00>"
      ]
     },
     "execution_count": 71,
     "metadata": {},
     "output_type": "execute_result"
    },
    {
     "data": {
      "image/png": "[encoded data removed]",
      "text/plain": [
       "<Figure size 432x288 with 1 Axes>"
      ]
     },
     "metadata": {
      "needs_background": "light"
     },
     "output_type": "display_data"
    },
    {
     "data": {
      "image/png": "[encoded data removed]",
      "text/plain": [
       "<Figure size 432x288 with 1 Axes>"
      ]
     },
     "metadata": {
      "needs_background": "light"
     },
     "output_type": "display_data"
    }
   ],
   "source": [
    "# Boxplots by Fukhrudin\n",
    "# Boxplot of school types\n",
    "# Looks like this is not Fukhrudin's code. Shoot.\n",
    "type_boxplot = measles_clean_lng[['mmr','type']]\n",
    "type_boxplot.boxplot(by='type')\n",
    "\n",
    "# Boxplot of school types\n",
    "type_boxplot = measles_clean_lng[['mmr','type']]\n",
    "type_boxplot.boxplot(by='type', showfliers=True)\n",
    "type_boxplot.boxplot(by='type', showfliers=False)"
   ]
  },
  {
   "cell_type": "code",
   "execution_count": null,
   "metadata": {},
   "outputs": [],
   "source": [
    "# Melissa's code ends above\n",
    "# Rylee's code begins here!"
   ]
  },
  {
   "cell_type": "code",
   "execution_count": 41,
   "metadata": {},
   "outputs": [
    {
     "data": {
      "text/plain": [
       "F_onewayResult(statistic=392.87029577981065, pvalue=1.527208667718484e-248)"
      ]
     },
     "execution_count": 41,
     "metadata": {},
     "output_type": "execute_result"
    }
   ],
   "source": [
    "# Just doing hypothesis testing right now\n",
    "# We are trying to prove that mmr rates vary by school type\n",
    "\n",
    "st.f_oneway(public_stats['mmr'], private_stats['mmr'], kindergarten_stats['mmr'], other_stats['mmr'])"
   ]
  },
  {
   "cell_type": "markdown",
   "metadata": {},
   "source": [
    "ANOVA test for all school types in every state in clean dataset. NULL hypothesis is that the mean and variance in all school types are the same. The extremely small p-value indicates that these datasets are not alike, disproving the NULL. Further analysis needed to determine if one outlier is effecting the data or if there are differences between all that are significant.\n",
    "\n",
    "Will repeat test after dropping outliers as well."
   ]
  },
  {
   "cell_type": "code",
   "execution_count": 42,
   "metadata": {},
   "outputs": [
    {
     "data": {
      "text/plain": [
       "F_onewayResult(statistic=175.7107265384881, pvalue=2.5125465603433475e-76)"
      ]
     },
     "execution_count": 42,
     "metadata": {},
     "output_type": "execute_result"
    }
   ],
   "source": [
    "# Taking out the \"other\" school type\n",
    "st.f_oneway(public_stats['mmr'], private_stats['mmr'], kindergarten_stats['mmr'])"
   ]
  },
  {
   "cell_type": "markdown",
   "metadata": {},
   "source": [
    "ANOVA test removing \"Other\" school type with the same NULL hypothesis (all types are the same), returns a very small p-value as well.  This value is not as small, indicating that this type had an impact on the p-value for all types together, but the remaining types still significantly different."
   ]
  },
  {
   "cell_type": "code",
   "execution_count": 43,
   "metadata": {},
   "outputs": [
    {
     "data": {
      "text/plain": [
       "F_onewayResult(statistic=599.0727096444173, pvalue=1.6646963060659216e-253)"
      ]
     },
     "execution_count": 43,
     "metadata": {},
     "output_type": "execute_result"
    }
   ],
   "source": [
    "# Taking out the \"kindergarten\" school type\n",
    "st.f_oneway(public_stats['mmr'], private_stats['mmr'], other_stats['mmr'])"
   ]
  },
  {
   "cell_type": "markdown",
   "metadata": {},
   "source": [
    "ANOVA test removing \"Kindergarten\" school type with the same NULL hypothesis (all types are the same), returns a very small p-value as well.  This value is even smaller than the overall p-value, indicating that this type had an impact on the p-value for all types together, but the remaining types still significantly different."
   ]
  },
  {
   "cell_type": "code",
   "execution_count": 44,
   "metadata": {},
   "outputs": [
    {
     "data": {
      "text/plain": [
       "F_onewayResult(statistic=538.133386429188, pvalue=3.244387849026671e-228)"
      ]
     },
     "execution_count": 44,
     "metadata": {},
     "output_type": "execute_result"
    }
   ],
   "source": [
    "# Taking out the \"private\" school type\n",
    "st.f_oneway(public_stats['mmr'], kindergarten_stats['mmr'], other_stats['mmr'])"
   ]
  },
  {
   "cell_type": "markdown",
   "metadata": {},
   "source": [
    "ANOVA test removing \"Private\" school type with the same NULL hypothesis (all types are the same), returns a very small p-value as well.  This value is very similar to the p-value overall, indicating that this type had a small impact on the p-value for all types together, but the remaining types still significantly different."
   ]
  },
  {
   "cell_type": "code",
   "execution_count": 45,
   "metadata": {},
   "outputs": [
    {
     "data": {
      "text/plain": [
       "F_onewayResult(statistic=65.68544003792599, pvalue=5.531556747561414e-29)"
      ]
     },
     "execution_count": 45,
     "metadata": {},
     "output_type": "execute_result"
    }
   ],
   "source": [
    "# Taking out the \"public\" school type\n",
    "st.f_oneway(private_stats['mmr'], kindergarten_stats['mmr'], other_stats['mmr'])"
   ]
  },
  {
   "cell_type": "markdown",
   "metadata": {},
   "source": [
    "ANOVA test removing \"Public\" school type with the same NULL hypothesis (all types are the same), returns a very small p-value as well.  This value is the largest of the p-values, indicating the other three school types are more similar than any other combination of school types. This tells us that the Public school data differs from the other datasets more."
   ]
  },
  {
   "cell_type": "code",
   "execution_count": 46,
   "metadata": {},
   "outputs": [
    {
     "data": {
      "text/plain": [
       "Ttest_indResult(statistic=-3.6793746863579435, pvalue=0.0002379061203745497)"
      ]
     },
     "execution_count": 46,
     "metadata": {},
     "output_type": "execute_result"
    }
   ],
   "source": [
    "# Taking out \"other\" and \"public\" and running a t-test because this is where the p-vals were the largest\n",
    "# when I took them out in the ANOVA\n",
    "st.ttest_ind(private_stats['mmr'], kindergarten_stats['mmr'], equal_var=False)"
   ]
  },
  {
   "cell_type": "markdown",
   "metadata": {},
   "source": [
    "Comparing Private and Kindergarten datasets with a Two Sample T-Test with the NULL hypothesis that the means of both datasets are the same. With a p-value less than 0.05, we can reject the NULL and conclude that the means are different."
   ]
  },
  {
   "cell_type": "code",
   "execution_count": 47,
   "metadata": {},
   "outputs": [
    {
     "data": {
      "text/plain": [
       "Ttest_indResult(statistic=8.149221705421356, pvalue=4.526050894470002e-16)"
      ]
     },
     "execution_count": 47,
     "metadata": {},
     "output_type": "execute_result"
    }
   ],
   "source": [
    "# T-test on \"other\" and \"private\"\n",
    "st.ttest_ind(private_stats['mmr'], other_stats['mmr'], equal_var=False)"
   ]
  },
  {
   "cell_type": "markdown",
   "metadata": {},
   "source": [
    "Comparing Private and Other types with a Two Sample T-Test with the NULL hypothesis that the means of both datasets are the same. With a p-value less than 0.05, we can reject the NULL and conclude that the means are different."
   ]
  },
  {
   "cell_type": "code",
   "execution_count": 48,
   "metadata": {},
   "outputs": [
    {
     "data": {
      "text/plain": [
       "Ttest_indResult(statistic=-10.59068780230639, pvalue=8.414602855892066e-26)"
      ]
     },
     "execution_count": 48,
     "metadata": {},
     "output_type": "execute_result"
    }
   ],
   "source": [
    "# T-test on \"other\" and \"kindergarten\"\n",
    "st.ttest_ind(other_stats['mmr'], kindergarten_stats['mmr'], equal_var=False)"
   ]
  },
  {
   "cell_type": "markdown",
   "metadata": {},
   "source": [
    "Comparing Other and Kindergarten with the NULL hypothesis that the means of both datasets are the same. With a p-value less than 0.05, we can reject the NULL and conclude that the means are different."
   ]
  },
  {
   "cell_type": "code",
   "execution_count": 49,
   "metadata": {},
   "outputs": [
    {
     "data": {
      "text/plain": [
       "Ttest_indResult(statistic=-15.323827482829813, pvalue=6.555688834799406e-51)"
      ]
     },
     "execution_count": 49,
     "metadata": {},
     "output_type": "execute_result"
    }
   ],
   "source": [
    "# T-test on \"public\" and \"private\"\n",
    "st.ttest_ind(private_stats['mmr'], public_stats['mmr'], equal_var=False)"
   ]
  },
  {
   "cell_type": "markdown",
   "metadata": {},
   "source": [
    "Comparing Public and Private with the NULL hypothesis that the means of both datasets are the same. With a p-value less than 0.05, we can reject the NULL and conclude that the means are different."
   ]
  },
  {
   "cell_type": "code",
   "execution_count": 50,
   "metadata": {},
   "outputs": [
    {
     "data": {
      "text/plain": [
       "Ttest_indResult(statistic=-25.247589916731105, pvalue=6.735876076356765e-130)"
      ]
     },
     "execution_count": 50,
     "metadata": {},
     "output_type": "execute_result"
    }
   ],
   "source": [
    "# T-test on \"public\" and \"other\"\n",
    "st.ttest_ind(other_stats['mmr'], public_stats['mmr'], equal_var=False)"
   ]
  },
  {
   "cell_type": "markdown",
   "metadata": {},
   "source": [
    "Comparing Public and Other with the NULL hypothesis that the means of both datasets are the same. With a p-value less than 0.05, we can reject the NULL and conclude that the means are different."
   ]
  },
  {
   "cell_type": "code",
   "execution_count": 51,
   "metadata": {},
   "outputs": [],
   "source": [
    "# Other pairings as determined"
   ]
  },
  {
   "cell_type": "code",
   "execution_count": 52,
   "metadata": {},
   "outputs": [],
   "source": [
    "# Rylee's code ends here!"
   ]
  },
  {
   "cell_type": "code",
   "execution_count": 53,
   "metadata": {},
   "outputs": [],
   "source": [
    "# Melissa's additional code here"
   ]
  },
  {
   "cell_type": "code",
   "execution_count": 54,
   "metadata": {},
   "outputs": [],
   "source": [
    "# This for loop was made possibly by Kelly Devillier\n",
    "\n",
    "type_subsets = [\"Public\", \"Private\", \"Kindergarten\", \"Other\"]\n",
    "\n",
    " # drug is each dataframe   \n",
    "for type in type_subsets:\n",
    "    \n",
    "    sub_type_df = measles_clean.loc[measles_clean[\"type\"] == type]\n",
    "    quartiles = sub_type_df[\"mmr\"].quantile([.25, .5, .75])\n",
    "    lowerq = quartiles[.25] \n",
    "    upperq = quartiles[.75]\n",
    "    iqr = upperq - lowerq\n",
    "    lbound = lowerq - (1.5 * iqr)\n",
    "    ubound = upperq + (1.5 * iqr)\n",
    "\n",
    "    # Flag entries that are greater or less than ubound and lbound\n",
    "    outliers = sub_type_df.loc[sub_type_df[\"mmr\"] < lbound]\n",
    "    not_outliers = sub_type_df.loc[sub_type_df[\"mmr\"] >= lbound]\n",
    "#     print(outliers)"
   ]
  },
  {
   "cell_type": "code",
   "execution_count": 55,
   "metadata": {},
   "outputs": [
    {
     "data": {
      "text/html": [
       "<div>\n",
       "<style scoped>\n",
       "    .dataframe tbody tr th:only-of-type {\n",
       "        vertical-align: middle;\n",
       "    }\n",
       "\n",
       "    .dataframe tbody tr th {\n",
       "        vertical-align: top;\n",
       "    }\n",
       "\n",
       "    .dataframe thead th {\n",
       "        text-align: right;\n",
       "    }\n",
       "</style>\n",
       "<table border=\"1\" class=\"dataframe\">\n",
       "  <thead>\n",
       "    <tr style=\"text-align: right;\">\n",
       "      <th></th>\n",
       "      <th>index</th>\n",
       "      <th>state</th>\n",
       "      <th>name</th>\n",
       "      <th>type</th>\n",
       "      <th>city</th>\n",
       "      <th>mmr</th>\n",
       "      <th>overall</th>\n",
       "      <th>lat</th>\n",
       "      <th>lng</th>\n",
       "    </tr>\n",
       "  </thead>\n",
       "  <tbody>\n",
       "    <tr>\n",
       "      <th>54292</th>\n",
       "      <td>702</td>\n",
       "      <td>Oregon</td>\n",
       "      <td>Logos Public Charter</td>\n",
       "      <td>Other</td>\n",
       "      <td>NaN</td>\n",
       "      <td>76.332623</td>\n",
       "      <td>70.255864</td>\n",
       "      <td>42.320882</td>\n",
       "      <td>-122.864078</td>\n",
       "    </tr>\n",
       "    <tr>\n",
       "      <th>54293</th>\n",
       "      <td>703</td>\n",
       "      <td>Oregon</td>\n",
       "      <td>Silvielementary River Charter</td>\n",
       "      <td>Other</td>\n",
       "      <td>NaN</td>\n",
       "      <td>75.946548</td>\n",
       "      <td>66.815145</td>\n",
       "      <td>42.827994</td>\n",
       "      <td>-118.914530</td>\n",
       "    </tr>\n",
       "    <tr>\n",
       "      <th>54294</th>\n",
       "      <td>704</td>\n",
       "      <td>Oregon</td>\n",
       "      <td>Summit Learning Charter</td>\n",
       "      <td>Other</td>\n",
       "      <td>NaN</td>\n",
       "      <td>75.815217</td>\n",
       "      <td>69.021739</td>\n",
       "      <td>45.361590</td>\n",
       "      <td>-122.352661</td>\n",
       "    </tr>\n",
       "    <tr>\n",
       "      <th>54295</th>\n",
       "      <td>705</td>\n",
       "      <td>Oregon</td>\n",
       "      <td>Portland Village</td>\n",
       "      <td>Other</td>\n",
       "      <td>NaN</td>\n",
       "      <td>74.934037</td>\n",
       "      <td>59.102902</td>\n",
       "      <td>45.578628</td>\n",
       "      <td>-122.691876</td>\n",
       "    </tr>\n",
       "    <tr>\n",
       "      <th>54296</th>\n",
       "      <td>706</td>\n",
       "      <td>Oregon</td>\n",
       "      <td>Trillium Public Charter</td>\n",
       "      <td>Other</td>\n",
       "      <td>NaN</td>\n",
       "      <td>74.358974</td>\n",
       "      <td>69.743590</td>\n",
       "      <td>45.562221</td>\n",
       "      <td>-122.681778</td>\n",
       "    </tr>\n",
       "    <tr>\n",
       "      <th>...</th>\n",
       "      <td>...</td>\n",
       "      <td>...</td>\n",
       "      <td>...</td>\n",
       "      <td>...</td>\n",
       "      <td>...</td>\n",
       "      <td>...</td>\n",
       "      <td>...</td>\n",
       "      <td>...</td>\n",
       "      <td>...</td>\n",
       "    </tr>\n",
       "    <tr>\n",
       "      <th>63242</th>\n",
       "      <td>1364</td>\n",
       "      <td>Washington</td>\n",
       "      <td>Overcomer Academy</td>\n",
       "      <td>Other</td>\n",
       "      <td>Auburn</td>\n",
       "      <td>23.530000</td>\n",
       "      <td>17.650000</td>\n",
       "      <td>47.301117</td>\n",
       "      <td>-122.276320</td>\n",
       "    </tr>\n",
       "    <tr>\n",
       "      <th>63243</th>\n",
       "      <td>1365</td>\n",
       "      <td>Washington</td>\n",
       "      <td>Salvation Christian Academy- Formerly Slavic C...</td>\n",
       "      <td>Other</td>\n",
       "      <td>Edgewood</td>\n",
       "      <td>22.220000</td>\n",
       "      <td>22.220000</td>\n",
       "      <td>47.249023</td>\n",
       "      <td>-122.287615</td>\n",
       "    </tr>\n",
       "    <tr>\n",
       "      <th>63244</th>\n",
       "      <td>1366</td>\n",
       "      <td>Washington</td>\n",
       "      <td>Saratoga</td>\n",
       "      <td>Other</td>\n",
       "      <td>Stanwood</td>\n",
       "      <td>20.000000</td>\n",
       "      <td>20.000000</td>\n",
       "      <td>48.242579</td>\n",
       "      <td>-122.359097</td>\n",
       "    </tr>\n",
       "    <tr>\n",
       "      <th>63245</th>\n",
       "      <td>1367</td>\n",
       "      <td>Washington</td>\n",
       "      <td>Skagit Family Learning Center</td>\n",
       "      <td>Other</td>\n",
       "      <td>Mount Vernon</td>\n",
       "      <td>17.650000</td>\n",
       "      <td>11.760000</td>\n",
       "      <td>48.406426</td>\n",
       "      <td>-122.339166</td>\n",
       "    </tr>\n",
       "    <tr>\n",
       "      <th>63246</th>\n",
       "      <td>1368</td>\n",
       "      <td>Washington</td>\n",
       "      <td>Snohomish Center</td>\n",
       "      <td>Other</td>\n",
       "      <td>Snohomish</td>\n",
       "      <td>10.000000</td>\n",
       "      <td>10.000000</td>\n",
       "      <td>47.931768</td>\n",
       "      <td>-122.098760</td>\n",
       "    </tr>\n",
       "  </tbody>\n",
       "</table>\n",
       "<p>222 rows × 9 columns</p>\n",
       "</div>"
      ],
      "text/plain": [
       "       index       state                                               name  \\\n",
       "54292    702      Oregon                               Logos Public Charter   \n",
       "54293    703      Oregon                      Silvielementary River Charter   \n",
       "54294    704      Oregon                            Summit Learning Charter   \n",
       "54295    705      Oregon                                   Portland Village   \n",
       "54296    706      Oregon                            Trillium Public Charter   \n",
       "...      ...         ...                                                ...   \n",
       "63242   1364  Washington                                  Overcomer Academy   \n",
       "63243   1365  Washington  Salvation Christian Academy- Formerly Slavic C...   \n",
       "63244   1366  Washington                                           Saratoga   \n",
       "63245   1367  Washington                      Skagit Family Learning Center   \n",
       "63246   1368  Washington                                   Snohomish Center   \n",
       "\n",
       "        type          city        mmr    overall        lat         lng  \n",
       "54292  Other           NaN  76.332623  70.255864  42.320882 -122.864078  \n",
       "54293  Other           NaN  75.946548  66.815145  42.827994 -118.914530  \n",
       "54294  Other           NaN  75.815217  69.021739  45.361590 -122.352661  \n",
       "54295  Other           NaN  74.934037  59.102902  45.578628 -122.691876  \n",
       "54296  Other           NaN  74.358974  69.743590  45.562221 -122.681778  \n",
       "...      ...           ...        ...        ...        ...         ...  \n",
       "63242  Other        Auburn  23.530000  17.650000  47.301117 -122.276320  \n",
       "63243  Other      Edgewood  22.220000  22.220000  47.249023 -122.287615  \n",
       "63244  Other      Stanwood  20.000000  20.000000  48.242579 -122.359097  \n",
       "63245  Other  Mount Vernon  17.650000  11.760000  48.406426 -122.339166  \n",
       "63246  Other     Snohomish  10.000000  10.000000  47.931768 -122.098760  \n",
       "\n",
       "[222 rows x 9 columns]"
      ]
     },
     "execution_count": 55,
     "metadata": {},
     "output_type": "execute_result"
    }
   ],
   "source": [
    "not_outliers = pd.DataFrame(not_outliers)\n",
    "type = not_outliers[\"type\"].unique()\n",
    "type\n",
    "\n",
    "outliers = pd.DataFrame(outliers)\n",
    "outliers"
   ]
  },
  {
   "cell_type": "code",
   "execution_count": null,
   "metadata": {},
   "outputs": [],
   "source": []
  },
  {
   "cell_type": "code",
   "execution_count": null,
   "metadata": {},
   "outputs": [],
   "source": []
  },
  {
   "cell_type": "code",
   "execution_count": 56,
   "metadata": {},
   "outputs": [],
   "source": [
    "avg_by_state\n",
    "\n",
    "# Isolate mean and median\n",
    "median_by_state = avg_by_state.drop(columns=[\"Count of Schools\", \"Overall Mean\",\n",
    "                                             \"Public Mean\", \"Kindergarten Mean\", \n",
    "                                             \"Private Mean\", \"Other Mean\"])\n",
    "# median_by_state # Giving me shit about \"Overall Mean\"\n",
    "\n",
    "mean_by_state = avg_by_state.drop(columns=[\"Count of Schools\", \"Overall Median\", \n",
    "                                           \"Public Median\", \"Private Median\",\n",
    "                                          \"Kindergarten Median\", \"Other Median\"])\n",
    "# median_by_state"
   ]
  },
  {
   "cell_type": "code",
   "execution_count": null,
   "metadata": {},
   "outputs": [],
   "source": []
  }
 ],
 "metadata": {
  "kernelspec": {
   "display_name": "Python 3",
   "language": "python",
   "name": "python3"
  },
  "language_info": {
   "codemirror_mode": {
    "name": "ipython",
    "version": 3
   },
   "file_extension": ".py",
   "mimetype": "text/x-python",
   "name": "python",
   "nbconvert_exporter": "python",
   "pygments_lexer": "ipython3",
   "version": "3.6.10"
  }
 },
 "nbformat": 4,
 "nbformat_minor": 4
}
