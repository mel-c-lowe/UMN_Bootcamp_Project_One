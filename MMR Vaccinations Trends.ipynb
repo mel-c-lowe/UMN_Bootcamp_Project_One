{
 "cells": [
  {
   "cell_type": "code",
   "execution_count": null,
   "metadata": {},
   "outputs": [],
   "source": [
    "import pandas as pd\n",
    "import matplotlib.pyplot as plt\n",
    "import numpy as np\n",
    "import requests\n",
    "import time\n",
    "import scipy.stats as st\n",
    "from scipy.stats import linregress"
   ]
  },
  {
   "cell_type": "code",
   "execution_count": null,
   "metadata": {},
   "outputs": [],
   "source": [
    "measles_raw_data = pd.read_csv(\"measles - measles.csv\")\n",
    "measles_raw_data.head()\n",
    "measles_raw_data.groupby(\"year\").count()"
   ]
  },
  {
   "cell_type": "code",
   "execution_count": null,
   "metadata": {},
   "outputs": [],
   "source": [
    "measles_clean = measles_raw_data.drop(columns=[\"xper\", \"xmed\", \"xrel\", \"district\", \"year\", \"county\", \"enroll\"])\n",
    "# measles_clean = measles_clean.dropna()\n",
    "\n",
    "# measles_clean.dtypes"
   ]
  },
  {
   "cell_type": "code",
   "execution_count": null,
   "metadata": {},
   "outputs": [],
   "source": [
    "# neg_count = measles_clean.loc[[\"mmr\" == \"-1\"]]\n",
    "# len(neg_count)\n",
    "\n",
    "measles_clean['mmr'].value_counts()\n",
    "measles_clean['overall'].value_counts()"
   ]
  },
  {
   "cell_type": "code",
   "execution_count": null,
   "metadata": {},
   "outputs": [],
   "source": [
    "measles_clean = measles_clean.loc[measles_clean[\"mmr\"] >= 0]\n",
    "measles_clean = measles_clean.loc[measles_clean[\"overall\"] >= 0]\n",
    "# measles_clean"
   ]
  },
  {
   "cell_type": "code",
   "execution_count": null,
   "metadata": {},
   "outputs": [],
   "source": [
    "measles_clean[\"type\"].fillna(\"Other\", inplace = True)\n",
    "measles_clean"
   ]
  },
  {
   "cell_type": "code",
   "execution_count": null,
   "metadata": {},
   "outputs": [],
   "source": [
    "type_groups = measles_clean.groupby(\"type\")\n",
    "type_groups.count()"
   ]
  },
  {
   "cell_type": "code",
   "execution_count": null,
   "metadata": {},
   "outputs": [],
   "source": [
    "# This was research\n",
    "\n",
    "# # measles_clean.loc[(measles_clean.type == \"NaN\"), \"type\"]=\"Other\"\n",
    "# # measles_clean[\"type\"]=measles_clean[\"type\"].replace({\"NaN\":\"Other\"})\n",
    "# # measles_clean.loc[(measles_clean.type == 'NaN'),'type']='Other'\n",
    "# # measles_clean.fillna(0)\n",
    "\n",
    "# measles_clean[\"type\"]=measles_clean[\"type\"].fillna(0)\n",
    "# measles_clean[\"type\"] = measles_clean.type.astype(str)\n",
    "\n",
    "# measles_clean.loc[(measles_clean.type == \"0\"), \"type\"]=\"Other\"\n",
    "# measles_clean"
   ]
  },
  {
   "cell_type": "code",
   "execution_count": null,
   "metadata": {},
   "outputs": [],
   "source": [
    "# Rylee's code begins here!"
   ]
  },
  {
   "cell_type": "code",
   "execution_count": null,
   "metadata": {},
   "outputs": [],
   "source": [
    "# Borrowed Melissa's variables in order to pull out values based on type\n",
    "# Set up Public, Private, Kindergarten, and Other dataframes\n",
    "\n",
    "public_stats = measles_clean.loc[measles_clean[\"type\"] == \"Public\"]\n",
    "# public_stats\n",
    "\n",
    "private_stats = measles_clean.loc[measles_clean[\"type\"] == \"Private\"]\n",
    "# private_stats\n",
    "\n",
    "kindergarten_stats = measles_clean.loc[measles_clean[\"type\"] == \"Kindergarten\"]\n",
    "# kindergarten_stats\n",
    "\n",
    "other_stats = measles_clean.loc[measles_clean[\"type\"] == \"Other\"]\n",
    "# other_stats"
   ]
  },
  {
   "cell_type": "code",
   "execution_count": null,
   "metadata": {},
   "outputs": [],
   "source": [
    "# Type averages plot setup\n",
    "\n",
    "public_mmr_mean = public_stats['mmr'].mean()\n",
    "# public_mmr_mean\n",
    "\n",
    "private_mmr_mean = private_stats['mmr'].mean()\n",
    "# private_mmr_mean\n",
    "\n",
    "kindergarten_mmr_mean = kindergarten_stats['mmr'].mean()\n",
    "# kindergarten_mmr_mean\n",
    "\n",
    "other_mmr_mean = other_stats['mmr'].mean()\n",
    "# other_mmr_mean\n",
    "\n",
    "# Just doing hypothesis testing right now\n",
    "# We are trying to prove that mmr rates vary by school type\n",
    "\n",
    "st.f_oneway(public_stats['mmr'], private_stats['mmr'], kindergarten_stats['mmr'], other_stats['mmr'])"
   ]
  },
  {
   "cell_type": "code",
   "execution_count": null,
   "metadata": {},
   "outputs": [],
   "source": [
    "# Taking out the \"other\" school type\n",
    "st.f_oneway(public_stats['mmr'], private_stats['mmr'], kindergarten_stats['mmr'])"
   ]
  },
  {
   "cell_type": "code",
   "execution_count": null,
   "metadata": {},
   "outputs": [],
   "source": [
    "# Taking out the \"kindergarten\" school type\n",
    "st.f_oneway(public_stats['mmr'], private_stats['mmr'], other_stats['mmr'])"
   ]
  },
  {
   "cell_type": "code",
   "execution_count": null,
   "metadata": {},
   "outputs": [],
   "source": [
    "# Taking out the \"private\" school type\n",
    "st.f_oneway(public_stats['mmr'], kindergarten_stats['mmr'], other_stats['mmr'])"
   ]
  },
  {
   "cell_type": "code",
   "execution_count": null,
   "metadata": {},
   "outputs": [],
   "source": [
    "# Taking out the \"public\" school type\n",
    "st.f_oneway(private_stats['mmr'], kindergarten_stats['mmr'], other_stats['mmr'])"
   ]
  },
  {
   "cell_type": "code",
   "execution_count": null,
   "metadata": {},
   "outputs": [],
   "source": [
    "# Taking out \"other\" and \"public\" and running a t-test because this is where the p-vals were the largest\n",
    "# when I took them out in the ANOVA\n",
    "st.ttest_ind(private_stats['mmr'], kindergarten_stats['mmr'])"
   ]
  },
  {
   "cell_type": "code",
   "execution_count": null,
   "metadata": {},
   "outputs": [],
   "source": [
    "# T-test on \"other\" and \"private\"\n",
    "st.ttest_ind(private_stats['mmr'], other_stats['mmr'])"
   ]
  },
  {
   "cell_type": "code",
   "execution_count": null,
   "metadata": {},
   "outputs": [],
   "source": [
    "# T-test on \"other\" and \"kindergarten\"\n",
    "st.ttest_ind(other_stats['mmr'], kindergarten_stats['mmr'])"
   ]
  },
  {
   "cell_type": "code",
   "execution_count": null,
   "metadata": {},
   "outputs": [],
   "source": [
    "# T-test on \"public\" and \"private\"\n",
    "st.ttest_ind(private_stats['mmr'], public_stats['mmr'])"
   ]
  },
  {
   "cell_type": "code",
   "execution_count": null,
   "metadata": {},
   "outputs": [],
   "source": [
    "# T-test on \"public\" and \"other\"\n",
    "st.ttest_ind(other_stats['mmr'], public_stats['mmr'])"
   ]
  },
  {
   "cell_type": "code",
   "execution_count": null,
   "metadata": {},
   "outputs": [],
   "source": [
    "# Beginning plot setup\n",
    "# school_types = [measles_clean['type'].unique()]\n",
    "# school_types\n",
    "\n",
    "# means = [public_mmr_mean, private_mmr_mean, kindergarten_mmr_mean, other_mmr_mean]\n",
    "# means\n",
    "\n",
    "# x_axis = school_types\n",
    "# y_axis = means\n",
    "\n",
    "# plt.bar(x_axis, y_axis, color=\"blue\")\n",
    "# # plt.ylabel(\"Mean MMR Rates\")\n",
    "# # plt.xlabel(\"School Type\")\n",
    "# # plt.title(\"Mean MMR Rates by School Type\", fontsize=15)\n",
    "\n",
    "# # tick_locations = [value for value in x_axis]\n",
    "# # plt.xticks(tick_locations, states, rotation=\"45\", fontsize=12)\n",
    "\n",
    "# plt.show()"
   ]
  },
  {
   "cell_type": "code",
   "execution_count": null,
   "metadata": {},
   "outputs": [],
   "source": [
    "# Loop through the data frame to calculate stats by state\n",
    "\n",
    "# Set up empty lists to fill in for loop\n",
    "# states = measles_clean[\"state\"].unique()\n",
    "# # states\n",
    "# count_states = []\n",
    "# mean_mmr = []\n",
    "# median_mmr = []\n",
    "# public_mean = []\n",
    "# public_median = []\n",
    "# private_mean = []\n",
    "# private_median = []\n",
    "# kind_mean = []\n",
    "# kind_median = []\n",
    "# other_mean = []\n",
    "# other_median = []\n",
    "\n",
    "# for state in states:\n",
    "    \n",
    "#     # Identify what state to work with\n",
    "#     state_active = measles_clean.loc[measles_clean[\"state\"] == state]\n",
    "    \n",
    "#     # Count all the schools for each state\n",
    "#     count_active = state_active[\"state\"].count()\n",
    "#     count_states.append(count_active)\n",
    "    \n",
    "#     # Calculate mean for each state\n",
    "#     mean_active = state_active[\"mmr\"].mean()\n",
    "#     mean_mmr.append(mean_active)\n",
    "    \n",
    "#     # Calculate median for each state\n",
    "#     median_active = state_active[\"mmr\"].median()\n",
    "#     median_mmr.append(median_active)\n",
    "    \n",
    "#     # Reset state_active for use on public subsets\n",
    "#     state_active = public_stats.loc[public_stats[\"state\"] == state]\n",
    "    \n",
    "#     # Calculate mean for public schools\n",
    "#     public_active = state_active[\"mmr\"].mean()\n",
    "#     public_mean.append(public_active)\n",
    "    \n",
    "#     # Calculate median for public schools\n",
    "#     public_active = state_active[\"mmr\"].median()\n",
    "#     public_median.append(public_active)\n",
    "    \n",
    "#     # Reset state_active for use on private subsets\n",
    "#     state_active = private_stats.loc[private_stats[\"state\"] == state]\n",
    "    \n",
    "#     # Calculate mean for private schools\n",
    "#     private_active = state_active[\"mmr\"].mean()\n",
    "#     private_mean.append(private_active)\n",
    "    \n",
    "#     # Calculate median for private schools\n",
    "#     private_active = state_active[\"mmr\"].median()\n",
    "#     private_median.append(private_active)\n",
    "    \n",
    "#     # Reset state_active for use on kindergarten subsets\n",
    "#     state_active = kindergarten_stats.loc[kindergarten_stats[\"state\"] == state]\n",
    "    \n",
    "#     # Calculate mean for kindergarten schools\n",
    "#     kind_active = state_active[\"mmr\"].mean()\n",
    "#     kind_mean.append(kind_active)\n",
    "    \n",
    "#     # Calculate median for kindergarten schools\n",
    "#     kind_active = state_active[\"mmr\"].median()\n",
    "#     kind_median.append(kind_active)\n",
    "    \n",
    "#     # Reset state_active for use on other subsets\n",
    "#     state_active = other_stats.loc[other_stats[\"state\"] == state]\n",
    "    \n",
    "#     # Calculate mean for Other schools\n",
    "#     other_active = state_active[\"mmr\"].mean()\n",
    "#     other_mean.append(other_active)\n",
    "    \n",
    "#     # Calculate median for Other schools\n",
    "#     other_active = state_active[\"mmr\"].median()\n",
    "#     other_median.append(other_active)\n",
    "   \n",
    "       \n",
    "# # other_median"
   ]
  },
  {
   "cell_type": "code",
   "execution_count": null,
   "metadata": {},
   "outputs": [],
   "source": [
    "# Type medians\n",
    "\n",
    "# type_medians = type_groups['mmr'].median()\n",
    "# type_medians"
   ]
  },
  {
   "cell_type": "code",
   "execution_count": null,
   "metadata": {},
   "outputs": [],
   "source": [
    "# Rylee's code ends here!"
   ]
  }
 ],
 "metadata": {
  "kernelspec": {
   "display_name": "Python 3",
   "language": "python",
   "name": "python3"
  },
  "language_info": {
   "codemirror_mode": {
    "name": "ipython",
    "version": 3
   },
   "file_extension": ".py",
   "mimetype": "text/x-python",
   "name": "python",
   "nbconvert_exporter": "python",
   "pygments_lexer": "ipython3",
   "version": "3.6.10"
  }
 },
 "nbformat": 4,
 "nbformat_minor": 4
}
