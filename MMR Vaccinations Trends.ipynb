{
 "cells": [
  {
   "cell_type": "markdown",
   "metadata": {},
   "source": [
    "Updating melissa branch and main branch\n",
    "\n",
    "Main notebook contains contributions from all members and is currently being reviewed for conformity.\n",
    "Some order has been changed to ensure variables are set and core code is isolated outside of \n",
    "each person's contribution."
   ]
  },
  {
   "cell_type": "code",
   "execution_count": null,
   "metadata": {},
   "outputs": [],
   "source": [
    "#Import Dependencies\n",
    "import matplotlib.pyplot as plt\n",
    "import pandas as pd\n",
    "import numpy as np\n",
    "import requests\n",
    "import time\n",
    "import scipy.stats as st\n",
    "from scipy.stats import linregress\n",
    "import warnings\n",
    "warnings.filterwarnings(\"ignore\")"
   ]
  },
  {
   "cell_type": "code",
   "execution_count": null,
   "metadata": {},
   "outputs": [],
   "source": [
    "measles_raw_data = pd.read_csv(\"measles - measles.csv\")\n",
    "measles_raw_data.head()\n",
    "measles_raw_data.groupby(\"year\").count()"
   ]
  },
  {
   "cell_type": "code",
   "execution_count": null,
   "metadata": {},
   "outputs": [],
   "source": [
    "measles_clean = measles_raw_data.drop(columns=[\"xper\", \"xmed\", \"xrel\", \"district\", \"year\", \"county\", \"enroll\"])\n",
    "# measles_clean = measles_clean.dropna()\n",
    "\n",
    "measles_clean.dtypes"
   ]
  },
  {
   "cell_type": "code",
   "execution_count": null,
   "metadata": {},
   "outputs": [],
   "source": [
    "# neg_count = measles_clean.loc[[\"mmr\" == \"-1\"]]\n",
    "# len(neg_count)\n",
    "\n",
    "measles_clean['mmr'].value_counts()\n",
    "measles_clean['overall'].value_counts()"
   ]
  },
  {
   "cell_type": "code",
   "execution_count": null,
   "metadata": {},
   "outputs": [],
   "source": [
    "# Dealing with the NaN's\n",
    "measles_clean[\"type\"].fillna(\"Other\", inplace = True)"
   ]
  },
  {
   "cell_type": "code",
   "execution_count": null,
   "metadata": {},
   "outputs": [],
   "source": [
    "# Remove -1 values\n",
    "measles_clean = measles_clean.loc[measles_clean[\"mmr\"] >= 0]\n",
    "measles_clean = measles_clean.loc[measles_clean[\"overall\"] >= 0]\n",
    "measles_clean"
   ]
  },
  {
   "cell_type": "code",
   "execution_count": null,
   "metadata": {},
   "outputs": [],
   "source": [
    "type_groups = measles_clean.groupby(\"type\")\n",
    "type_groups.count()"
   ]
  },
  {
   "cell_type": "code",
   "execution_count": null,
   "metadata": {},
   "outputs": [],
   "source": [
    "# Terra's code begins here"
   ]
  },
  {
   "cell_type": "code",
   "execution_count": null,
   "metadata": {},
   "outputs": [],
   "source": [
    "# Make series to create pie chart\n",
    "school_type = measles_clean.groupby('type')\n",
    "\n",
    "count_school_type = school_type['type'].count()\n",
    "count_school_type"
   ]
  },
  {
   "cell_type": "code",
   "execution_count": null,
   "metadata": {},
   "outputs": [],
   "source": [
    "# Fix error - Terra \n",
    "# No error after prior code order was corrected.  \"Other\" category had not been set.\n",
    "school_type_pie = count_school_type.plot(kind=\"pie\", figsize = (8,8), subplots=True, fontsize=15, autopct='%0.1f%%', \\\n",
    "                                         labels=['Kindergarten', 'Other', 'Private', 'Public'], title=['School Type']) \n",
    "# school_type_pie.set_ylabel(\"Types of Schools\")\n",
    "# plt.axis('equal') \n",
    "# plt.title('Type of School')\n",
    "\n",
    "plt.show()                           \n",
    "plt.tight_layout()\n",
    "# type_vals = type_count['type']\n",
    "# type_labels = type_count['index']"
   ]
  },
  {
   "cell_type": "code",
   "execution_count": null,
   "metadata": {},
   "outputs": [],
   "source": [
    "# State list correct after prior code conformed and corrected\n",
    "state_percents = measles_clean.groupby('state')\n",
    "\n",
    "count_state_percents = state_percents['type'].count()\n",
    "count_state_percents"
   ]
  },
  {
   "cell_type": "code",
   "execution_count": null,
   "metadata": {},
   "outputs": [],
   "source": [
    "school_type_pie = count_state_percents.plot(kind=\"pie\", figsize = (8,8), subplots=True, fontsize=14, autopct='%0.1f%%', \\\n",
    "                                         labels=['California', 'Colorado', 'Ohio', 'Oregon', 'Vermont', 'Washington'], \\\n",
    "                                         title=['Number of Schools by State']) \n",
    "\n",
    "# texts[0].set_fonsize(4)\n",
    "plt.show()                           \n",
    "plt.tight_layout()"
   ]
  },
  {
   "cell_type": "code",
   "execution_count": null,
   "metadata": {},
   "outputs": [],
   "source": [
    "# Terra's code ends above\n",
    "# Fukhrudin's code starts below"
   ]
  },
  {
   "cell_type": "markdown",
   "metadata": {},
   "source": [
    "## SCATTER PLOT: LATITUDE vs LONGITUDE"
   ]
  },
  {
   "cell_type": "code",
   "execution_count": null,
   "metadata": {},
   "outputs": [],
   "source": [
    "df1 = pd.DataFrame(measles_clean, columns=[\"lat\", \"lng\"])\n",
    "df1.plot.scatter(x=\"lng\", y=\"lat\");\n",
    "\n",
    "plt.title(\"Scatter Plot: Latitude vs Longitude\")\n",
    "plt.xlabel(\"Latitude\")\n",
    "plt.ylabel(\"Longitude\")\n",
    "plt.savefig('s1.png')"
   ]
  },
  {
   "cell_type": "markdown",
   "metadata": {},
   "source": [
    "Points on the extreme right are erroneous and must be dropped from the table. The easternmost point in the contiguous US is West Quoddy Head Lighthouse (Maine) with the coordinates (44.81756628922163, -66.95132155560584) so we can't have any longitude value greater than - 66.95132155560584."
   ]
  },
  {
   "cell_type": "code",
   "execution_count": null,
   "metadata": {},
   "outputs": [],
   "source": [
    "# Keeping only negative longitudes\n",
    "measles_clean_lng = measles_clean[measles_clean['lng'] < 0]"
   ]
  },
  {
   "cell_type": "code",
   "execution_count": null,
   "metadata": {},
   "outputs": [],
   "source": [
    "# Re-drawing the scatter\n",
    "df2 = pd.DataFrame(measles_clean_lng, columns=[\"lat\", \"lng\"])\n",
    "df2.plot.scatter(x=\"lng\", y=\"lat\");\n",
    "\n",
    "plt.title(\"Scatter Plot: Latitude vs Longitude\")\n",
    "plt.xlabel(\"Latitude\")\n",
    "plt.ylabel(\"Longitude\")\n",
    "plt.savefig('s2.png')"
   ]
  },
  {
   "cell_type": "code",
   "execution_count": null,
   "metadata": {},
   "outputs": [],
   "source": [
    "# In re-establishing Fukhrudin's code, this cell is throwing a pink error\n",
    "# Any need to worry? Or just carry on?"
   ]
  },
  {
   "cell_type": "code",
   "execution_count": null,
   "metadata": {},
   "outputs": [],
   "source": [
    "#New column for coloring states\n",
    "measles_clean_lng['state2'] = measles_clean_lng['state']"
   ]
  },
  {
   "cell_type": "code",
   "execution_count": null,
   "metadata": {},
   "outputs": [],
   "source": [
    "# Assigning numerical values to state names for coloring\n",
    "measles_clean_lng.loc[measles_clean_lng['state'] == 'California', 'state2'] = 1\n",
    "measles_clean_lng.loc[measles_clean_lng['state'] == 'Colorado', 'state2'] = 2\n",
    "measles_clean_lng.loc[measles_clean_lng['state'] == 'Ohio', 'state2'] = 3\n",
    "measles_clean_lng.loc[measles_clean_lng['state'] == 'Oregon', 'state2'] = 4\n",
    "measles_clean_lng.loc[measles_clean_lng['state'] == 'Washington', 'state2'] = 5\n",
    "measles_clean_lng.loc[measles_clean_lng['state'] == 'Vermont', 'state2'] = 6"
   ]
  },
  {
   "cell_type": "code",
   "execution_count": null,
   "metadata": {},
   "outputs": [],
   "source": [
    "# Colored scatte rplot\n",
    "dfScat = measles_clean_lng[['lng','lat', 'state2']]\n",
    "#axScat = dfScat.plot(kind='scatter', x=0, y=1, c=2, colormap='inferno')\n",
    "#axScat = dfScat.plot(kind='scatter', x=0, y=1, c=2, colormap='plasma')\n",
    "#axScat = dfScat.plot(kind='scatter', x=0, y=1, c=2, colormap='viridis')\n",
    "axScat = dfScat.plot(kind='scatter', x=0, y=1, c=2, colormap='magma')"
   ]
  },
  {
   "cell_type": "code",
   "execution_count": null,
   "metadata": {},
   "outputs": [],
   "source": [
    "# Boxplot of school types\n",
    "# Looks like this is not Fukhrudin's code. Shoot.\n",
    "type_boxplot = measles_clean_lng[['mmr','type']]\n",
    "type_boxplot.boxplot(by='type')"
   ]
  },
  {
   "cell_type": "code",
   "execution_count": null,
   "metadata": {},
   "outputs": [],
   "source": [
    "# Melissa's code starts here"
   ]
  },
  {
   "cell_type": "code",
   "execution_count": null,
   "metadata": {},
   "outputs": [],
   "source": [
    "# Set up Public, Private, Kindergarten, and Other dataframes\n",
    "\n",
    "public_stats = measles_clean.loc[measles_clean[\"type\"] == \"Public\"]\n",
    "# public_stats\n",
    "\n",
    "private_stats = measles_clean.loc[measles_clean[\"type\"] == \"Private\"]\n",
    "# private_stats\n",
    "\n",
    "kindergarten_stats = measles_clean.loc[measles_clean[\"type\"] == \"Kindergarten\"]\n",
    "# kindergarten_stats\n",
    "\n",
    "other_stats = measles_clean.loc[measles_clean[\"type\"] == \"Other\"]\n",
    "# other_stats"
   ]
  },
  {
   "cell_type": "code",
   "execution_count": null,
   "metadata": {},
   "outputs": [],
   "source": [
    "# Loop through the data frame to calculate stats by state\n",
    "\n",
    "# Set up empty lists to fill in for loop\n",
    "states = measles_clean[\"state\"].unique()\n",
    "# states\n",
    "count_states = []\n",
    "mean_mmr = []\n",
    "median_mmr = []\n",
    "public_mean = []\n",
    "public_median = []\n",
    "private_mean = []\n",
    "private_median = []\n",
    "kind_mean = []\n",
    "kind_median = []\n",
    "other_mean = []\n",
    "other_median = []\n",
    "\n",
    "for state in states:\n",
    "    \n",
    "    # Identify what state to work with\n",
    "    state_active = measles_clean.loc[measles_clean[\"state\"] == state]\n",
    "    \n",
    "    # Count all the schools for each state\n",
    "    count_active = state_active[\"state\"].count()\n",
    "    count_states.append(count_active)\n",
    "    \n",
    "    # Calculate mean for each state\n",
    "    mean_active = state_active[\"mmr\"].mean()\n",
    "    mean_mmr.append(mean_active)\n",
    "    \n",
    "    # Calculate median for each state\n",
    "    median_active = state_active[\"mmr\"].median()\n",
    "    median_mmr.append(median_active)\n",
    "    \n",
    "    # Reset state_active for use on public subsets\n",
    "    state_active = public_stats.loc[public_stats[\"state\"] == state]\n",
    "    \n",
    "    # Calculate mean for public schools\n",
    "    public_active = state_active[\"mmr\"].mean()\n",
    "    public_mean.append(public_active)\n",
    "    \n",
    "    # Calculate median for public schools\n",
    "    public_active = state_active[\"mmr\"].median()\n",
    "    public_median.append(public_active)\n",
    "    \n",
    "    # Reset state_active for use on private subsets\n",
    "    state_active = private_stats.loc[private_stats[\"state\"] == state]\n",
    "    \n",
    "    # Calculate mean for private schools\n",
    "    private_active = state_active[\"mmr\"].mean()\n",
    "    private_mean.append(private_active)\n",
    "    \n",
    "    # Calculate median for private schools\n",
    "    private_active = state_active[\"mmr\"].median()\n",
    "    private_median.append(private_active)\n",
    "    \n",
    "    # Reset state_active for use on kindergarten subsets\n",
    "    state_active = kindergarten_stats.loc[kindergarten_stats[\"state\"] == state]\n",
    "    \n",
    "    # Calculate mean for kindergarten schools\n",
    "    kind_active = state_active[\"mmr\"].mean()\n",
    "    kind_mean.append(kind_active)\n",
    "    \n",
    "    # Calculate median for kindergarten schools\n",
    "    kind_active = state_active[\"mmr\"].median()\n",
    "    kind_median.append(kind_active)\n",
    "    \n",
    "    # Reset state_active for use on other subsets\n",
    "    state_active = other_stats.loc[other_stats[\"state\"] == state]\n",
    "    \n",
    "    # Calculate mean for Other schools\n",
    "    other_active = state_active[\"mmr\"].mean()\n",
    "    other_mean.append(other_active)\n",
    "    \n",
    "    # Calculate median for Other schools\n",
    "    other_active = state_active[\"mmr\"].median()\n",
    "    other_median.append(other_active)\n",
    "   \n",
    "       \n",
    "# other_median"
   ]
  },
  {
   "cell_type": "code",
   "execution_count": null,
   "metadata": {},
   "outputs": [],
   "source": [
    "# Set up summary table of averages per state\n",
    "avg_by_state = pd.DataFrame({\n",
    "    \"State\": states\n",
    "})\n",
    "\n",
    "avg_by_state[\"Count of Schools\"] = count_states\n",
    "avg_by_state[\"Overall Mean\"] = mean_mmr\n",
    "avg_by_state[\"Overall Median\"] = median_mmr\n",
    "avg_by_state[\"Public Mean\"] = public_mean\n",
    "avg_by_state[\"Public Median\"] = public_median\n",
    "avg_by_state[\"Private Mean\"] = private_mean\n",
    "avg_by_state[\"Private Median\"] = private_median\n",
    "avg_by_state[\"Kindergarten Mean\"] = kind_mean\n",
    "avg_by_state[\"Kindergarten Median\"] = kind_median\n",
    "avg_by_state[\"Other Mean\"] = other_mean\n",
    "avg_by_state[\"Other Median\"] = other_median\n",
    "\n",
    "avg_by_state\n",
    "\n",
    "# Investigate NaNs\n",
    "# Indicate a lack of that school type reporting out of that state"
   ]
  },
  {
   "cell_type": "markdown",
   "metadata": {},
   "source": [
    "By setting up this summary table, we can see which states provided data for which types of schools.  This allows us to have an informed way of breaking the data apart and compare like to like data, such as California and Ohio, or Oregon, Vermon, and Washington."
   ]
  },
  {
   "cell_type": "code",
   "execution_count": null,
   "metadata": {},
   "outputs": [],
   "source": [
    "# Plot of school counts across states\n",
    "\n",
    "y_axis = count_states\n",
    "x_axis = np.arange(len(states))\n",
    "\n",
    "plt.bar(x_axis, y_axis, color=\"green\")\n",
    "plt.ylabel(\"Number of Schools\")\n",
    "plt.xlabel(\"State\")\n",
    "plt.title(\"Count of Schools in States in Dataset\", fontsize=15)\n",
    "\n",
    "tick_locations = [value for value in x_axis]\n",
    "plt.xticks(tick_locations, states, rotation=\"45\", fontsize=12)\n",
    "\n",
    "plt.show()\n",
    "# Look at California alone"
   ]
  },
  {
   "cell_type": "markdown",
   "metadata": {},
   "source": [
    "Looking at the count of schools across the states allows us to know if our sample sizes in each state are comparable.  While based on sheer numbers, this chart shows they are not, what we do not know is whether the proportion of schools that reported data out of the entire population is similar across states.  Either way, it is clear from the start difference in the count of schools from California that that state is worth looking at on its own as well."
   ]
  },
  {
   "cell_type": "code",
   "execution_count": null,
   "metadata": {},
   "outputs": [],
   "source": [
    "# Plot with grouped bars -- MEAN AND MEDIAN BY STATE\n",
    "# https://matplotlib.org/3.3.4/gallery/lines_bars_and_markers/barchart.html#sphx-glr-gallery-lines-bars-and-markers-barchart-py\n",
    "# Add rates to bars, if possible\n",
    "\n",
    "x = np.arange(len(states))  \n",
    "width = 0.35  # the width of the bars\n",
    "\n",
    "fig, ax = plt.subplots()\n",
    "rects1 = ax.bar(x - width/2, mean_mmr, width, label=\"Mean\")\n",
    "rects2 = ax.bar(x + width/2, median_mmr, width, label=\"Median\")\n",
    "\n",
    "plt.ylabel(\"Average of MMR Innoculation Rates\")\n",
    "plt.xlabel(\"State\")\n",
    "plt.title(\"Mean and Median of MMR Innoculation Rates across States in Dataset\", fontsize=15)\n",
    "plt.legend(loc=\"lower right\")\n",
    "\n",
    "tick_locations = [value for value in x_axis]\n",
    "plt.xticks(tick_locations, states, rotation=\"45\", fontsize=12)\n",
    "\n",
    "plt.show()"
   ]
  },
  {
   "cell_type": "markdown",
   "metadata": {},
   "source": [
    "By displaying the mean and median vaccination rates together, we can see not only how each rate differs across states but how consistently the mean is lower than the median rate for each state.  What this tells us is that there may be lower reported rates of vaccination at a sufficient number of schools in each state to pull the mean rate down.  Looking at the median as well is a reminder that that the actual reported rates may be higher than the mean only would lead a person to infer.  Because this difference holds true across states, it feels like an important trend to hold in mind when using either form of average."
   ]
  },
  {
   "cell_type": "code",
   "execution_count": null,
   "metadata": {},
   "outputs": [],
   "source": [
    "# Grouped bar chart of all averages across all states and school types\n",
    "# Formatting is being disagreable\n",
    "\n",
    "group_by_state = avg_by_state.drop([\"Count of Schools\"], axis=1)\n",
    "\n",
    "state_group_fig = group_by_state.plot.bar(rot=45)\n",
    "\n",
    "plt.ylabel(\"Average of MMR Innoculation Rates\")\n",
    "plt.xlabel(\"State\")\n",
    "plt.title(\"Mean and Median of MMR Innoculation Rates across States and School Types in Dataset\", fontsize=15)\n",
    "plt.legend(loc=\"center\")\n",
    "\n",
    "tick_locations = [value for value in x_axis]\n",
    "plt.xticks(tick_locations, states, rotation=\"45\", fontsize=12)\n",
    "plt.legend(bbox_to_anchor=(1.05, 1), loc='upper left', borderaxespad=0.)\n",
    "\n",
    "plt.show()"
   ]
  },
  {
   "cell_type": "code",
   "execution_count": null,
   "metadata": {},
   "outputs": [],
   "source": [
    "# Grouped bar chart with isolated means and medians\n",
    "# Medians\n",
    "median_group_fig = median_by_state.plot.bar(rot=45)\n",
    "\n",
    "plt.ylabel(\"Median of MMR Innoculation Rates\")\n",
    "plt.xlabel(\"State\")\n",
    "plt.title(\"Median of MMR Innoculation Rates across States and School Types in Dataset\", fontsize=15)\n",
    "plt.legend(loc=\"center\")\n",
    "\n",
    "tick_locations = [value for value in x_axis]\n",
    "plt.xticks(tick_locations, states, rotation=\"45\", fontsize=12)\n",
    "\n",
    "plt.show()"
   ]
  },
  {
   "cell_type": "code",
   "execution_count": null,
   "metadata": {},
   "outputs": [],
   "source": [
    "# Alternate California Ohio Grouped Plot\n",
    "# This might be better/more useful if the ticks were the school type and each had \n",
    "\n",
    "california_ohio = avg_by_state.loc[avg_by_state[\"Public Mean\"] >= 0]\n",
    "california_ohio = california_ohio.drop(columns=[\"Count of Schools\", \n",
    "                                                \"Kindergarten Mean\", \"Kindergarten Median\",\n",
    "                                                \"Other Mean\", \"Other Median\"])\n",
    "cal_oh_labels = california_ohio[\"State\"]\n",
    "california_group_fig = california_ohio.plot.bar(rot=45)\n",
    "x_axis = np.arange(len(cal_oh_labels))\n",
    "plt.ylabel(\"Average of MMR Innoculation Rates\")\n",
    "plt.xlabel(\"State\")\n",
    "plt.title(\"Mean and Median of MMR Innoculation Rates in California and Ohio\", fontsize=15)\n",
    "plt.legend(loc=\"center\")\n",
    "\n",
    "tick_locations = [value for value in x_axis]\n",
    "plt.xticks(tick_locations, cal_oh_labels, rotation=\"45\", fontsize=12)\n",
    "\n",
    "plt.show()"
   ]
  },
  {
   "cell_type": "code",
   "execution_count": null,
   "metadata": {},
   "outputs": [],
   "source": [
    "california_ohio = california_ohio.reset_index(drop=True)\n",
    "california_ohio = california_ohio.drop(columns=[\"State\"])\n",
    "ohio_cali = california_ohio.T\n",
    "# ohio_cali.rename(columns={0: \"California\", 2: \"Ohio\"})\n",
    "ohio_cali"
   ]
  },
  {
   "cell_type": "code",
   "execution_count": null,
   "metadata": {},
   "outputs": [],
   "source": [
    "ohio_cali\n",
    "oh_cal_labels = ohio_cali.index\n",
    "oh_cal_group_fig = ohio_cali.plot.bar(rot=45)\n",
    "x_axis = np.arange(len(oh_cal_labels))\n",
    "plt.ylabel(\"Average of MMR Innoculation Rates\")\n",
    "plt.xlabel(\"School and Average Type\")\n",
    "plt.title(\"Mean and Median of MMR Innoculation Rates in California and Ohio\", fontsize=15)\n",
    "legend_text=plt.legend(loc=\"center\")\n",
    "legend_text.get_texts()[0].set_text(\"California\")\n",
    "legend_text.get_texts()[1].set_text(\"Ohio\")\n",
    "# Legend text issues resolved with help from Stack Overflor\n",
    "# https://stackoverflow.com/questions/23037548/change-main-plot-legend-label-text\n",
    "\n",
    "tick_locations = [value for value in x_axis]\n",
    "plt.xticks(tick_locations, oh_cal_labels, rotation=\"45\", fontsize=12)\n",
    "\n",
    "plt.show()"
   ]
  },
  {
   "cell_type": "code",
   "execution_count": null,
   "metadata": {},
   "outputs": [],
   "source": [
    "# Testing Average by type\n",
    "avg_by_type = avg_by_state.drop(columns=[\"Count of Schools\"])\n",
    "avg_by_type = avg_by_type.drop(columns=[\"State\"])\n",
    "avg_by_type = avg_by_type.T\n",
    "avg_by_type"
   ]
  },
  {
   "cell_type": "code",
   "execution_count": null,
   "metadata": {},
   "outputs": [],
   "source": [
    "# Chart of Mean and Medians grouped together\n",
    "\n",
    "avg_by_type\n",
    "type_labels = avg_by_type.index\n",
    "type_group_fig = avg_by_type.plot.bar(rot=45)\n",
    "x_axis = np.arange(len(type_labels))\n",
    "plt.ylabel(\"Average of MMR Innoculation Rates\")\n",
    "plt.xlabel(\"School and Average Type\")\n",
    "plt.title(\"Mean and Median of MMR Innoculation Rates in All States\", fontsize=15)\n",
    "legend_text=plt.legend(loc=\"center\")\n",
    "legend_text.get_texts()[0].set_text(\"California\")\n",
    "legend_text.get_texts()[1].set_text(\"Colorado\")\n",
    "legend_text.get_texts()[2].set_text(\"Ohio\")\n",
    "legend_text.get_texts()[3].set_text(\"Oregon\")\n",
    "legend_text.get_texts()[4].set_text(\"Vermont\")\n",
    "legend_text.get_texts()[5].set_text(\"Washington\")\n",
    "\n",
    "# Legend text issues resolved with help from Stack Overflor\n",
    "# https://stackoverflow.com/questions/23037548/change-main-plot-legend-label-text\n",
    "\n",
    "tick_locations = [value for value in x_axis]\n",
    "plt.xticks(tick_locations, type_labels, rotation=\"45\", fontsize=12)\n",
    "\n",
    "plt.show()"
   ]
  },
  {
   "cell_type": "code",
   "execution_count": null,
   "metadata": {},
   "outputs": [],
   "source": [
    "print(states)\n",
    "avg_by_state\n",
    "mean_by_type = avg_by_state.drop(columns=[\"Count of Schools\", \"State\", \n",
    "                                          \"Overall Median\", \"Public Median\", \n",
    "                                          \"Kindergarten Median\", \"Other Median\"])\n",
    "mean_by_type = mean_by_type.T\n",
    "mean_by_type\n",
    "\n",
    "median_by_type = avg_by_state.drop(columns=[\"Count of Schools\", \"State\", \n",
    "                                          \"Overall Mean\", \"Public Mean\", \n",
    "                                          \"Kindergarten Mean\", \"Other Mean\"])\n",
    "median_by_type = median_by_type.T\n",
    "median_by_type"
   ]
  },
  {
   "cell_type": "code",
   "execution_count": null,
   "metadata": {},
   "outputs": [],
   "source": [
    "# Chart of Mean by type\n",
    "\n",
    "mean_by_type\n",
    "type_labels = mean_by_type.index\n",
    "type_group_fig = mean_by_type.plot.bar(rot=45)\n",
    "x_axis = np.arange(len(type_labels))\n",
    "plt.ylabel(\"Average of MMR Innoculation Rates\")\n",
    "plt.xlabel(\"School and Average Type\")\n",
    "plt.title(\"Mean of MMR Innoculation Rates in All States\", fontsize=15)\n",
    "legend_text=plt.legend(loc=\"center\")\n",
    "legend_text.get_texts()[0].set_text(\"California\")\n",
    "legend_text.get_texts()[1].set_text(\"Colorado\")\n",
    "legend_text.get_texts()[2].set_text(\"Ohio\")\n",
    "legend_text.get_texts()[3].set_text(\"Oregon\")\n",
    "legend_text.get_texts()[4].set_text(\"Vermont\")\n",
    "legend_text.get_texts()[5].set_text(\"Washington\")\n",
    "\n",
    "# Legend text issues resolved with help from Stack Overflor\n",
    "# https://stackoverflow.com/questions/23037548/change-main-plot-legend-label-text\n",
    "\n",
    "tick_locations = [value for value in x_axis]\n",
    "plt.xticks(tick_locations, type_labels, rotation=\"45\", fontsize=12)\n",
    "\n",
    "plt.show()"
   ]
  },
  {
   "cell_type": "code",
   "execution_count": null,
   "metadata": {},
   "outputs": [],
   "source": [
    "# Chart for Median only\n",
    "\n",
    "median_by_type\n",
    "type_labels = median_by_type.index\n",
    "type_group_fig = median_by_type.plot.bar(rot=45)\n",
    "x_axis = np.arange(len(type_labels))\n",
    "plt.ylabel(\"Average of MMR Innoculation Rates\")\n",
    "plt.xlabel(\"School and Average Type\")\n",
    "plt.title(\"Median of MMR Innoculation Rates in All States\", fontsize=15)\n",
    "legend_text=plt.legend(bbox_to_anchor=(1.05, 1), loc='upper left', borderaxespad=0.)\n",
    "legend_text.get_texts()[0].set_text(\"California\")\n",
    "legend_text.get_texts()[1].set_text(\"Colorado\")\n",
    "legend_text.get_texts()[2].set_text(\"Ohio\")\n",
    "legend_text.get_texts()[3].set_text(\"Oregon\")\n",
    "legend_text.get_texts()[4].set_text(\"Vermont\")\n",
    "legend_text.get_texts()[5].set_text(\"Washington\")\n",
    "\n",
    "# Legend text issues resolved with help from Stack Overflor\n",
    "# https://stackoverflow.com/questions/23037548/change-main-plot-legend-label-text\n",
    "\n",
    "tick_locations = [value for value in x_axis]\n",
    "plt.xticks(tick_locations, type_labels, rotation=\"60\", fontsize=12)\n",
    "\n",
    "\n",
    "plt.show()"
   ]
  },
  {
   "cell_type": "code",
   "execution_count": null,
   "metadata": {},
   "outputs": [],
   "source": [
    "# Grouped bar chart with isolated means and medians\n",
    "# Means\n",
    "mean_group_fig = mean_by_state.plot.bar(rot=45)\n",
    "\n",
    "plt.ylabel(\"Mean of MMR Innoculation Rates\")\n",
    "plt.xlabel(\"State\")\n",
    "plt.title(\"Mean of MMR Innoculation Rates across States and School Types in Dataset\", fontsize=15)\n",
    "plt.legend(loc=\"center\")\n",
    "\n",
    "tick_locations = [value for value in x_axis]\n",
    "plt.xticks(tick_locations, states, rotation=\"45\", fontsize=12)\n",
    "\n",
    "plt.show()"
   ]
  },
  {
   "cell_type": "code",
   "execution_count": null,
   "metadata": {},
   "outputs": [],
   "source": [
    "# Melissa's code ends above\n",
    "# Rylee's code begins here!"
   ]
  },
  {
   "cell_type": "code",
   "execution_count": null,
   "metadata": {},
   "outputs": [],
   "source": [
    "# # Borrowed Melissa's variables in order to pull out values based on type\n",
    "# # Set up Public, Private, Kindergarten, and Other dataframes\n",
    "\n",
    "# public_stats = measles_clean.loc[measles_clean[\"type\"] == \"Public\"]\n",
    "# # public_stats\n",
    "\n",
    "# private_stats = measles_clean.loc[measles_clean[\"type\"] == \"Private\"]\n",
    "# # private_stats\n",
    "\n",
    "# kindergarten_stats = measles_clean.loc[measles_clean[\"type\"] == \"Kindergarten\"]\n",
    "# # kindergarten_stats\n",
    "\n",
    "# other_stats = measles_clean.loc[measles_clean[\"type\"] == \"Other\"]\n",
    "# # other_stats"
   ]
  },
  {
   "cell_type": "code",
   "execution_count": null,
   "metadata": {},
   "outputs": [],
   "source": [
    "# # Type averages plot setup\n",
    "\n",
    "# public_mmr_mean = public_stats['mmr'].mean()\n",
    "# # public_mmr_mean\n",
    "\n",
    "# private_mmr_mean = private_stats['mmr'].mean()\n",
    "# # private_mmr_mean\n",
    "\n",
    "# kindergarten_mmr_mean = kindergarten_stats['mmr'].mean()\n",
    "# # kindergarten_mmr_mean\n",
    "\n",
    "# other_mmr_mean = other_stats['mmr'].mean()\n",
    "# # other_mmr_mean"
   ]
  },
  {
   "cell_type": "code",
   "execution_count": null,
   "metadata": {},
   "outputs": [],
   "source": [
    "# Just doing hypothesis testing right now\n",
    "# We are trying to prove that mmr rates vary by school type\n",
    "\n",
    "st.f_oneway(public_stats['mmr'], private_stats['mmr'], kindergarten_stats['mmr'], other_stats['mmr'])"
   ]
  },
  {
   "cell_type": "markdown",
   "metadata": {},
   "source": [
    "ANOVA test for all school types in every state in clean dataset. NULL hypothesis is that the mean and variance in all school types are the same. The extremely small p-value indicates that these datasets are not alike, disproving the NULL. Further analysis needed to determine if one outlier is effecting the data or if there are differences between all that are significant.\n",
    "\n",
    "Will repeat test after dropping outliers as well."
   ]
  },
  {
   "cell_type": "code",
   "execution_count": null,
   "metadata": {},
   "outputs": [],
   "source": [
    "# Taking out the \"other\" school type\n",
    "st.f_oneway(public_stats['mmr'], private_stats['mmr'], kindergarten_stats['mmr'])"
   ]
  },
  {
   "cell_type": "markdown",
   "metadata": {},
   "source": [
    "ANOVA test removing \"Other\" school type with the same NULL hypothesis (all types are the same), returns a very small p-value as well.  This value is not as small, indicating that this type had an impact on the p-value for all types together, but the remaining types still significantly different."
   ]
  },
  {
   "cell_type": "code",
   "execution_count": null,
   "metadata": {},
   "outputs": [],
   "source": [
    "# Taking out the \"kindergarten\" school type\n",
    "st.f_oneway(public_stats['mmr'], private_stats['mmr'], other_stats['mmr'])"
   ]
  },
  {
   "cell_type": "markdown",
   "metadata": {},
   "source": [
    "ANOVA test removing \"Kindergarten\" school type with the same NULL hypothesis (all types are the same), returns a very small p-value as well.  This value is even smaller than the overall p-value, indicating that this type had an impact on the p-value for all types together, but the remaining types still significantly different."
   ]
  },
  {
   "cell_type": "code",
   "execution_count": null,
   "metadata": {},
   "outputs": [],
   "source": [
    "# Taking out the \"private\" school type\n",
    "st.f_oneway(public_stats['mmr'], kindergarten_stats['mmr'], other_stats['mmr'])"
   ]
  },
  {
   "cell_type": "markdown",
   "metadata": {},
   "source": [
    "ANOVA test removing \"Private\" school type with the same NULL hypothesis (all types are the same), returns a very small p-value as well.  This value is very similar to the p-value overall, indicating that this type had a small impact on the p-value for all types together, but the remaining types still significantly different."
   ]
  },
  {
   "cell_type": "code",
   "execution_count": null,
   "metadata": {},
   "outputs": [],
   "source": [
    "# Taking out the \"public\" school type\n",
    "st.f_oneway(private_stats['mmr'], kindergarten_stats['mmr'], other_stats['mmr'])"
   ]
  },
  {
   "cell_type": "markdown",
   "metadata": {},
   "source": [
    "ANOVA test removing \"Public\" school type with the same NULL hypothesis (all types are the same), returns a very small p-value as well.  This value is the largest of the p-values, indicating the other three school types are more similar than any other combination of school types. This tells us that the Public school data differs from the other datasets more."
   ]
  },
  {
   "cell_type": "code",
   "execution_count": null,
   "metadata": {},
   "outputs": [],
   "source": [
    "# Taking out \"other\" and \"public\" and running a t-test because this is where the p-vals were the largest\n",
    "# when I took them out in the ANOVA\n",
    "st.ttest_ind(private_stats['mmr'], kindergarten_stats['mmr'], equal_var=False)"
   ]
  },
  {
   "cell_type": "markdown",
   "metadata": {},
   "source": [
    "Comparing Private and Kindergarten datasets with a Two Sample T-Test with the NULL hypothesis that the means of both datasets are the same. With a p-value less than 0.05, we can reject the NULL and conclude that the means are different."
   ]
  },
  {
   "cell_type": "code",
   "execution_count": null,
   "metadata": {},
   "outputs": [],
   "source": [
    "# T-test on \"other\" and \"private\"\n",
    "st.ttest_ind(private_stats['mmr'], other_stats['mmr'], equal_var=False)"
   ]
  },
  {
   "cell_type": "markdown",
   "metadata": {},
   "source": [
    "Comparing Private and Other types with a Two Sample T-Test with the NULL hypothesis that the means of both datasets are the same. With a p-value less than 0.05, we can reject the NULL and conclude that the means are different."
   ]
  },
  {
   "cell_type": "code",
   "execution_count": null,
   "metadata": {},
   "outputs": [],
   "source": [
    "# T-test on \"other\" and \"kindergarten\"\n",
    "st.ttest_ind(other_stats['mmr'], kindergarten_stats['mmr'], equal_var=False)"
   ]
  },
  {
   "cell_type": "markdown",
   "metadata": {},
   "source": [
    "Comparing Other and Kindergarten with the NULL hypothesis that the means of both datasets are the same. With a p-value less than 0.05, we can reject the NULL and conclude that the means are different."
   ]
  },
  {
   "cell_type": "code",
   "execution_count": null,
   "metadata": {},
   "outputs": [],
   "source": [
    "# T-test on \"public\" and \"private\"\n",
    "st.ttest_ind(private_stats['mmr'], public_stats['mmr'], equal_var=False)"
   ]
  },
  {
   "cell_type": "markdown",
   "metadata": {},
   "source": [
    "Comparing Public and Private with the NULL hypothesis that the means of both datasets are the same. With a p-value less than 0.05, we can reject the NULL and conclude that the means are different."
   ]
  },
  {
   "cell_type": "code",
   "execution_count": null,
   "metadata": {},
   "outputs": [],
   "source": [
    "# T-test on \"public\" and \"other\"\n",
    "st.ttest_ind(other_stats['mmr'], public_stats['mmr'], equal_var=False)"
   ]
  },
  {
   "cell_type": "markdown",
   "metadata": {},
   "source": [
    "Comparing Public and Other with the NULL hypothesis that the means of both datasets are the same. With a p-value less than 0.05, we can reject the NULL and conclude that the means are different."
   ]
  },
  {
   "cell_type": "code",
   "execution_count": null,
   "metadata": {},
   "outputs": [],
   "source": [
    "# Other pairings as determined"
   ]
  },
  {
   "cell_type": "code",
   "execution_count": null,
   "metadata": {},
   "outputs": [],
   "source": [
    "# Rylee's code ends here!"
   ]
  },
  {
   "cell_type": "code",
   "execution_count": null,
   "metadata": {},
   "outputs": [],
   "source": []
  },
  {
   "cell_type": "code",
   "execution_count": null,
   "metadata": {},
   "outputs": [],
   "source": []
  }
 ],
 "metadata": {
  "kernelspec": {
   "display_name": "Python 3",
   "language": "python",
   "name": "python3"
  },
  "language_info": {
   "codemirror_mode": {
    "name": "ipython",
    "version": 3
   },
   "file_extension": ".py",
   "mimetype": "text/x-python",
   "name": "python",
   "nbconvert_exporter": "python",
   "pygments_lexer": "ipython3",
   "version": "3.8.3"
  }
 },
 "nbformat": 4,
 "nbformat_minor": 4
}
